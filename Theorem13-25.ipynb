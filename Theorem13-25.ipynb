{
 "cells": [
  {
   "cell_type": "code",
   "execution_count": 1,
   "metadata": {
    "collapsed": true
   },
   "outputs": [],
   "source": [
    "from z3 import Solver, ForAll, Implies, And\n",
    "from meyer.util.z3py_util import const\n",
    "from meyer.util.z3py_set import set, sets, Inter, included\n",
    "from meyer.program import U, prog, progs, conclude\n",
    "from meyer.feasibility import feasible\n",
    "from meyer.equivalence import eq, eq_set, eq_pre, eq_post, equal\n",
    "from meyer.basic_constructs import Choi, Comp, Rest\n",
    "from meyer.special_programs import Fail, Havoc, Skip, total, havoc\n",
    "from meyer.refinement import is_ref_of\n",
    "\n",
    "s = Solver()"
   ]
  },
  {
   "cell_type": "code",
   "execution_count": 2,
   "metadata": {},
   "outputs": [
    {
     "name": "stdout",
     "output_type": "stream",
     "text": [
      "\u001b[33mP13 (p ; Skip) = p\n",
      "Universe = U, has 3 element(s)\u001b[0m\n",
      "\u001b[36mHolds: unsat\u001b[0m \n",
      "\n"
     ]
    }
   ],
   "source": [
    "title1 = \"P13 (p ; Skip) = p\"\n",
    "p = prog(s, 'p')\n",
    "s.add(feasible(p)) # Additional assumption\n",
    "conclude(s, eq(Comp(p, Skip()), p), title1)"
   ]
  },
  {
   "cell_type": "code",
   "execution_count": 3,
   "metadata": {},
   "outputs": [
    {
     "name": "stdout",
     "output_type": "stream",
     "text": [
      "\u001b[33mP13 (Skip ; p) = p\n",
      "Universe = U, has 3 element(s)\u001b[0m\n",
      "\u001b[36mHolds: unsat\u001b[0m \n",
      "\n"
     ]
    }
   ],
   "source": [
    "title2 = \"P13 (Skip ; p) = p\"\n",
    "p = prog(s, 'p')\n",
    "conclude(s, eq(Comp(Skip(), p), p), title2)"
   ]
  },
  {
   "cell_type": "code",
   "execution_count": 4,
   "metadata": {},
   "outputs": [
    {
     "name": "stdout",
     "output_type": "stream",
     "text": [
      "\u001b[33mP14 (p ∪ Fail) = p\n",
      "Universe = U, has 3 element(s)\u001b[0m\n",
      "\u001b[36mHolds: unsat\u001b[0m \n",
      "\n"
     ]
    }
   ],
   "source": [
    "title1 = \"P14 (p ∪ Fail) = p\"\n",
    "p = prog(s, 'p')\n",
    "conclude(s, eq(Choi(p, Fail()), p), title1)"
   ]
  },
  {
   "cell_type": "code",
   "execution_count": 5,
   "metadata": {},
   "outputs": [
    {
     "name": "stdout",
     "output_type": "stream",
     "text": [
      "\u001b[33mP14 (Fail ∪ p) = p\n",
      "Universe = U, has 3 element(s)\u001b[0m\n",
      "\u001b[36mHolds: unsat\u001b[0m \n",
      "\n"
     ]
    }
   ],
   "source": [
    "title2 = \"P14 (Fail ∪ p) = p\"\n",
    "p = prog(s, 'p')\n",
    "conclude(s, eq(Choi(Fail(), p), p), title2)"
   ]
  },
  {
   "cell_type": "code",
   "execution_count": 6,
   "metadata": {},
   "outputs": [
    {
     "name": "stdout",
     "output_type": "stream",
     "text": [
      "\u001b[33mP15 (p ; Fail) = Fail\n",
      "Universe = U, has 3 element(s)\u001b[0m\n",
      "\u001b[36mHolds: unsat\u001b[0m \n",
      "\n"
     ]
    }
   ],
   "source": [
    "title1 = \"P15 (p ; Fail) = Fail\"\n",
    "p = prog(s, 'p')\n",
    "conclude(s, eq(Comp(p, Fail()), Fail()), title1)"
   ]
  },
  {
   "cell_type": "code",
   "execution_count": 7,
   "metadata": {},
   "outputs": [
    {
     "name": "stdout",
     "output_type": "stream",
     "text": [
      "\u001b[33mP15 (Fail ; p) = Fail\n",
      "Universe = U, has 3 element(s)\u001b[0m\n",
      "\u001b[36mHolds: unsat\u001b[0m \n",
      "\n"
     ]
    }
   ],
   "source": [
    "title2 = \"P15 (Fail ; p) = Fail\"\n",
    "p = prog(s, 'p')\n",
    "conclude(s, eq(Comp(Fail(), p), Fail()), title2)"
   ]
  },
  {
   "cell_type": "code",
   "execution_count": 8,
   "metadata": {},
   "outputs": [
    {
     "name": "stdout",
     "output_type": "stream",
     "text": [
      "\u001b[33mP16 (p ∪ Havoc) = Havoc\n",
      "Universe = U, has 3 element(s)\u001b[0m\n",
      "\u001b[36mHolds: unsat\u001b[0m \n",
      "\n"
     ]
    }
   ],
   "source": [
    "title1 = \"P16 (p ∪ Havoc) = Havoc\"\n",
    "p = prog(s, 'p')\n",
    "conclude(s, eq(Choi(p, Havoc()), Havoc()), title1)"
   ]
  },
  {
   "cell_type": "code",
   "execution_count": 9,
   "metadata": {},
   "outputs": [
    {
     "name": "stdout",
     "output_type": "stream",
     "text": [
      "\u001b[33mP16 (Havoc ∪ p) = Havoc\n",
      "Universe = U, has 3 element(s)\u001b[0m\n",
      "\u001b[36mHolds: unsat\u001b[0m \n",
      "\n"
     ]
    }
   ],
   "source": [
    "title2 = \"P16 (Havoc ∪ p) = Havoc\"\n",
    "p = prog(s, 'p')\n",
    "conclude(s, eq(Choi(Havoc(), p), Havoc()), title2)"
   ]
  },
  {
   "cell_type": "code",
   "execution_count": 22,
   "metadata": {},
   "outputs": [
    {
     "name": "stdout",
     "output_type": "stream",
     "text": [
      "\u001b[33mP17 (p ; Havoc) = (Pre_p: Havoc)\n",
      "Universe = U, has 3 element(s)\u001b[0m\n",
      "\u001b[36mHolds: unsat\u001b[0m \n",
      "\n"
     ]
    }
   ],
   "source": [
    "title = \"P17 (p ; Havoc) = (Pre_p: Havoc)\"\n",
    "p = prog(s, 'p')\n",
    "h = havoc(s)\n",
    "lhs = Comp(p, h)\n",
    "rhs = Rest(p.pre, h)\n",
    "s.add(feasible(p)) # Additional assumption\n",
    "conclude(s, eq(lhs, rhs), title)"
   ]
  },
  {
   "cell_type": "code",
   "execution_count": 11,
   "metadata": {},
   "outputs": [
    {
     "name": "stdout",
     "output_type": "stream",
     "text": [
      "\u001b[33mP18 p ⊆ (C: p)\n",
      "Universe = U, has 3 element(s)\u001b[0m\n",
      "\u001b[36mHolds: unsat\u001b[0m \n",
      "\n"
     ]
    }
   ],
   "source": [
    "title = \"P18 p ⊆ (C: p)\"\n",
    "p = prog(s, 'p')\n",
    "c = set('c', U)\n",
    "conclude(s, is_ref_of(p, Rest(c, p)), title)"
   ]
  },
  {
   "cell_type": "code",
   "execution_count": 12,
   "metadata": {},
   "outputs": [
    {
     "name": "stdout",
     "output_type": "stream",
     "text": [
      "\u001b[33mP19 If D ⊆ C, then (C:p) ⊆ (D:p)\n",
      "Universe = U, has 3 element(s)\u001b[0m\n",
      "\u001b[36mHolds: unsat\u001b[0m \n",
      "\n"
     ]
    }
   ],
   "source": [
    "title = \"P19 If D ⊆ C, then (C:p) ⊆ (D:p)\"\n",
    "p = prog(s, 'p')\n",
    "c, d = sets('c d', U)\n",
    "s.add(included(d, c))\n",
    "conclude(s, is_ref_of(Rest(c, p), Rest(d, p)), title)"
   ]
  },
  {
   "cell_type": "code",
   "execution_count": 13,
   "metadata": {},
   "outputs": [
    {
     "name": "stdout",
     "output_type": "stream",
     "text": [
      "\u001b[33mP20 If q ⊆ p, then (C:q) ⊆ (C:p)\n",
      "Universe = U, has 3 element(s)\u001b[0m\n",
      "\u001b[36mHolds: unsat\u001b[0m \n",
      "\n"
     ]
    }
   ],
   "source": [
    "title = \"P20 If q ⊆ p, then (C:q) ⊆ (C:p)\"\n",
    "p, q = progs(s, 'p q')\n",
    "c = set('c', U)\n",
    "s.add(is_ref_of(q, p))\n",
    "conclude(s, is_ref_of(Rest(c,q), Rest(c,p)), title)"
   ]
  },
  {
   "cell_type": "markdown",
   "metadata": {},
   "source": [
    "feasibleをつけないと，Unknownになったりならなかったりする．運次第で．"
   ]
  },
  {
   "cell_type": "code",
   "execution_count": 14,
   "metadata": {},
   "outputs": [
    {
     "name": "stdout",
     "output_type": "stream",
     "text": [
      "\u001b[33mP21 If q1 ⊆ p1 and q2 ⊆ p2, then (q1 ∪ q2) ⊆ (p1 ∪ p2)\n",
      "Universe = U, has 3 element(s)\u001b[0m\n",
      "\u001b[31mUnholds: sat\u001b[0m\n",
      "set of q2_139\n",
      " else -> True\n",
      "\n",
      "pre of q2_139\n",
      " else -> And(Not(Var(0) == C), Var(0) == A)\n",
      "\n",
      "post of q2_139\n",
      " else ->\n",
      "\t if -> Var(0) == C\n",
      "\t then ->\n",
      "\t\t else -> True\n",
      "\t else ->\n",
      "\t\t if -> And(Not(Var(0) == C), Not(Var(0) == A))\n",
      "\t\t then ->\n",
      "\t\t\t else -> True\n",
      "\t\t else ->\n",
      "\t\t\t else -> True\n",
      "\n",
      "set of p1_127\n",
      " else -> Not(And(Not(Var(0) == A), Var(0) == C))\n",
      "\n",
      "pre of p1_127\n",
      " else -> And(Not(Var(0) == A), Not(Var(0) == C))\n",
      "\n",
      "post of p1_127\n",
      " else ->\n",
      "\t if -> And(Not(Var(0) == A), Var(0) == C)\n",
      "\t then ->\n",
      "\t\t else -> False\n",
      "\t else ->\n",
      "\t\t if -> And(Not(Var(0) == A), Not(Var(0) == C))\n",
      "\t\t then ->\n",
      "\t\t\t else -> And(Not(Var(0) == A), Not(Var(0) == C))\n",
      "\t\t else ->\n",
      "\t\t\t else -> False\n",
      "\n",
      "set of p2_131\n",
      " else -> False\n",
      "\n",
      "pre of p2_131\n",
      " else -> False\n",
      "\n",
      "post of p2_131\n",
      " else ->\n",
      "\t if -> Var(0) == C\n",
      "\t then ->\n",
      "\t\t else -> False\n",
      "\t else ->\n",
      "\t\t if -> And(Not(Var(0) == C), Not(Var(0) == A))\n",
      "\t\t then ->\n",
      "\t\t\t else -> False\n",
      "\t\t else ->\n",
      "\t\t\t else -> False\n",
      "\n",
      "set of q1_135\n",
      " else -> Not(And(Not(Var(0) == A), Var(0) == C))\n",
      "\n",
      "pre of q1_135\n",
      " else -> And(Not(Var(0) == A), Not(Var(0) == C))\n",
      "\n",
      "post of q1_135\n",
      " else ->\n",
      "\t if -> And(Not(Var(0) == A), Var(0) == C)\n",
      "\t then ->\n",
      "\t\t else -> False\n",
      "\t else ->\n",
      "\t\t if -> And(Not(Var(0) == A), Not(Var(0) == C))\n",
      "\t\t then ->\n",
      "\t\t\t else -> And(Not(Var(0) == A), Not(Var(0) == C))\n",
      "\t\t else ->\n",
      "\t\t\t else -> False\n",
      "\n"
     ]
    }
   ],
   "source": [
    "title = \"P21 If q1 ⊆ p1 and q2 ⊆ p2, then (q1 ∪ q2) ⊆ (p1 ∪ p2)\"\n",
    "p1, p2, q1, q2 = progs(s, 'p1 p2 q1 q2')\n",
    "# s.add(eq_pre(p1, p2)) # Additional assumption makes hold\n",
    "s.add(feasible(p1,p2,q1,q1)) # Additional assumption makes counter example\n",
    "s.add(is_ref_of(q1, p1), is_ref_of(q2, p2))\n",
    "conclude(s, is_ref_of(Choi(q1, q2), Choi(p1, p2)), title)"
   ]
  },
  {
   "cell_type": "code",
   "execution_count": 15,
   "metadata": {},
   "outputs": [
    {
     "name": "stdout",
     "output_type": "stream",
     "text": [
      "\u001b[33mP21 If q1 ⊆ p1 and q2 ⊆ p2, then (q1 ; q2) ⊆ (p1 ; p2)\n",
      "Universe = U, has 3 element(s)\u001b[0m\n",
      "\u001b[31mUnholds: sat\u001b[0m\n",
      "set of q2_175\n",
      " else -> True\n",
      "\n",
      "pre of q2_175\n",
      " else -> Var(0) == A\n",
      "\n",
      "post of q2_175\n",
      " else ->\n",
      "\t if -> And(Not(Var(0) == A), Not(Var(0) == C))\n",
      "\t then ->\n",
      "\t\t else -> False\n",
      "\t else ->\n",
      "\t\t else -> False\n",
      "\n",
      "set of q1_171\n",
      " else -> True\n",
      "\n",
      "pre of q1_171\n",
      " else -> And(Not(Var(0) == A), Not(Var(0) == C))\n",
      "\n",
      "post of q1_171\n",
      " else ->\n",
      "\t if -> And(Not(Var(0) == A), Not(Var(0) == C))\n",
      "\t then ->\n",
      "\t\t else -> And(Not(Var(0) == A), Var(0) == C)\n",
      "\t else ->\n",
      "\t\t else -> False\n",
      "\n",
      "set of p1_163\n",
      " else -> True\n",
      "\n",
      "pre of p1_163\n",
      " else -> And(Not(Var(0) == A), Not(Var(0) == C))\n",
      "\n",
      "post of p1_163\n",
      " else ->\n",
      "\t if -> And(Not(Var(0) == A), Var(0) == C)\n",
      "\t then ->\n",
      "\t\t else -> False\n",
      "\t else ->\n",
      "\t\t if -> And(Not(Var(0) == A), Not(Var(0) == C))\n",
      "\t\t then ->\n",
      "\t\t\t else -> True\n",
      "\t\t else ->\n",
      "\t\t\t else -> True\n",
      "\n",
      "set of p2_167\n",
      " else -> True\n",
      "\n",
      "pre of p2_167\n",
      " else -> Var(0) == A\n",
      "\n",
      "post of p2_167\n",
      " else ->\n",
      "\t if -> And(Not(Var(0) == A), Var(0) == C)\n",
      "\t then ->\n",
      "\t\t else -> False\n",
      "\t else ->\n",
      "\t\t if -> And(Not(Var(0) == A), Not(Var(0) == C))\n",
      "\t\t then ->\n",
      "\t\t\t else -> True\n",
      "\t\t else ->\n",
      "\t\t\t else -> True\n",
      "\n"
     ]
    }
   ],
   "source": [
    "title = \"P21 If q1 ⊆ p1 and q2 ⊆ p2, then (q1 ; q2) ⊆ (p1 ; p2)\"\n",
    "p1, p2, q1, q2 = progs(s, 'p1 p2 q1 q2')\n",
    "# s.add(eq_pre(q1, q2)) # additional assumption still not makes hold\n",
    "s.add(feasible(p1,p2,q1,q1)) # additional assumption makes counter example\n",
    "s.add(is_ref_of(q1, p1), is_ref_of(q2, p2))\n",
    "conclude(s, is_ref_of(Comp(q1, q2), Comp(p1, p2)), title)"
   ]
  },
  {
   "cell_type": "markdown",
   "metadata": {},
   "source": [
    "prog_constraintのpre⊆setの条件に使う変数をpostのものと同じにするとunknownになる．他の定理ではどうか？"
   ]
  },
  {
   "cell_type": "code",
   "execution_count": 24,
   "metadata": {},
   "outputs": [
    {
     "name": "stdout",
     "output_type": "stream",
     "text": [
      "\u001b[33mP22 p ⊆ (Pre_p: Havoc) for any p\n",
      "Universe = U, has 3 element(s)\u001b[0m\n",
      "\u001b[31mUnholds: sat\u001b[0m\n",
      "set of p_312\n",
      " else -> False\n",
      "\n",
      "pre of p_312\n",
      " else -> False\n",
      "\n",
      "post of p_312\n",
      " A ->\n",
      "\t else -> False\n",
      " B ->\n",
      "\t else -> False\n",
      " C ->\n",
      "\t else -> False\n",
      " else ->\n",
      "\t else -> True\n",
      "\n",
      "set of havoc_316\n",
      " else -> True\n",
      "\n",
      "pre of havoc_316\n",
      " else -> True\n",
      "\n",
      "post of havoc_316\n",
      " A ->\n",
      "\t else -> True\n",
      " B ->\n",
      "\t else -> True\n",
      " else ->\n",
      "\t else -> True\n",
      "\n"
     ]
    }
   ],
   "source": [
    "title = \"P22 p ⊆ (Pre_p: Havoc) for any p\"\n",
    "p = prog(s, 'p')\n",
    "h = havoc(s)\n",
    "c = set('c', U)\n",
    "#s.add(eq_set(p, h)) # Additional assumption\n",
    "conclude(s, is_ref_of(p, Rest(p.pre, h)), title)"
   ]
  },
  {
   "cell_type": "code",
   "execution_count": 17,
   "metadata": {},
   "outputs": [
    {
     "name": "stdout",
     "output_type": "stream",
     "text": [
      "\u001b[33mP23 p ⊆ Havoc for any total p\n",
      "Universe = U, has 3 element(s)\u001b[0m\n",
      "\u001b[36mHolds: unsat\u001b[0m \n",
      "\n"
     ]
    }
   ],
   "source": [
    "title = \"P23 p ⊆ Havoc for any total p\"\n",
    "p = total(s)\n",
    "conclude(s, is_ref_of(p, Havoc()), title)"
   ]
  },
  {
   "cell_type": "code",
   "execution_count": 18,
   "metadata": {},
   "outputs": [
    {
     "name": "stdout",
     "output_type": "stream",
     "text": [
      "\u001b[33mP24 If p ⊆ Fail then p = Fail\n",
      "Universe = U, has 3 element(s)\u001b[0m\n",
      "\u001b[31mUnholds: sat\u001b[0m\n",
      "set of p_229\n",
      " else -> True\n",
      "\n",
      "pre of p_229\n",
      " else -> False\n",
      "\n",
      "post of p_229\n",
      " else ->\n",
      "\t else -> False\n",
      "\n"
     ]
    }
   ],
   "source": [
    "# if and only if => if, so title1 is ignored.\n",
    "title1 = \"P24 If p ⊆ Fail then p = Fail\"\n",
    "p = prog(s, 'p')\n",
    "s.add(feasible(p))\n",
    "s.add(is_ref_of(p, Fail()))\n",
    "conclude(s, equal(p, Fail()), title1)"
   ]
  },
  {
   "cell_type": "code",
   "execution_count": 19,
   "metadata": {},
   "outputs": [
    {
     "name": "stdout",
     "output_type": "stream",
     "text": [
      "\u001b[33mP24 If p = Fail then p ⊆ Fail\n",
      "Universe = U, has 3 element(s)\u001b[0m\n",
      "\u001b[36mHolds: unsat\u001b[0m \n",
      "\n"
     ]
    }
   ],
   "source": [
    "title2 = \"P24 If p = Fail then p ⊆ Fail\"\n",
    "p = prog(s, 'p')\n",
    "s.add(eq(p, Fail()))\n",
    "conclude(s, is_ref_of(p, Fail()), title2)"
   ]
  },
  {
   "cell_type": "code",
   "execution_count": 20,
   "metadata": {},
   "outputs": [
    {
     "name": "stdout",
     "output_type": "stream",
     "text": [
      "\u001b[33mP25 If Fail ⊆ p then p = Fail\n",
      "Universe = U, has 3 element(s)\u001b[0m\n",
      "\u001b[36mHolds: unsat\u001b[0m \n",
      "\n"
     ]
    }
   ],
   "source": [
    "title1 = \"P25 If Fail ⊆ p then p = Fail\"\n",
    "p = prog(s, 'p')\n",
    "f = Fail()\n",
    "s.add(is_ref_of(f, p))\n",
    "conclude(s, eq(p, f), title1)"
   ]
  },
  {
   "cell_type": "code",
   "execution_count": 21,
   "metadata": {},
   "outputs": [
    {
     "name": "stdout",
     "output_type": "stream",
     "text": [
      "\u001b[33mP25 If p = Fail then Fail ⊆ p\n",
      "Universe = U, has 3 element(s)\u001b[0m\n",
      "\u001b[36mHolds: unsat\u001b[0m \n",
      "\n"
     ]
    }
   ],
   "source": [
    "title2 = \"P25 If p = Fail then Fail ⊆ p\"\n",
    "p = prog(s, 'p')\n",
    "f = Fail()\n",
    "s.add(eq(p, f))\n",
    "s.add(eq_set(p, f)) # Additional assumption\n",
    "conclude(s, is_ref_of(f, p), title2)"
   ]
  }
 ],
 "metadata": {
  "kernelspec": {
   "display_name": "Python 3",
   "language": "python",
   "name": "python3"
  },
  "language_info": {
   "codemirror_mode": {
    "name": "ipython",
    "version": 3
   },
   "file_extension": ".py",
   "mimetype": "text/x-python",
   "name": "python",
   "nbconvert_exporter": "python",
   "pygments_lexer": "ipython3",
   "version": "3.6.0"
  }
 },
 "nbformat": 4,
 "nbformat_minor": 2
}
