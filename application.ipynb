{
 "cells": [
  {
   "cell_type": "code",
   "execution_count": 1,
   "metadata": {
    "collapsed": true
   },
   "outputs": [],
   "source": [
    "from z3 import *\n",
    "from meyer.meyer import set_universe_state, conclude\n",
    "set_universe_state(IntSort())\n",
    "\n",
    "from meyer.program import prog, progs\n",
    "from meyer.equivalence import equal\n",
    "from meyer.implementation import is_impl_of\n",
    "from meyer.contracted_program import contracts\n",
    "from meyer.util.z3py_rel import Empty as EmptyRel\n",
    "\n",
    "s = Solver()"
   ]
  },
  {
   "cell_type": "code",
   "execution_count": 16,
   "metadata": {},
   "outputs": [
    {
     "name": "stdout",
     "output_type": "stream",
     "text": [
      "\u001b[33madding 1 to a preconditon\n",
      "Universe = Int\u001b[0m\n",
      "\u001b[36mHolds: unsat\u001b[0m \n",
      "\n"
     ]
    }
   ],
   "source": [
    "title = \"adding 1 to a preconditon\"\n",
    "p1, p2, p3 = progs(s, \"p1 p2 p3\")\n",
    "\n",
    "s.add(equal(p1, p2), p3.set() == p1.set(), p3.pre(1), p3.post() == EmptyRel())\n",
    "conclude(s, p2 | p3 <= p1, title)"
   ]
  },
  {
   "cell_type": "code",
   "execution_count": 15,
   "metadata": {},
   "outputs": [
    {
     "name": "stdout",
     "output_type": "stream",
     "text": [
      "\u001b[33mUniverse = Int\u001b[0m\n",
      "\u001b[36mHolds: unsat\u001b[0m \n",
      "\n"
     ]
    }
   ],
   "source": [
    "title = \"addition contract\"\n",
    "p1, p2 = progs(s, \"p1 p2\")\n",
    "\n",
    "x,y = Ints('x y')\n",
    "s.add(p1.set() == p2.set(), p1.pre() == p2.pre())\n",
    "s.add(+p1, ForAll([x,y], p1.post(x,y) == (y > x)))\n",
    "s.add(+p2, ForAll([x,y], p2.post(x,y) == (y == x + 1)))\n",
    "\n",
    "conclude(s, contracts(p2, p1), title)"
   ]
  },
  {
   "cell_type": "code",
   "execution_count": 3,
   "metadata": {},
   "outputs": [
    {
     "name": "stdout",
     "output_type": "stream",
     "text": [
      "\u001b[33msum of 1st digit and 2nd digit\n",
      "Universe = Int\u001b[0m\n",
      "\u001b[36mHolds: unsat\u001b[0m \n",
      "\n"
     ]
    }
   ],
   "source": [
    "title = \"sum of 1st digit and 2nd digit\" # multiple arguments!!\n",
    "p1, p2 = progs(s, \"p1 p2\")\n",
    "s.add(+p1, +p2)\n",
    "s.add(p1.set() == p2.set(), p1.pre() == p2.pre())\n",
    "\n",
    "x,y = Ints('x y')\n",
    "s.add(ForAll([x, y], And(p1.post(x, y) == (x % 10 + x / 10 == y))))\n",
    "s.add(ForAll([x, y], p2.post(x, y) == And([And(x == i, y == j) for i, j in [(24, 6)]])))\n",
    "\n",
    "conclude(s, contracts(p2, p1), title)\n",
    "# if there is at least one pair that matches p1's condition, p2 unfortunately becomes contracted program, otherwise unknown"
   ]
  },
  {
   "cell_type": "code",
   "execution_count": 4,
   "metadata": {},
   "outputs": [
    {
     "name": "stdout",
     "output_type": "stream",
     "text": [
      "\u001b[33mdouble\n",
      "Universe = Int\u001b[0m\n",
      "\u001b[31mUnholds: unknown\u001b[0m\n",
      "\u001b[31msmt tactic failed to show goal to be sat/unsat (incomplete quantifiers)\u001b[0m \n",
      "\n"
     ]
    }
   ],
   "source": [
    "title = \"double\" # p2 is an example program to double input value\n",
    "p1, p2 = progs(s, \"p1 p2\")\n",
    "s.add(+p1, +p2)\n",
    "s.add(p1.set() == p2.set(), p1.pre() == p2.pre())\n",
    "\n",
    "x,y = Ints('x y')\n",
    "s.add(ForAll([x, y], p1.post(x, y) == (x * 2 == y)))\n",
    "s.add(ForAll([x, y], p2.post(x, y) == And([And(x == i, y == j) for i, j in [(1, 2)]])))\n",
    "conclude(s, contracts(p2, p1), title)\n",
    "# if there is at least one pair that matches p1's condition, p2 unfortunately becomes contracted program, otherwise unknown"
   ]
  }
 ],
 "metadata": {
  "kernelspec": {
   "display_name": "Python 3",
   "language": "python",
   "name": "python3"
  },
  "language_info": {
   "codemirror_mode": {
    "name": "ipython",
    "version": 3
   },
   "file_extension": ".py",
   "mimetype": "text/x-python",
   "name": "python",
   "nbconvert_exporter": "python",
   "pygments_lexer": "ipython3",
   "version": "3.6.2"
  }
 },
 "nbformat": 4,
 "nbformat_minor": 2
}
