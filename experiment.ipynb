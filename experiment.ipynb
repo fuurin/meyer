{
 "cells": [
  {
   "cell_type": "code",
   "execution_count": 9,
   "metadata": {},
   "outputs": [
    {
     "name": "stdout",
     "output_type": "stream",
     "text": [
      "this is method 2 and calls method 1\n",
      "this is method 1\n",
      "this is method 3 and overrided from method 3\n",
      "True\n",
      "True\n"
     ]
    }
   ],
   "source": [
    "class A():\n",
    "    def method1(self):\n",
    "        print(\"this is method 1\")\n",
    "    \n",
    "    def method3(self):\n",
    "        print(\"this is method 3\")\n",
    "\n",
    "class B(A):\n",
    "    def method2(self):\n",
    "        print(\"this is method 2 and calls method 1\")\n",
    "        self.method1()\n",
    "    \n",
    "    def method3(self):\n",
    "        print(\"this is method 3 and overrided from method 3\")\n",
    "\n",
    "b = B()\n",
    "b.method2()\n",
    "b.method3()\n",
    "print(isinstance(b, B))\n",
    "print(isinstance(b, A))"
   ]
  },
  {
   "cell_type": "code",
   "execution_count": 3,
   "metadata": {},
   "outputs": [
    {
     "name": "stdout",
     "output_type": "stream",
     "text": [
      "this is method1\n"
     ]
    }
   ],
   "source": [
    "class C():\n",
    "    def method1(self):\n",
    "        print(\"this is method1\")\n",
    "        \n",
    "    def __call__(self):\n",
    "        self.method1()\n",
    "\n",
    "c = C()\n",
    "c()"
   ]
  },
  {
   "cell_type": "code",
   "execution_count": 1,
   "metadata": {},
   "outputs": [
    {
     "name": "stdout",
     "output_type": "stream",
     "text": [
      "this is global\n"
     ]
    }
   ],
   "source": [
    "def global_method():\n",
    "    print(\"this is global\")\n",
    "\n",
    "class D():\n",
    "    def call_global_method(self):\n",
    "        global_method()\n",
    "\n",
    "d = D()\n",
    "d.call_global_method()"
   ]
  },
  {
   "cell_type": "code",
   "execution_count": 6,
   "metadata": {},
   "outputs": [
    {
     "name": "stdout",
     "output_type": "stream",
     "text": [
      "__add__\n"
     ]
    }
   ],
   "source": [
    "class Foo():\n",
    "    def __add__(self, other):\n",
    "        print(\"__add__\")\n",
    "        \n",
    "class Bar():\n",
    "    def __radd__(self, other):\n",
    "        print(\"__radd__\")\n",
    "\n",
    "x = Foo()\n",
    "y = Bar()\n",
    "x + y"
   ]
  },
  {
   "cell_type": "code",
   "execution_count": 5,
   "metadata": {},
   "outputs": [
    {
     "name": "stdout",
     "output_type": "stream",
     "text": [
      "True\n",
      "False\n"
     ]
    }
   ],
   "source": [
    "def triple(b):\n",
    "    return \"True\" if b else \"False\"\n",
    "print(triple(True))\n",
    "print(triple(False)"
   ]
  },
  {
   "cell_type": "code",
   "execution_count": 17,
   "metadata": {},
   "outputs": [
    {
     "data": {
      "text/plain": [
       "True"
      ]
     },
     "execution_count": 17,
     "metadata": {},
     "output_type": "execute_result"
    }
   ],
   "source": [
    "import inspect\n",
    "class A():\n",
    "    def p_method(self):\n",
    "        print(\"method\")\n",
    "a = A()\n",
    "inspect.ismethod(a.p_method)"
   ]
  },
  {
   "cell_type": "code",
   "execution_count": 23,
   "metadata": {},
   "outputs": [
    {
     "name": "stdout",
     "output_type": "stream",
     "text": [
      "class A method\n",
      "class B method\n"
     ]
    }
   ],
   "source": [
    "class A():\n",
    "    def __origin(self):\n",
    "        print('class A method')\n",
    "    def _origin(self):\n",
    "        print('class A method')\n",
    "    def method1(self):\n",
    "        self.__origin()\n",
    "    def method2(self):\n",
    "        self._origin()\n",
    "        \n",
    "class B(A):\n",
    "    def __origin(self):\n",
    "        print('class B method')\n",
    "    def _origin(self):\n",
    "        print('class B method')\n",
    "\n",
    "b = B()\n",
    "b.method1()\n",
    "b.method2()"
   ]
  },
  {
   "cell_type": "code",
   "execution_count": 1,
   "metadata": {},
   "outputs": [
    {
     "name": "stdout",
     "output_type": "stream",
     "text": [
      "no solution\n"
     ]
    }
   ],
   "source": [
    "from z3 import solve, Bools, Implies, Or\n",
    "a, b, c = Bools('a b c')\n",
    "lhs = Implies(a, Or(b, c))\n",
    "rhs = Or(Implies(a, b), Implies(a, c))\n",
    "solve(lhs != rhs)"
   ]
  },
  {
   "cell_type": "code",
   "execution_count": 3,
   "metadata": {},
   "outputs": [
    {
     "name": "stdout",
     "output_type": "stream",
     "text": [
      "no solution\n"
     ]
    }
   ],
   "source": [
    "from z3 import solve, Bools, And, Implies\n",
    "a, b = Bools('a b')\n",
    "solve((a == b) != And(Implies(a, b), Implies(b, a)))"
   ]
  },
  {
   "cell_type": "code",
   "execution_count": 2,
   "metadata": {},
   "outputs": [
    {
     "name": "stdout",
     "output_type": "stream",
     "text": [
      "no solution\n"
     ]
    }
   ],
   "source": [
    "from z3 import And, solve, Bools\n",
    "a, b = Bools('a b')\n",
    "solve(And([a == b, a != b]))"
   ]
  },
  {
   "cell_type": "code",
   "execution_count": 4,
   "metadata": {},
   "outputs": [
    {
     "data": {
      "text/plain": [
       "[(1, 4), (2, 5), (3, 6)]"
      ]
     },
     "execution_count": 4,
     "metadata": {},
     "output_type": "execute_result"
    }
   ],
   "source": [
    "[(a, b) for a, b in [(1,4), (2,5), (3,6)]]"
   ]
  },
  {
   "cell_type": "code",
   "execution_count": 15,
   "metadata": {},
   "outputs": [
    {
     "name": "stdout",
     "output_type": "stream",
     "text": [
      "x + 0\n"
     ]
    }
   ],
   "source": [
    "from z3 import *\n",
    "x = Int('x')\n",
    "print(x + 10%10)"
   ]
  },
  {
   "cell_type": "code",
   "execution_count": 7,
   "metadata": {},
   "outputs": [
    {
     "name": "stdout",
     "output_type": "stream",
     "text": [
      "sat\n",
      "[y = 2, x = 1]\n"
     ]
    }
   ],
   "source": [
    "from z3 import *\n",
    "s = Solver()\n",
    "x, y = Ints('x y')\n",
    "s.add(Not(Implies(And(x == 1, y == 2), ForAll([x, y], x * 2 == y))))\n",
    "print(s.check())\n",
    "print(s.model())"
   ]
  }
 ],
 "metadata": {
  "kernelspec": {
   "display_name": "Python 3",
   "language": "python",
   "name": "python3"
  },
  "language_info": {
   "codemirror_mode": {
    "name": "ipython",
    "version": 3
   },
   "file_extension": ".py",
   "mimetype": "text/x-python",
   "name": "python",
   "nbconvert_exporter": "python",
   "pygments_lexer": "ipython3",
   "version": "3.6.2"
  }
 },
 "nbformat": 4,
 "nbformat_minor": 2
}
