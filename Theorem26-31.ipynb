{
 "cells": [
  {
   "cell_type": "code",
   "execution_count": 1,
   "metadata": {
    "collapsed": true
   },
   "outputs": [],
   "source": [
    "from z3 import Solver\n",
    "from meyer.util.z3py_set import set, sets\n",
    "from meyer.program import prog, progs, conclude\n",
    "from meyer.equivalence import eq, eq_set, eq_pre, eq_post\n",
    "from meyer.feasibility import feasible\n",
    "from meyer.basic_constructs import Choi, Comp, Rest, Corest\n",
    "from meyer.refinement import is_ref_of\n",
    "from meyer.special_programs import Skip\n",
    "\n",
    "s = Solver()"
   ]
  },
  {
   "cell_type": "markdown",
   "metadata": {},
   "source": [
    "equalではないが，equivalence"
   ]
  },
  {
   "cell_type": "code",
   "execution_count": 2,
   "metadata": {},
   "outputs": [
    {
     "name": "stdout",
     "output_type": "stream",
     "text": [
      "\u001b[33mP26 (p \\ C) = (p; (C: Skip))\n",
      "Universe = U, has 3 element(s)\u001b[0m\n",
      "\u001b[36mHolds: unsat\u001b[0m \n",
      "\n"
     ]
    }
   ],
   "source": [
    "title = \"P26 (p \\ C) = (p; (C: Skip))\"\n",
    "p = prog(s, 'p')\n",
    "C = set('C')\n",
    "lhs = Corest(p, C)\n",
    "rhs = Comp(p, Rest(C, Skip()))\n",
    "conclude(s, eq(lhs, rhs), title)"
   ]
  },
  {
   "cell_type": "markdown",
   "metadata": {},
   "source": [
    "P27 U=Intのとき反例を生成"
   ]
  },
  {
   "cell_type": "code",
   "execution_count": 3,
   "metadata": {},
   "outputs": [
    {
     "name": "stdout",
     "output_type": "stream",
     "text": [
      "\u001b[33mP27 (p1 ∪ p2) \\ C = (p1 \\ C) ∪ (p2 \\ C)\n",
      "Universe = U, has 3 element(s)\u001b[0m\n",
      "\u001b[36mHolds: unsat\u001b[0m \n",
      "\n"
     ]
    }
   ],
   "source": [
    "title = \"P27 (p1 ∪ p2) \\ C = (p1 \\ C) ∪ (p2 \\ C)\"\n",
    "p1, p2 = progs(s, 'p1 p2')\n",
    "C = set('C')\n",
    "s.add(eq_pre(p1, p2)) # Additional assumption\n",
    "# s.add(feasible(p1, p2)) # makes counter example\n",
    "lhs = Corest(Choi(p1, p2), C)\n",
    "rhs = Choi(Corest(p1, C), Corest(p2, C))\n",
    "conclude(s, eq(lhs, rhs), title)"
   ]
  },
  {
   "cell_type": "code",
   "execution_count": 4,
   "metadata": {},
   "outputs": [
    {
     "name": "stdout",
     "output_type": "stream",
     "text": [
      "\u001b[33mP28 (p1 ; p2) \\ C = p1 ; (p2 \\ C)\n",
      "Universe = U, has 3 element(s)\u001b[0m\n",
      "\u001b[36mHolds: unsat\u001b[0m \n",
      "\n"
     ]
    }
   ],
   "source": [
    "title = \"P28 (p1 ; p2) \\ C = p1 ; (p2 \\ C)\"\n",
    "p1, p2 = progs(s, 'p1 p2')\n",
    "C = set('C')\n",
    "lhs = Corest(Comp(p1, p2), C)\n",
    "rhs = Comp(p1, Corest(p2, C))\n",
    "conclude(s, eq(lhs, rhs), title)"
   ]
  },
  {
   "cell_type": "markdown",
   "metadata": {},
   "source": [
    "P29 U=A,B,Cのとき反例を生成<br>\n",
    "Cではなくpなのか？C:pの可能性はないか？"
   ]
  },
  {
   "cell_type": "code",
   "execution_count": 5,
   "metadata": {},
   "outputs": [
    {
     "name": "stdout",
     "output_type": "stream",
     "text": [
      "\u001b[33mP29 (p \\ C) ⊆ p but (p \\ C) ⊆ C\n",
      "Universe = U, has 3 element(s)\u001b[0m\n",
      "\u001b[36mHolds: unsat\u001b[0m \n",
      "\n"
     ]
    }
   ],
   "source": [
    "title = \"P29 (p \\ C) ⊆ p but (p \\ C) ⊆ C\"\n",
    "p = prog(s, 'p')\n",
    "C = set('C')\n",
    "s.add(feasible(p))\n",
    "# Additional assumption\n",
    "s.add(p.pre <= (p.post() << C))\n",
    "conclude(s, is_ref_of(Corest(p, C), Rest(C, p)), title)"
   ]
  },
  {
   "cell_type": "code",
   "execution_count": 6,
   "metadata": {},
   "outputs": [
    {
     "name": "stdout",
     "output_type": "stream",
     "text": [
      "\u001b[33mP30 If D ⊆ C then (p \\ D) ⊆ (p \\ C)\n",
      "Universe = U, has 3 element(s)\u001b[0m\n",
      "\u001b[36mHolds: unsat\u001b[0m \n",
      "\n"
     ]
    }
   ],
   "source": [
    "title = \"P30 If D ⊆ C then (p \\ D) ⊆ (p \\ C)\"\n",
    "p = prog(s, 'p')\n",
    "D, C = sets('D C')\n",
    "s.add(D <= C)\n",
    "s.add(feasible(p))\n",
    "# Additional assumption\n",
    "s.add(p.pre <= (p.post() << C) * (p.post() << D))\n",
    "conclude(s, is_ref_of(Corest(p, D), Corest(p, C)), title)"
   ]
  }
 ],
 "metadata": {
  "kernelspec": {
   "display_name": "Python 3",
   "language": "python",
   "name": "python3"
  },
  "language_info": {
   "codemirror_mode": {
    "name": "ipython",
    "version": 3
   },
   "file_extension": ".py",
   "mimetype": "text/x-python",
   "name": "python",
   "nbconvert_exporter": "python",
   "pygments_lexer": "ipython3",
   "version": "3.6.2"
  }
 },
 "nbformat": 4,
 "nbformat_minor": 2
}
