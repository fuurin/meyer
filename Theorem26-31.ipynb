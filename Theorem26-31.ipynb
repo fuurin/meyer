{
 "cells": [
  {
   "cell_type": "code",
   "execution_count": 1,
   "metadata": {
    "collapsed": true
   },
   "outputs": [],
   "source": [
    "from z3 import Solver\n",
    "from meyer.meyer import conclude\n",
    "from meyer.program import prog, progs\n",
    "from meyer.equivalence import eq_pre\n",
    "from meyer.special_programs import Skip\n",
    "from meyer.util.z3py_set import set, sets\n",
    "\n",
    "s = Solver()"
   ]
  },
  {
   "cell_type": "code",
   "execution_count": 2,
   "metadata": {},
   "outputs": [
    {
     "name": "stdout",
     "output_type": "stream",
     "text": [
      "\u001b[33mP26 (p \\ C) = (p; (C: Skip))\n",
      "Universe = U, has 3 element(s)\u001b[0m\n",
      "\u001b[36mHolds: unsat\u001b[0m \n",
      "\n"
     ]
    }
   ],
   "source": [
    "title = \"P26 (p \\ C) = (p; (C: Skip))\"\n",
    "p = prog(s, 'p')\n",
    "C = set('C')\n",
    "conclude(s, p // C == p ^ (Skip() / C), title)"
   ]
  },
  {
   "cell_type": "code",
   "execution_count": 7,
   "metadata": {},
   "outputs": [
    {
     "name": "stdout",
     "output_type": "stream",
     "text": [
      "\u001b[33mP27 (p1 ∪ p2) \\ C = (p1 \\ C) ∪ (p2 \\ C)\n",
      "Universe = U, has 3 element(s)\u001b[0m\n",
      "\u001b[36mHolds: unsat\u001b[0m \n",
      "\n"
     ]
    }
   ],
   "source": [
    "title = \"P27 (p1 ∪ p2) \\ C = (p1 \\ C) ∪ (p2 \\ C)\"\n",
    "p1, p2 = progs(s, 'p1 p2')\n",
    "C = set('C')\n",
    "s.add(eq_pre(p1, p2)) # Additional assumption but too strong\n",
    "conclude(s, (p1 | p2) // C == (p1 // C) | (p2 // C), title)"
   ]
  },
  {
   "cell_type": "code",
   "execution_count": 8,
   "metadata": {},
   "outputs": [
    {
     "name": "stdout",
     "output_type": "stream",
     "text": [
      "\u001b[33mP28 (p1 ; p2) \\ C = p1 ; (p2 \\ C)\n",
      "Universe = U, has 3 element(s)\u001b[0m\n",
      "\u001b[36mHolds: unsat\u001b[0m \n",
      "\n"
     ]
    }
   ],
   "source": [
    "title = \"P28 (p1 ; p2) \\ C = p1 ; (p2 \\ C)\"\n",
    "p1, p2 = progs(s, 'p1 p2')\n",
    "C = set('C')\n",
    "conclude(s, (p1 ^ p2) // C == p1 ^ (p2 // C), title)"
   ]
  },
  {
   "cell_type": "markdown",
   "metadata": {},
   "source": [
    "Ha　Corest, 型がおかしい，p.post，特殊な制約"
   ]
  },
  {
   "cell_type": "code",
   "execution_count": 15,
   "metadata": {},
   "outputs": [
    {
     "name": "stdout",
     "output_type": "stream",
     "text": [
      "\u001b[33mP29 (p \\ C) ⊆ p but (p \\ C) ⊆ C\n",
      "Universe = U, has 3 element(s)\u001b[0m\n",
      "\u001b[36mHolds: unsat\u001b[0m \n",
      "\n"
     ]
    }
   ],
   "source": [
    "title = \"P29 (p \\ C) ⊆ p but (p \\ C) ⊆ C\"\n",
    "p = prog(s, 'p')\n",
    "C = set('C')\n",
    "s.add(p.pre <= (p.post() << C)) # Additional assumption but too naive\n",
    "conclude(s, p // C <= p, title)"
   ]
  },
  {
   "cell_type": "code",
   "execution_count": 30,
   "metadata": {},
   "outputs": [
    {
     "name": "stdout",
     "output_type": "stream",
     "text": [
      "\u001b[33mP30 If D ⊆ C then (p \\ D) ⊆ (p \\ C)\n",
      "Universe = U, has 3 element(s)\u001b[0m\n",
      "\u001b[36mHolds: unsat\u001b[0m \n",
      "\n"
     ]
    }
   ],
   "source": [
    "title = \"P30 If D ⊆ C then (p \\ D) ⊆ (p \\ C)\"\n",
    "p = prog(s, 'p')\n",
    "D, C = sets('D C')\n",
    "s.add(p.pre() <= (p.post() << C) & (p.post() << D)) # Additional assumption but too naive\n",
    "s.add(D <= C)\n",
    "conclude(s, p // D <= p // C, title)"
   ]
  }
 ],
 "metadata": {
  "kernelspec": {
   "display_name": "Python 3",
   "language": "python",
   "name": "python3"
  },
  "language_info": {
   "codemirror_mode": {
    "name": "ipython",
    "version": 3
   },
   "file_extension": ".py",
   "mimetype": "text/x-python",
   "name": "python",
   "nbconvert_exporter": "python",
   "pygments_lexer": "ipython3",
   "version": "3.6.2"
  }
 },
 "nbformat": 4,
 "nbformat_minor": 2
}
