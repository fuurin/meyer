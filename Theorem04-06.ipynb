{
 "cells": [
  {
   "cell_type": "markdown",
   "metadata": {},
   "source": [
    "## P4 詳細化関係は前順序関係である\n",
    "前順序関係とは，ある関係が反射律と推移律を満たすことを言う．<br>\n",
    "さらに，プログラムの同値関係が*equivalence*で良いとき，詳細化関係は反対称律を満たし，順序関係となる．"
   ]
  },
  {
   "cell_type": "code",
   "execution_count": 1,
   "metadata": {
    "collapsed": true
   },
   "outputs": [],
   "source": [
    "from z3 import Solver\n",
    "from meyer.meyer import conclude\n",
    "from meyer.program import prog, progs\n",
    "from meyer.equivalence import equal\n",
    "from meyer.util.z3py_set import set\n",
    "\n",
    "s = Solver()"
   ]
  },
  {
   "cell_type": "markdown",
   "metadata": {},
   "source": [
    "## 反射律\n",
    "### $$ \\forall{p}. \\ p \\subseteq p $$"
   ]
  },
  {
   "cell_type": "code",
   "execution_count": 2,
   "metadata": {},
   "outputs": [
    {
     "name": "stdout",
     "output_type": "stream",
     "text": [
      "[And(ForAll(x_2, Implies(pre(p_1)[x_2], set(p_1)[x_2])),\n",
      "     ForAll([x_3, y_4],\n",
      "            Implies(post(p_1)[x_3][y_4],\n",
      "                    And(set(p_1)[x_3], set(p_1)[y_4])))),\n",
      " Not(And(ForAll(x_5, Implies(set(p_1)[x_5], set(p_1)[x_5])),\n",
      "         ForAll(x_6, Implies(pre(p_1)[x_6], pre(p_1)[x_6])),\n",
      "         ForAll([x_7, y_8],\n",
      "                Implies(And(post(p_1)[x_7][y_8],\n",
      "                            pre(p_1)[x_7]),\n",
      "                        post(p_1)[x_7][y_8]))))]\n",
      "\u001b[33mReflexive\n",
      "Universe = U, has 3 element(s)\u001b[0m\n",
      "\u001b[36mHolds: unsat\u001b[0m \n",
      "\n"
     ]
    }
   ],
   "source": [
    "title = \"Reflexive\"\n",
    "p = prog(s, 'p')\n",
    "conclude(s, p <= p, title)"
   ]
  },
  {
   "cell_type": "markdown",
   "metadata": {
    "collapsed": true
   },
   "source": [
    "## 反対称律\n",
    "### $$ \\forall{p_1}\\forall{p_2}. \\ ( \\ p_1 \\subseteq p_2 \\ \\land \\ p_2 \\subseteq p_1 \\ ) \\rightarrow p_1 = p_2 $$\n",
    "プログラムの同値関係が*equivalence*で良いとき成り立つ．"
   ]
  },
  {
   "cell_type": "code",
   "execution_count": 3,
   "metadata": {},
   "outputs": [
    {
     "name": "stdout",
     "output_type": "stream",
     "text": [
      "[And(ForAll(x_10, Implies(pre(p1_9)[x_10], set(p1_9)[x_10])),\n",
      "     ForAll([x_11, y_12],\n",
      "            Implies(post(p1_9)[x_11][y_12],\n",
      "                    And(set(p1_9)[x_11], set(p1_9)[y_12])))),\n",
      " And(ForAll(x_14,\n",
      "            Implies(pre(p2_13)[x_14], set(p2_13)[x_14])),\n",
      "     ForAll([x_15, y_16],\n",
      "            Implies(post(p2_13)[x_15][y_16],\n",
      "                    And(set(p2_13)[x_15], set(p2_13)[y_16])))),\n",
      " And(ForAll(x_17,\n",
      "            Implies(set(p2_13)[x_17], set(p1_9)[x_17])),\n",
      "     ForAll(x_18,\n",
      "            Implies(pre(p2_13)[x_18], pre(p1_9)[x_18])),\n",
      "     ForAll([x_19, y_20],\n",
      "            Implies(And(post(p1_9)[x_19][y_20],\n",
      "                        pre(p2_13)[x_19]),\n",
      "                    post(p2_13)[x_19][y_20]))),\n",
      " And(ForAll(x_21,\n",
      "            Implies(set(p1_9)[x_21], set(p2_13)[x_21])),\n",
      "     ForAll(x_22,\n",
      "            Implies(pre(p1_9)[x_22], pre(p2_13)[x_22])),\n",
      "     ForAll([x_23, y_24],\n",
      "            Implies(And(post(p2_13)[x_23][y_24],\n",
      "                        pre(p1_9)[x_23]),\n",
      "                    post(p1_9)[x_23][y_24]))),\n",
      " Not(And(ForAll(x_25, pre(p1_9)[x_25] == pre(p2_13)[x_25]),\n",
      "         ForAll([x_26, y_27],\n",
      "                And(post(p1_9)[x_26][y_27], pre(p1_9)[x_26]) ==\n",
      "                And(post(p2_13)[x_26][y_27],\n",
      "                    pre(p2_13)[x_26]))))]\n",
      "\u001b[33mantisymmetric\n",
      "Universe = U, has 3 element(s)\u001b[0m\n",
      "\u001b[36mHolds: unsat\u001b[0m \n",
      "\n"
     ]
    }
   ],
   "source": [
    "title = \"antisymmetric\"\n",
    "p1, p2 = progs(s, 'p1 p2')\n",
    "s.add(p1 <= p2, p2 <= p1)\n",
    "conclude(s, p1 == p2, title)"
   ]
  },
  {
   "cell_type": "code",
   "execution_count": 4,
   "metadata": {},
   "outputs": [
    {
     "name": "stdout",
     "output_type": "stream",
     "text": [
      "[And(ForAll(x_29,\n",
      "            Implies(pre(p1_28)[x_29], set(p1_28)[x_29])),\n",
      "     ForAll([x_30, y_31],\n",
      "            Implies(post(p1_28)[x_30][y_31],\n",
      "                    And(set(p1_28)[x_30], set(p1_28)[y_31])))),\n",
      " And(ForAll(x_33,\n",
      "            Implies(pre(p2_32)[x_33], set(p2_32)[x_33])),\n",
      "     ForAll([x_34, y_35],\n",
      "            Implies(post(p2_32)[x_34][y_35],\n",
      "                    And(set(p2_32)[x_34], set(p2_32)[y_35])))),\n",
      " And(ForAll(x_36,\n",
      "            Implies(set(p2_32)[x_36], set(p1_28)[x_36])),\n",
      "     ForAll(x_37,\n",
      "            Implies(pre(p2_32)[x_37], pre(p1_28)[x_37])),\n",
      "     ForAll([x_38, y_39],\n",
      "            Implies(And(post(p1_28)[x_38][y_39],\n",
      "                        pre(p2_32)[x_38]),\n",
      "                    post(p2_32)[x_38][y_39]))),\n",
      " And(ForAll(x_40,\n",
      "            Implies(set(p1_28)[x_40], set(p2_32)[x_40])),\n",
      "     ForAll(x_41,\n",
      "            Implies(pre(p1_28)[x_41], pre(p2_32)[x_41])),\n",
      "     ForAll([x_42, y_43],\n",
      "            Implies(And(post(p2_32)[x_42][y_43],\n",
      "                        pre(p1_28)[x_42]),\n",
      "                    post(p1_28)[x_42][y_43]))),\n",
      " Not(And(ForAll(x_44, set(p1_28)[x_44] == set(p2_32)[x_44]),\n",
      "         ForAll(x_45, pre(p1_28)[x_45] == pre(p2_32)[x_45]),\n",
      "         ForAll([x_46, y_47],\n",
      "                post(p1_28)[x_46][y_47] ==\n",
      "                post(p2_32)[x_46][y_47])))]\n",
      "\u001b[33mantisymmetric equal\n",
      "Universe = U, has 3 element(s)\u001b[0m\n",
      "\u001b[31mUnholds: sat\u001b[0m\n",
      "set of p1_28\n",
      " else -> True\n",
      "\n",
      "pre of p1_28\n",
      " else -> False\n",
      "\n",
      "post of p1_28\n",
      " B ->\n",
      "\t else -> False\n",
      " else ->\n",
      "\t else -> False\n",
      "\n",
      "set of p2_32\n",
      " else -> True\n",
      "\n",
      "pre of p2_32\n",
      " else -> False\n",
      "\n",
      "post of p2_32\n",
      " B ->\n",
      "\t else -> True\n",
      " else ->\n",
      "\t else -> False\n",
      "\n"
     ]
    }
   ],
   "source": [
    "title = \"antisymmetric equal\"\n",
    "p1, p2 = progs(s, 'p1 p2')\n",
    "s.add(p1 <= p2, p2 <= p1)\n",
    "conclude(s, equal(p1, p2), title)"
   ]
  },
  {
   "cell_type": "markdown",
   "metadata": {},
   "source": [
    "## 推移律\n",
    "### $$ \\forall p_1 \\forall p_2 \\forall p_3 . \\ ( \\ p_1 \\subseteq p_2 \\ \\land \\ p_2 \\subseteq p_3 \\ ) \\ \\rightarrow \\ p_1 \\subseteq p_3 $$ "
   ]
  },
  {
   "cell_type": "code",
   "execution_count": 5,
   "metadata": {},
   "outputs": [
    {
     "name": "stdout",
     "output_type": "stream",
     "text": [
      "[And(ForAll(x_49,\n",
      "            Implies(pre(p1_48)[x_49], set(p1_48)[x_49])),\n",
      "     ForAll([x_50, y_51],\n",
      "            Implies(post(p1_48)[x_50][y_51],\n",
      "                    And(set(p1_48)[x_50], set(p1_48)[y_51])))),\n",
      " And(ForAll(x_53,\n",
      "            Implies(pre(p2_52)[x_53], set(p2_52)[x_53])),\n",
      "     ForAll([x_54, y_55],\n",
      "            Implies(post(p2_52)[x_54][y_55],\n",
      "                    And(set(p2_52)[x_54], set(p2_52)[y_55])))),\n",
      " And(ForAll(x_57,\n",
      "            Implies(pre(p3_56)[x_57], set(p3_56)[x_57])),\n",
      "     ForAll([x_58, y_59],\n",
      "            Implies(post(p3_56)[x_58][y_59],\n",
      "                    And(set(p3_56)[x_58], set(p3_56)[y_59])))),\n",
      " And(ForAll(x_60,\n",
      "            Implies(set(p2_52)[x_60], set(p1_48)[x_60])),\n",
      "     ForAll(x_61,\n",
      "            Implies(pre(p2_52)[x_61], pre(p1_48)[x_61])),\n",
      "     ForAll([x_62, y_63],\n",
      "            Implies(And(post(p1_48)[x_62][y_63],\n",
      "                        pre(p2_52)[x_62]),\n",
      "                    post(p2_52)[x_62][y_63]))),\n",
      " And(ForAll(x_64,\n",
      "            Implies(set(p3_56)[x_64], set(p2_52)[x_64])),\n",
      "     ForAll(x_65,\n",
      "            Implies(pre(p3_56)[x_65], pre(p2_52)[x_65])),\n",
      "     ForAll([x_66, y_67],\n",
      "            Implies(And(post(p2_52)[x_66][y_67],\n",
      "                        pre(p3_56)[x_66]),\n",
      "                    post(p3_56)[x_66][y_67]))),\n",
      " Not(And(ForAll(x_68,\n",
      "                Implies(set(p3_56)[x_68], set(p1_48)[x_68])),\n",
      "         ForAll(x_69,\n",
      "                Implies(pre(p3_56)[x_69], pre(p1_48)[x_69])),\n",
      "         ForAll([x_70, y_71],\n",
      "                Implies(And(post(p1_48)[x_70][y_71],\n",
      "                            pre(p3_56)[x_70]),\n",
      "                        post(p3_56)[x_70][y_71]))))]\n",
      "\u001b[33mtransitive\n",
      "Universe = U, has 3 element(s)\u001b[0m\n",
      "\u001b[36mHolds: unsat\u001b[0m \n",
      "\n"
     ]
    }
   ],
   "source": [
    "title = \"transitive\"\n",
    "p1, p2, p3 = progs(s, 'p1 p2 p3')\n",
    "s.add(p1 <= p2, p2 <= p3)\n",
    "conclude(s, p1 <= p3, title)"
   ]
  },
  {
   "cell_type": "markdown",
   "metadata": {},
   "source": [
    "## P5 実装を持つ仕様/プログラムは実行可能である"
   ]
  },
  {
   "cell_type": "code",
   "execution_count": 6,
   "metadata": {},
   "outputs": [
    {
     "name": "stdout",
     "output_type": "stream",
     "text": [
      "[And(ForAll(x_73,\n",
      "            Implies(pre(p1_72)[x_73], set(p1_72)[x_73])),\n",
      "     ForAll([x_74, y_75],\n",
      "            Implies(post(p1_72)[x_74][y_75],\n",
      "                    And(set(p1_72)[x_74], set(p1_72)[y_75])))),\n",
      " And(ForAll(x_77,\n",
      "            Implies(pre(p2_76)[x_77], set(p2_76)[x_77])),\n",
      "     ForAll([x_78, y_79],\n",
      "            Implies(post(p2_76)[x_78][y_79],\n",
      "                    And(set(p2_76)[x_78], set(p2_76)[y_79])))),\n",
      " And(ForAll(x_80,\n",
      "            Implies(pre(p1_72)[x_80],\n",
      "                    Exists(x_82, post(p1_72)[x_80][x_82]))),\n",
      "     And(ForAll(x_83,\n",
      "                Implies(set(p2_76)[x_83], set(p1_72)[x_83])),\n",
      "         ForAll(x_84,\n",
      "                Implies(pre(p2_76)[x_84], pre(p1_72)[x_84])),\n",
      "         ForAll([x_85, y_86],\n",
      "                Implies(And(post(p1_72)[x_85][y_86],\n",
      "                            pre(p2_76)[x_85]),\n",
      "                        post(p2_76)[x_85][y_86])))),\n",
      " Not(ForAll(x_87,\n",
      "            Implies(pre(p2_76)[x_87],\n",
      "                    Exists(x_89, post(p2_76)[x_87][x_89]))))]\n",
      "\u001b[33mP5: A specification/program having an implementation is feasible\n",
      "Universe = U, has 3 element(s)\u001b[0m\n",
      "\u001b[36mHolds: unsat\u001b[0m \n",
      "\n"
     ]
    }
   ],
   "source": [
    "title = \"P5: A specification/program having an implementation is feasible\"\n",
    "p1, p2 = progs(s, 'p1 p2')\n",
    "s.add(p1 < p2)\n",
    "conclude(s, +p2, title)"
   ]
  },
  {
   "cell_type": "markdown",
   "metadata": {},
   "source": [
    "## P6 実行可能な演算対象と任意の状態集合に対し，基本演算は実行可能なプログラムを生成する"
   ]
  },
  {
   "cell_type": "code",
   "execution_count": 7,
   "metadata": {},
   "outputs": [
    {
     "name": "stdout",
     "output_type": "stream",
     "text": [
      "[And(ForAll(x_91,\n",
      "            Implies(pre(p1_90)[x_91], set(p1_90)[x_91])),\n",
      "     ForAll([x_92, y_93],\n",
      "            Implies(post(p1_90)[x_92][y_93],\n",
      "                    And(set(p1_90)[x_92], set(p1_90)[y_93])))),\n",
      " And(ForAll(x_95,\n",
      "            Implies(pre(p2_94)[x_95], set(p2_94)[x_95])),\n",
      "     ForAll([x_96, y_97],\n",
      "            Implies(post(p2_94)[x_96][y_97],\n",
      "                    And(set(p2_94)[x_96], set(p2_94)[y_97])))),\n",
      " ForAll(x_98,\n",
      "        Implies(pre(p1_90)[x_98],\n",
      "                Exists(x_100, post(p1_90)[x_98][x_100]))),\n",
      " ForAll(x_101,\n",
      "        Implies(pre(p2_94)[x_101],\n",
      "                Exists(x_103, post(p2_94)[x_101][x_103]))),\n",
      " Not(ForAll(x_104,\n",
      "            Implies(Or(pre(p1_90)[x_104], pre(p2_94)[x_104]),\n",
      "                    Exists(x_106,\n",
      "                           Or(post(p1_90)[x_104][x_106],\n",
      "                              post(p2_94)[x_104][x_106])))))]\n",
      "\u001b[33mP6(Choice): If p1 and p2 are feasible, p1 ∪ p2 is feasible.\n",
      "Universe = U, has 3 element(s)\u001b[0m\n",
      "\u001b[36mHolds: unsat\u001b[0m \n",
      "\n"
     ]
    }
   ],
   "source": [
    "title = \"P6(Choice): If p1 and p2 are feasible, p1 ∪ p2 is feasible.\"\n",
    "p1, p2 = progs(s, 'p1 p2')\n",
    "s.add(+p1, +p2)\n",
    "conclude(s, +(p1 | p2), title)"
   ]
  },
  {
   "cell_type": "code",
   "execution_count": 8,
   "metadata": {},
   "outputs": [
    {
     "name": "stdout",
     "output_type": "stream",
     "text": [
      "[And(ForAll(x_108,\n",
      "            Implies(pre(p1_107)[x_108], set(p1_107)[x_108])),\n",
      "     ForAll([x_109, y_110],\n",
      "            Implies(post(p1_107)[x_109][y_110],\n",
      "                    And(set(p1_107)[x_109],\n",
      "                        set(p1_107)[y_110])))),\n",
      " And(ForAll(x_112,\n",
      "            Implies(pre(p2_111)[x_112], set(p2_111)[x_112])),\n",
      "     ForAll([x_113, y_114],\n",
      "            Implies(post(p2_111)[x_113][y_114],\n",
      "                    And(set(p2_111)[x_113],\n",
      "                        set(p2_111)[y_114])))),\n",
      " ForAll(x_115,\n",
      "        Implies(pre(p1_107)[x_115],\n",
      "                Exists(x_117, post(p1_107)[x_115][x_117]))),\n",
      " ForAll(x_118,\n",
      "        Implies(pre(p2_111)[x_118],\n",
      "                Exists(x_120, post(p2_111)[x_118][x_120]))),\n",
      " Not(ForAll(x_121,\n",
      "            Implies(And(pre(p1_107)[x_121],\n",
      "                        Exists(y_122,\n",
      "                               And(post(p1_107)[x_121][y_122],\n",
      "                                   pre(p2_111)[y_122]))),\n",
      "                    Exists(x_124,\n",
      "                           Exists(a_125,\n",
      "                                  And(And(post(p1_107)[x_121][a_125],\n",
      "                                        pre(p2_111)[a_125]),\n",
      "                                      post(p2_111)[a_125][x_124]))))))]\n",
      "\u001b[33mP6(Composition): If p1 and p2 are feasible, p1;p2 is feasible.\n",
      "Universe = U, has 3 element(s)\u001b[0m\n",
      "\u001b[36mHolds: unsat\u001b[0m \n",
      "\n"
     ]
    }
   ],
   "source": [
    "title = \"P6(Composition): If p1 and p2 are feasible, p1;p2 is feasible.\"\n",
    "p1, p2 = progs(s, 'p1 p2')\n",
    "s.add(+p1, +p2)\n",
    "from meyer.basic_constructs import Comp\n",
    "conclude(s, +(p1 ^ p2), title)"
   ]
  },
  {
   "cell_type": "code",
   "execution_count": 9,
   "metadata": {},
   "outputs": [
    {
     "name": "stdout",
     "output_type": "stream",
     "text": [
      "[And(ForAll(x_127,\n",
      "            Implies(pre(p_126)[x_127], set(p_126)[x_127])),\n",
      "     ForAll([x_128, y_129],\n",
      "            Implies(post(p_126)[x_128][y_129],\n",
      "                    And(set(p_126)[x_128],\n",
      "                        set(p_126)[y_129])))),\n",
      " ForAll(x_131,\n",
      "        Implies(pre(p_126)[x_131],\n",
      "                Exists(x_133, post(p_126)[x_131][x_133]))),\n",
      " Not(ForAll(x_134,\n",
      "            Implies(And(pre(p_126)[x_134], C_130[x_134]),\n",
      "                    Exists(x_136,\n",
      "                           And(post(p_126)[x_134][x_136],\n",
      "                               C_130[x_134])))))]\n",
      "\u001b[33mP6(Restriction): If p is feasible, C:p is feasible.\n",
      "Universe = U, has 3 element(s)\u001b[0m\n",
      "\u001b[36mHolds: unsat\u001b[0m \n",
      "\n"
     ]
    }
   ],
   "source": [
    "title = \"P6(Restriction): If p is feasible, C:p is feasible.\"\n",
    "p = prog(s, 'p')\n",
    "C = set('C')\n",
    "s.add(+p)\n",
    "conclude(s, +(p / C), title)"
   ]
  }
 ],
 "metadata": {
  "kernelspec": {
   "display_name": "Python 3",
   "language": "python",
   "name": "python3"
  },
  "language_info": {
   "codemirror_mode": {
    "name": "ipython",
    "version": 3
   },
   "file_extension": ".py",
   "mimetype": "text/x-python",
   "name": "python",
   "nbconvert_exporter": "python",
   "pygments_lexer": "ipython3",
   "version": "3.6.2"
  }
 },
 "nbformat": 4,
 "nbformat_minor": 2
}
