{
 "cells": [
  {
   "cell_type": "markdown",
   "metadata": {},
   "source": [
    "## 条件分岐"
   ]
  },
  {
   "cell_type": "code",
   "execution_count": 1,
   "metadata": {
    "collapsed": true
   },
   "outputs": [],
   "source": [
    "from z3 import Solver\n",
    "from meyer.util.z3py_set import set, sets\n",
    "from meyer.program import prog, progs, conclude\n",
    "from meyer.equivalence import eq\n",
    "from meyer.feasibility import feasible\n",
    "from meyer.basic_constructs import Rest\n",
    "from meyer.special_programs import Fail\n",
    "from meyer.refinement import is_ref_of\n",
    "from meyer.conditionals import GCond, Ite\n",
    "\n",
    "s = Solver()"
   ]
  },
  {
   "cell_type": "code",
   "execution_count": 2,
   "metadata": {},
   "outputs": [
    {
     "name": "stdout",
     "output_type": "stream",
     "text": [
      "\u001b[33mP44 The guarded conditional is commutative\n",
      "Universe = U, has 3 element(s)\u001b[0m\n",
      "\u001b[36mHolds: unsat\u001b[0m \n",
      "\n"
     ]
    }
   ],
   "source": [
    "title = \"P44 The guarded conditional is commutative\"\n",
    "C1, C2 = sets('C1 C2')\n",
    "p1, p2 = progs(s, 'p1 p2')\n",
    "lhs = GCond(C1, p1, C2, p2)\n",
    "rhs = GCond(C2, p2, C1, p1)\n",
    "conclude(s, eq(lhs, rhs), title)"
   ]
  },
  {
   "cell_type": "code",
   "execution_count": 3,
   "metadata": {
    "collapsed": true
   },
   "outputs": [],
   "source": [
    "title = \"P45 both forms of conditional are associative\"\n",
    "# What associative means now?\n",
    "# a?(b?c) = (a?b)?c\n",
    "# C1, C2, C3 = sets('C1 C2 C3')\n",
    "# p1, p2, p3 = progs(s, 'p1 p2 p3')"
   ]
  },
  {
   "cell_type": "code",
   "execution_count": 4,
   "metadata": {
    "collapsed": true
   },
   "outputs": [],
   "source": [
    "title = \"P46 both forms of conditional distribute over choice and concurrency\"\n",
    "# What distribute means now?\n",
    "# i.e. Restriction distributes over choice C:(p1∪p2) = (C:p1)∪(C:p2)\n",
    "# C1, C2, C3 = sets('C1 C2 C3')\n",
    "# p1, p2, p3 = progs(s, 'p1 p2 p3')"
   ]
  },
  {
   "cell_type": "markdown",
   "metadata": {},
   "source": [
    "連打すればUnknownでなくなる時がある"
   ]
  },
  {
   "cell_type": "code",
   "execution_count": 5,
   "metadata": {},
   "outputs": [
    {
     "name": "stdout",
     "output_type": "stream",
     "text": [
      "\u001b[33mP47 If D1⊆C1 and D2 ⊆ C2, then (if D1:p [] D2:q end) ⊆ (if C1:p [] C2:q end)\n",
      "Universe = U, has 3 element(s)\u001b[0m\n",
      "\u001b[31mUnholds: sat\u001b[0m\n",
      "content of D1_16\n",
      " = Var(0) == B\n",
      "\n",
      "content of C1_14\n",
      " = True\n",
      "\n",
      "content of C2_15\n",
      " = Not(Var(0) == C)\n",
      "\n",
      "content of D2_17\n",
      " = And(Not(Var(0) == C), Var(0) == A)\n",
      "\n",
      "set of p_18\n",
      " else -> Var(0) == C\n",
      "\n",
      "pre of p_18\n",
      " else -> Var(0) == C\n",
      "\n",
      "post of p_18\n",
      " else ->\n",
      "\t else -> False\n",
      "\n",
      "set of q_22\n",
      " else -> And(Not(Var(0) == C), Var(0) == A)\n",
      "\n",
      "pre of q_22\n",
      " else -> And(Not(Var(0) == C), Var(0) == A)\n",
      "\n",
      "post of q_22\n",
      " else ->\n",
      "\t else -> False\n",
      "\n"
     ]
    }
   ],
   "source": [
    "title = \"P47 If D1⊆C1 and D2 ⊆ C2, then (if D1:p [] D2:q end) ⊆ (if C1:p [] C2:q end)\"\n",
    "C1, C2, D1, D2 = sets('C1 C2 D1 D2')\n",
    "p, q = progs(s, \"p q\")\n",
    "s.add(D1 <= C1, D2 <= C2)\n",
    "conclude(s, is_ref_of(GCond(D1, p, D2, q), GCond(C1, p, C2, q)), title)"
   ]
  },
  {
   "cell_type": "code",
   "execution_count": 22,
   "metadata": {},
   "outputs": [
    {
     "name": "stdout",
     "output_type": "stream",
     "text": [
      "\u001b[33mIf q1⊆p1 and q2 ⊆ p2, then (if C:q1 [] C:q2 end) ⊆ (if C:p1 [] C:p2 end)\n",
      "Universe = U, has 3 element(s)\u001b[0m\n",
      "\u001b[31mUnholds: sat\u001b[0m\n",
      "content of C_365\n",
      " = True\n",
      "\n",
      "set of q2_378\n",
      " else -> True\n",
      "\n",
      "pre of q2_378\n",
      " else -> Not(Var(0) == B)\n",
      "\n",
      "post of q2_378\n",
      " else ->\n",
      "\t if -> Var(0) == B\n",
      "\t then ->\n",
      "\t\t else -> Not(Var(0) == B)\n",
      "\t else ->\n",
      "\t\t else -> True\n",
      "\n",
      "set of p1_366\n",
      " else -> Var(0) == B\n",
      "\n",
      "pre of p1_366\n",
      " else -> Var(0) == B\n",
      "\n",
      "post of p1_366\n",
      " else ->\n",
      "\t if -> Var(0) == B\n",
      "\t then ->\n",
      "\t\t else -> Var(0) == B\n",
      "\t else ->\n",
      "\t\t else -> False\n",
      "\n",
      "set of q1_374\n",
      " else -> Var(0) == B\n",
      "\n",
      "pre of q1_374\n",
      " else -> Var(0) == B\n",
      "\n",
      "post of q1_374\n",
      " else ->\n",
      "\t if -> Var(0) == B\n",
      "\t then ->\n",
      "\t\t else -> False\n",
      "\t else ->\n",
      "\t\t else -> False\n",
      "\n",
      "set of p2_370\n",
      " else -> True\n",
      "\n",
      "pre of p2_370\n",
      " else -> False\n",
      "\n",
      "post of p2_370\n",
      " else ->\n",
      "\t if -> Var(0) == B\n",
      "\t then ->\n",
      "\t\t else -> Var(0) == B\n",
      "\t else ->\n",
      "\t\t else -> False\n",
      "\n"
     ]
    }
   ],
   "source": [
    "title = \"If q1⊆p1 and q2 ⊆ p2, then (if C:q1 [] C:q2 end) ⊆ (if C:p1 [] C:p2 end)\"\n",
    "C = set('C')\n",
    "p1, p2, q1, q2 = progs(s, \"p1 p2 q1 q2\")\n",
    "s.add(is_ref_of(q1, p1), is_ref_of(q2, p2))\n",
    "conclude(s, is_ref_of(GCond(C, q1, C, q2), GCond(C, p1, C, p2)), title)"
   ]
  },
  {
   "cell_type": "code",
   "execution_count": 7,
   "metadata": {},
   "outputs": [
    {
     "name": "stdout",
     "output_type": "stream",
     "text": [
      "\u001b[33mP49 If q1⊆p1 and q2 ⊆ p2, then (if C then q1 else q2 end) ⊆ (if C then p1 else p2 end)\n",
      "Universe = U, has 3 element(s)\u001b[0m\n",
      "\u001b[36mHolds: unsat\u001b[0m \n",
      "\n"
     ]
    }
   ],
   "source": [
    "title = \"P49 If q1⊆p1 and q2 ⊆ p2, then (if C then q1 else q2 end) ⊆ (if C then p1 else p2 end)\"\n",
    "C = set('C')\n",
    "p1, p2, q1, q2 = progs(s, \"p1 p2 q1 q2\")\n",
    "s.add(is_ref_of(q1, p1), is_ref_of(q2, p2))\n",
    "conclude(s, is_ref_of(Ite(C, q1, q2), Ite(C, p1, p2)), title)"
   ]
  },
  {
   "cell_type": "code",
   "execution_count": 8,
   "metadata": {},
   "outputs": [
    {
     "name": "stdout",
     "output_type": "stream",
     "text": [
      "\u001b[33mP50 (if C then p1 else p2 end) = (if C' then p2 else p1 end)\n",
      "Universe = U, has 3 element(s)\u001b[0m\n",
      "\u001b[36mHolds: unsat\u001b[0m \n",
      "\n"
     ]
    }
   ],
   "source": [
    "title = \"P50 (if C then p1 else p2 end) = (if C' then p2 else p1 end)\"\n",
    "C = set('C')\n",
    "p1, p2 = progs(s, 'p1 p2')\n",
    "conclude(s, eq(Ite(C, p1, p2), Ite(-C, p2, p1)), title)"
   ]
  },
  {
   "cell_type": "code",
   "execution_count": 9,
   "metadata": {},
   "outputs": [
    {
     "name": "stdout",
     "output_type": "stream",
     "text": [
      "\u001b[33mP51 (C:p) = (if C:p end) (= if C:p [] D:Fail)\n",
      "Universe = U, has 3 element(s)\u001b[0m\n",
      "\u001b[36mHolds: unsat\u001b[0m \n",
      "\n"
     ]
    }
   ],
   "source": [
    "title = \"P51 (C:p) = (if C:p end) (= if C:p [] D:Fail)\"\n",
    "C, D = sets('C D')\n",
    "p = prog(s, 'p')\n",
    "conclude(s, eq(Rest(C, p), GCond(C, p, C, Fail())), title)"
   ]
  },
  {
   "cell_type": "code",
   "execution_count": 15,
   "metadata": {},
   "outputs": [
    {
     "name": "stdout",
     "output_type": "stream",
     "text": [
      "\u001b[33mP52 (if C1:p1 [] C2:p2 end) ⊆ C1:p1\n",
      "Universe = U, has 3 element(s)\u001b[0m\n",
      "\u001b[31mUnholds: sat\u001b[0m\n",
      "set of p2_179\n",
      " else -> Not(And(Not(Var(0) == C), Not(Var(0) == A)))\n",
      "\n",
      "pre of p2_179\n",
      " else -> False\n",
      "\n",
      "post of p2_179\n",
      " A ->\n",
      "\t else -> False\n",
      " B ->\n",
      "\t else -> False\n",
      " else ->\n",
      "\t else -> Not(And(Not(Var(0) == C), Not(Var(0) == A)))\n",
      "\n",
      "set of p1_175\n",
      " else -> True\n",
      "\n",
      "pre of p1_175\n",
      " else -> Not(And(Not(Var(0) == C), Not(Var(0) == A)))\n",
      "\n",
      "post of p1_175\n",
      " A ->\n",
      "\t else -> True\n",
      " B ->\n",
      "\t else -> True\n",
      " else ->\n",
      "\t else -> Not(And(Not(Var(0) == C), Not(Var(0) == A)))\n",
      "\n"
     ]
    }
   ],
   "source": [
    "title = \"P52 (if C1:p1 [] C2:p2 end) ⊆ C1:p1\"\n",
    "C1, C2 = sets('C1 C2')\n",
    "p1, p2 = progs(s, 'p1 p2')\n",
    "s.add(feasible(p1, p2))\n",
    "conclude(s, is_ref_of(GCond(C1, p2, C2, p2), Rest(C1, p1)), title)"
   ]
  },
  {
   "cell_type": "code",
   "execution_count": 11,
   "metadata": {},
   "outputs": [
    {
     "name": "stdout",
     "output_type": "stream",
     "text": [
      "\u001b[33mP53 (D:(if C1:p [] C2:q end)) = (if (D∩C1):p [] (D∩C2):q end)\n",
      "Universe = U, has 3 element(s)\u001b[0m\n",
      "\u001b[36mHolds: unsat\u001b[0m \n",
      "\n"
     ]
    }
   ],
   "source": [
    "title = \"P53 (D:(if C1:p [] C2:q end)) = (if (D∩C1):p [] (D∩C2):q end)\"\n",
    "C1, C2, D = sets('C1 C2 D')\n",
    "p, q = progs(s, \"p q\")\n",
    "lhs = Rest(D, GCond(C1, p, C2, q))\n",
    "rhs = GCond(D * C1, p, D * C2, q)\n",
    "conclude(s, eq(lhs, rhs), title)"
   ]
  },
  {
   "cell_type": "code",
   "execution_count": 12,
   "metadata": {},
   "outputs": [
    {
     "name": "stdout",
     "output_type": "stream",
     "text": [
      "\u001b[33mP54 (if C then p1 else p2 end) = (if C:p1 [] C':p2 end)\n",
      "Universe = U, has 3 element(s)\u001b[0m\n",
      "\u001b[36mHolds: unsat\u001b[0m \n",
      "\n"
     ]
    }
   ],
   "source": [
    "title = \"P54 (if C then p1 else p2 end) = (if C:p1 [] C':p2 end)\"\n",
    "C = set('C')\n",
    "p1, p2 = progs(s, 'p1 p2')\n",
    "conclude(s, eq(Ite(C, p1, p2), GCond(C, p1, -C, p2)), title)"
   ]
  },
  {
   "cell_type": "markdown",
   "metadata": {},
   "source": [
    "P55 P50をコピペして何か伝えたかったのだろうか"
   ]
  },
  {
   "cell_type": "code",
   "execution_count": 13,
   "metadata": {
    "collapsed": true
   },
   "outputs": [],
   "source": [
    "title = \"P55 (if C then p1 else p2 end) = (if C' then p2 else p1 end)\"\n",
    "# totally same as P50!"
   ]
  }
 ],
 "metadata": {
  "kernelspec": {
   "display_name": "Python 3",
   "language": "python",
   "name": "python3"
  },
  "language_info": {
   "codemirror_mode": {
    "name": "ipython",
    "version": 3
   },
   "file_extension": ".py",
   "mimetype": "text/x-python",
   "name": "python",
   "nbconvert_exporter": "python",
   "pygments_lexer": "ipython3",
   "version": "3.6.2"
  }
 },
 "nbformat": 4,
 "nbformat_minor": 2
}
