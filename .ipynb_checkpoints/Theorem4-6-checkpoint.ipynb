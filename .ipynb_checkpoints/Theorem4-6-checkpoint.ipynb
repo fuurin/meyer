{
 "cells": [
  {
   "cell_type": "markdown",
   "metadata": {},
   "source": [
    "## P4 詳細化関係は前順序関係である\n",
    "前順序関係とは，ある関係が反射律と推移律を満たすことを言う．<br>\n",
    "さらに，プログラムの同値関係が*equivalence*で良いとき，詳細化関係は反対称律を満たし，順序関係となる．"
   ]
  },
  {
   "cell_type": "code",
   "execution_count": 1,
   "metadata": {
    "collapsed": true
   },
   "outputs": [],
   "source": [
    "from z3 import Solver, Not\n",
    "from meyer.util.color import yellow\n",
    "from meyer.util.z3py_set import set\n",
    "from meyer.util.z3py_util import const\n",
    "from meyer.program import U, prog, progs, conclude\n",
    "from meyer.feasibility import feasible\n",
    "from meyer.equivalence import eq, equal\n",
    "from meyer.refinement import is_ref_of\n",
    "from meyer.implementation import is_impl_of\n",
    "from meyer.basic_constructs import Choi, Comp, Rest\n",
    "s = Solver()"
   ]
  },
  {
   "cell_type": "markdown",
   "metadata": {},
   "source": [
    "## 反射律\n",
    "### $$ \\forall{p}. \\ p \\subseteq p $$"
   ]
  },
  {
   "cell_type": "code",
   "execution_count": 2,
   "metadata": {},
   "outputs": [
    {
     "name": "stdout",
     "output_type": "stream",
     "text": [
      "\u001b[33mReflexive\n",
      "Universe = U, has 3 element(s)\u001b[0m\n",
      "\u001b[36mHolds: unsat\u001b[0m \n",
      "\n"
     ]
    }
   ],
   "source": [
    "title = \"Reflexive\"\n",
    "p = prog(s, 'p')\n",
    "conclude(s, is_ref_of(p, p), title)"
   ]
  },
  {
   "cell_type": "markdown",
   "metadata": {
    "collapsed": true
   },
   "source": [
    "## 反対称律\n",
    "### $$ \\forall{p_1}\\forall{p_2}. \\ ( \\ p_1 \\subseteq p_2 \\ \\land \\ p_2 \\subseteq p_1 \\ ) \\rightarrow p_1 = p_2 $$\n",
    "プログラムの同値関係が*equivalence*で良いとき成り立つ．"
   ]
  },
  {
   "cell_type": "code",
   "execution_count": 3,
   "metadata": {},
   "outputs": [
    {
     "name": "stdout",
     "output_type": "stream",
     "text": [
      "\u001b[33mantisymmetric\n",
      "Universe = U, has 3 element(s)\u001b[0m\n",
      "\u001b[36mHolds: unsat\u001b[0m \n",
      "\n"
     ]
    }
   ],
   "source": [
    "title = \"antisymmetric\"\n",
    "p1, p2 = progs(s, 'p1 p2')\n",
    "s.add(is_ref_of(p1, p2), is_ref_of(p2, p1))\n",
    "conclude(s, eq(p1, p2), title)"
   ]
  },
  {
   "cell_type": "code",
   "execution_count": 4,
   "metadata": {},
   "outputs": [
    {
     "name": "stdout",
     "output_type": "stream",
     "text": [
      "\u001b[33mantisymmetric equal\n",
      "Universe = U, has 3 element(s)\u001b[0m\n",
      "\u001b[31mUnholds: sat\u001b[0m\n",
      "set of p1_28\n",
      " else -> Not(Var(0) == A)\n",
      "\n",
      "pre of p1_28\n",
      " else -> False\n",
      "\n",
      "post of p1_28\n",
      " else ->\n",
      "\t else -> False\n",
      "\n",
      "set of p2_32\n",
      " else -> Not(Var(0) == A)\n",
      "\n",
      "pre of p2_32\n",
      " else -> False\n",
      "\n",
      "post of p2_32\n",
      " else ->\n",
      "\t if -> Var(0) == A\n",
      "\t then ->\n",
      "\t\t else -> False\n",
      "\t else ->\n",
      "\t\t else -> Not(Var(0) == A)\n",
      "\n"
     ]
    }
   ],
   "source": [
    "title = \"antisymmetric equal\"\n",
    "p1, p2 = progs(s, 'p1 p2')\n",
    "s.add(is_ref_of(p1, p2), is_ref_of(p2, p1))\n",
    "conclude(s, equal(p1, p2), title)"
   ]
  },
  {
   "cell_type": "markdown",
   "metadata": {},
   "source": [
    "## 推移律\n",
    "### $$ \\forall p_1 \\forall p_2 \\forall p_3 . \\ ( \\ p_1 \\subseteq p_2 \\ \\land \\ p_2 \\subseteq p_3 \\ ) \\ \\rightarrow \\ p_1 \\subseteq p_3 $$ "
   ]
  },
  {
   "cell_type": "code",
   "execution_count": 5,
   "metadata": {},
   "outputs": [
    {
     "name": "stdout",
     "output_type": "stream",
     "text": [
      "\u001b[33mtransitive\n",
      "Universe = U, has 3 element(s)\u001b[0m\n",
      "\u001b[36mHolds: unsat\u001b[0m \n",
      "\n"
     ]
    }
   ],
   "source": [
    "title = \"transitive\"\n",
    "p1, p2, p3 = progs(s, 'p1 p2 p3')\n",
    "s.add(is_ref_of(p1, p2), is_ref_of(p2, p3))\n",
    "conclude(s, is_ref_of(p1, p3), title)"
   ]
  },
  {
   "cell_type": "markdown",
   "metadata": {},
   "source": [
    "## P5 実装を持つ仕様/プログラムは実行可能である"
   ]
  },
  {
   "cell_type": "code",
   "execution_count": 6,
   "metadata": {},
   "outputs": [
    {
     "name": "stdout",
     "output_type": "stream",
     "text": [
      "\u001b[33mP5: A specification/program having an implementation is feasible\n",
      "Universe = U, has 3 element(s)\u001b[0m\n",
      "\u001b[36mHolds: unsat\u001b[0m \n",
      "\n"
     ]
    }
   ],
   "source": [
    "title = \"P5: A specification/program having an implementation is feasible\"\n",
    "p1, p2 = progs(s, 'p1 p2')\n",
    "s.add(is_impl_of(p1, p2))\n",
    "conclude(s, feasible(p2), title)"
   ]
  },
  {
   "cell_type": "markdown",
   "metadata": {},
   "source": [
    "## P6 実行可能な演算対象と任意の状態集合に対し，基本演算は実行可能なプログラムを生成する"
   ]
  },
  {
   "cell_type": "code",
   "execution_count": 7,
   "metadata": {},
   "outputs": [
    {
     "name": "stdout",
     "output_type": "stream",
     "text": [
      "\u001b[33mP6(Choice): If p1 and p2 are feasible, p1 ∪ p2 is feasible.\n",
      "Universe = U, has 3 element(s)\u001b[0m\n",
      "\u001b[36mHolds: unsat\u001b[0m \n",
      "\n"
     ]
    }
   ],
   "source": [
    "title = \"P6(Choice): If p1 and p2 are feasible, p1 ∪ p2 is feasible.\"\n",
    "p1, p2 = progs(s, 'p1 p2')\n",
    "s.add(feasible(p1, p2))\n",
    "conclude(s, feasible(Choi(p1, p2)), title)"
   ]
  },
  {
   "cell_type": "code",
   "execution_count": 8,
   "metadata": {},
   "outputs": [
    {
     "name": "stdout",
     "output_type": "stream",
     "text": [
      "\u001b[33mP6(Composition): If p1 and p2 are feasible, p1;p2 is feasible.\n",
      "Universe = U, has 3 element(s)\u001b[0m\n",
      "\u001b[36mHolds: unsat\u001b[0m \n",
      "\n"
     ]
    }
   ],
   "source": [
    "title = \"P6(Composition): If p1 and p2 are feasible, p1;p2 is feasible.\"\n",
    "p1, p2 = progs(s, 'p1 p2')\n",
    "s.add(feasible(p1, p2))\n",
    "conclude(s, feasible(Comp(p1, p2)), title)"
   ]
  },
  {
   "cell_type": "code",
   "execution_count": 9,
   "metadata": {},
   "outputs": [
    {
     "name": "stdout",
     "output_type": "stream",
     "text": [
      "\u001b[33mP6(Restriction): If p is feasible, C:p is feasible.\n",
      "Universe = U, has 3 element(s)\u001b[0m\n",
      "\u001b[36mHolds: unsat\u001b[0m \n",
      "\n"
     ]
    }
   ],
   "source": [
    "title = \"P6(Restriction): If p is feasible, C:p is feasible.\"\n",
    "p = prog(s, 'p')\n",
    "c = set('c', U)\n",
    "s.add(feasible(p))\n",
    "conclude(s, feasible(Rest(c, p)), title)"
   ]
  }
 ],
 "metadata": {
  "kernelspec": {
   "display_name": "Python 3",
   "language": "python",
   "name": "python3"
  },
  "language_info": {
   "codemirror_mode": {
    "name": "ipython",
    "version": 3
   },
   "file_extension": ".py",
   "mimetype": "text/x-python",
   "name": "python",
   "nbconvert_exporter": "python",
   "pygments_lexer": "ipython3",
   "version": "3.6.2"
  }
 },
 "nbformat": 4,
 "nbformat_minor": 2
}
