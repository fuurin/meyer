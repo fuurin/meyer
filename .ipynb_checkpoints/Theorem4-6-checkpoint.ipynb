{
 "cells": [
  {
   "cell_type": "markdown",
   "metadata": {},
   "source": [
    "## P4 詳細化関係は前順序関係である\n",
    "前順序関係とは，ある関係が反射律と推移律を満たすことを言う．<br>\n",
    "さらに，プログラムの同値関係が*equivalence*で良いとき，詳細化関係は反対称律を満たし，順序関係となる．"
   ]
  },
  {
   "cell_type": "code",
   "execution_count": 9,
   "metadata": {
    "collapsed": true
   },
   "outputs": [],
   "source": [
    "from z3 import Solver, Not\n",
    "from meyer.util.color import yellow\n",
    "from meyer.util.z3py_set import set\n",
    "from meyer.util.z3py_util import const\n",
    "from meyer.program import U, prog, progs, conclude\n",
    "from meyer.feasibility import feasible\n",
    "from meyer.equivalence import eq\n",
    "from meyer.refinement import is_ref_of\n",
    "from meyer.implementation import is_impl_of\n",
    "from meyer.basic_constructs import Choi, Comp, Rest\n",
    "s = Solver()"
   ]
  },
  {
   "cell_type": "markdown",
   "metadata": {},
   "source": [
    "## 反射律\n",
    "### $$ \\forall{p}. \\ p \\subseteq p $$"
   ]
  },
  {
   "cell_type": "code",
   "execution_count": 10,
   "metadata": {},
   "outputs": [
    {
     "name": "stdout",
     "output_type": "stream",
     "text": [
      "\u001b[33mReflexive\n",
      "Universe = U, has 3 element(s)\u001b[0m\n",
      "\u001b[36mHolds: unsat\u001b[0m \n",
      "\n"
     ]
    }
   ],
   "source": [
    "title = \"Reflexive\"\n",
    "p = prog(s, 'p')\n",
    "conclude(s, is_ref_of(p, p), title)"
   ]
  },
  {
   "cell_type": "markdown",
   "metadata": {
    "collapsed": true
   },
   "source": [
    "## 反対称律\n",
    "### $$ \\forall{p_1}\\forall{p_2}. \\ ( \\ p_1 \\subseteq p_2 \\ \\land \\ p_2 \\subseteq p_1 \\ ) \\rightarrow p_1 = p_2 $$\n",
    "プログラムの同値関係が*equivalence*で良いとき成り立つ．"
   ]
  },
  {
   "cell_type": "code",
   "execution_count": 11,
   "metadata": {},
   "outputs": [
    {
     "name": "stdout",
     "output_type": "stream",
     "text": [
      "\u001b[33mantisymmetric\n",
      "Universe = U, has 3 element(s)\u001b[0m\n",
      "\u001b[36mHolds: unsat\u001b[0m \n",
      "\n"
     ]
    }
   ],
   "source": [
    "title = \"antisymmetric\"\n",
    "p1, p2 = progs(s, 'p1 p2')\n",
    "s.add(is_ref_of(p1, p2), is_ref_of(p2, p1))\n",
    "conclude(s, eq(p1, p2), title)"
   ]
  },
  {
   "cell_type": "code",
   "execution_count": 12,
   "metadata": {},
   "outputs": [
    {
     "name": "stdout",
     "output_type": "stream",
     "text": [
      "\u001b[33mantisymmetric equal\n",
      "Universe = U, has 3 element(s)\u001b[0m\n",
      "\u001b[36mHolds: unsat\u001b[0m \n",
      "\n"
     ]
    }
   ],
   "source": [
    "title = \"antisymmetric equal\"\n",
    "p1, p2 = progs(s, 'p1 p2')\n",
    "s.add(is_ref_of(p1, p2), is_ref_of(p2, p1))\n",
    "conclude(s, eq(p1, p2), title)"
   ]
  },
  {
   "cell_type": "markdown",
   "metadata": {},
   "source": [
    "## 推移律\n",
    "### $$ \\forall p_1 \\forall p_2 \\forall p_3 . \\ ( \\ p_1 \\subseteq p_2 \\ \\land \\ p_2 \\subseteq p_3 \\ ) \\ \\rightarrow \\ p_1 \\subseteq p_3 $$ "
   ]
  },
  {
   "cell_type": "code",
   "execution_count": 13,
   "metadata": {},
   "outputs": [
    {
     "name": "stdout",
     "output_type": "stream",
     "text": [
      "\u001b[33mtransitive\n",
      "Universe = U, has 3 element(s)\u001b[0m\n",
      "\u001b[36mHolds: unsat\u001b[0m \n",
      "\n"
     ]
    }
   ],
   "source": [
    "title = \"transitive\"\n",
    "p1, p2, p3 = progs(s, 'p1 p2 p3')\n",
    "s.add(is_ref_of(p1, p2), is_ref_of(p2, p3))\n",
    "conclude(s, is_ref_of(p1, p3), title)"
   ]
  }
 ],
 "metadata": {
  "kernelspec": {
   "display_name": "Python 3",
   "language": "python",
   "name": "python3"
  },
  "language_info": {
   "codemirror_mode": {
    "name": "ipython",
    "version": 3
   },
   "file_extension": ".py",
   "mimetype": "text/x-python",
   "name": "python",
   "nbconvert_exporter": "python",
   "pygments_lexer": "ipython3",
   "version": "3.6.2"
  }
 },
 "nbformat": 4,
 "nbformat_minor": 2
}
