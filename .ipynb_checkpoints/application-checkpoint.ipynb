{
 "cells": [
  {
   "cell_type": "code",
   "execution_count": 4,
   "metadata": {
    "collapsed": true
   },
   "outputs": [],
   "source": [
    "from z3 import *\n",
    "from meyer.meyer import set_universe_state, conclude\n",
    "set_universe_state(IntSort())\n",
    "\n",
    "from meyer.program import prog, progs\n",
    "from meyer.equivalence import equal\n",
    "from meyer.implementation import is_impl_of\n",
    "from meyer.contracted_program import contracts\n",
    "from meyer.util.z3py_rel import Empty as EmptyRel\n",
    "from meyer.util.z3py_set import set, sets\n",
    "from meyer.util.z3py_rel import rel, rels\n",
    "\n",
    "s = Solver()"
   ]
  },
  {
   "cell_type": "code",
   "execution_count": 16,
   "metadata": {},
   "outputs": [
    {
     "name": "stdout",
     "output_type": "stream",
     "text": [
      "\u001b[33madding 1 to a preconditon\n",
      "Universe = Int\u001b[0m\n",
      "\u001b[36mHolds: unsat\u001b[0m \n",
      "\n"
     ]
    }
   ],
   "source": [
    "title = \"adding 1 to a preconditon\"\n",
    "p1, p2, p3 = progs(s, \"p1 p2 p3\")\n",
    "\n",
    "s.add(equal(p1, p2), p3.set() == p1.set(), p3.pre(1), p3.post() == EmptyRel())\n",
    "conclude(s, p2 | p3 <= p1, title)"
   ]
  },
  {
   "cell_type": "code",
   "execution_count": 15,
   "metadata": {},
   "outputs": [
    {
     "name": "stdout",
     "output_type": "stream",
     "text": [
      "\u001b[33mUniverse = Int\u001b[0m\n",
      "\u001b[36mHolds: unsat\u001b[0m \n",
      "\n"
     ]
    }
   ],
   "source": [
    "title = \"addition contract\"\n",
    "p1, p2 = progs(s, \"p1 p2\")\n",
    "\n",
    "x,y = Ints('x y')\n",
    "s.add(p1.set() == p2.set(), p1.pre() == p2.pre())\n",
    "s.add(+p1, ForAll([x,y], p1.post(x,y) == (y > x)))\n",
    "s.add(+p2, ForAll([x,y], p2.post(x,y) == (y == x + 1)))\n",
    "\n",
    "conclude(s, contracts(p2, p1), title)"
   ]
  },
  {
   "cell_type": "code",
   "execution_count": 3,
   "metadata": {},
   "outputs": [
    {
     "name": "stdout",
     "output_type": "stream",
     "text": [
      "\u001b[33msum of 1st digit and 2nd digit\n",
      "Universe = Int\u001b[0m\n",
      "\u001b[36mHolds: unsat\u001b[0m \n",
      "\n"
     ]
    }
   ],
   "source": [
    "title = \"sum of 1st digit and 2nd digit\" # multiple arguments!!\n",
    "p1, p2 = progs(s, \"p1 p2\")\n",
    "s.add(+p1, +p2)\n",
    "s.add(p1.set() == p2.set(), p1.pre() == p2.pre())\n",
    "\n",
    "x,y = Ints('x y')\n",
    "s.add(ForAll([x, y], And(p1.post(x, y) == (x % 10 + x / 10 == y))))\n",
    "s.add(ForAll([x, y], p2.post(x, y) == And([And(x == i, y == j) for i, j in [(24, 6)]])))\n",
    "\n",
    "conclude(s, contracts(p2, p1), title)\n",
    "# if there is at least one pair that matches p1's condition, p2 unfortunately becomes contracted program, otherwise unknown"
   ]
  },
  {
   "cell_type": "code",
   "execution_count": 14,
   "metadata": {},
   "outputs": [
    {
     "ename": "SyntaxError",
     "evalue": "invalid syntax (<ipython-input-14-70f77eed0238>, line 11)",
     "output_type": "error",
     "traceback": [
      "\u001b[1;36m  File \u001b[1;32m\"<ipython-input-14-70f77eed0238>\"\u001b[1;36m, line \u001b[1;32m11\u001b[0m\n\u001b[1;33m    conclude(s, contracts(p2, p1), title)\u001b[0m\n\u001b[1;37m           ^\u001b[0m\n\u001b[1;31mSyntaxError\u001b[0m\u001b[1;31m:\u001b[0m invalid syntax\n"
     ]
    }
   ],
   "source": [
    "title = \"double\"\n",
    "p1, p2 = progs(s, \"p1 p2\")\n",
    "s.add(+p1, +p2)\n",
    "s.add(p1.set() == p2.set(), \n",
    "      p1.pre() == p2.pre())\n",
    "x,y = Ints('x y')\n",
    "s.add(ForAll([x, y], p1.post(x, y) == \n",
    "    (x * 2 == y)))\n",
    "s.add(ForAll([x, y], p2.post(x, y) == \n",
    "    Or(And(x==1, y==2), And(x==2, y==4))))\n",
    "conclude(s, contracts(p2, p1), title)"
   ]
  },
  {
   "cell_type": "code",
   "execution_count": null,
   "metadata": {
    "collapsed": true
   },
   "outputs": [],
   "source": [
    "s.reset()\n",
    "r1, r2 = rels(\"r1 r2\")\n",
    "x, y = Ints(\"x y\")\n",
    "s.add(ForAll([x, y], r1(x, y) == (x * 2 == y)))\n",
    "s.add(ForAll([x, y], And(r2(x, y) == And(x == 1, y == 4))))\n",
    "s.add(Not(ForAll([x,y], Implies(r2(x, y), r1(x, y)))))\n",
    "s.check()"
   ]
  }
 ],
 "metadata": {
  "kernelspec": {
   "display_name": "Python 3",
   "language": "python",
   "name": "python3"
  },
  "language_info": {
   "codemirror_mode": {
    "name": "ipython",
    "version": 3
   },
   "file_extension": ".py",
   "mimetype": "text/x-python",
   "name": "python",
   "nbconvert_exporter": "python",
   "pygments_lexer": "ipython3",
   "version": "3.6.2"
  }
 },
 "nbformat": 4,
 "nbformat_minor": 2
}
