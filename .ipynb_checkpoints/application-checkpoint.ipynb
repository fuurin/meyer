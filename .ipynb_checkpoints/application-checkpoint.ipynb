{
 "cells": [
  {
   "cell_type": "code",
   "execution_count": 14,
   "metadata": {},
   "outputs": [
    {
     "name": "stdout",
     "output_type": "stream",
     "text": [
      "\u001b[33m\n",
      "Universe = Int\u001b[0m\n",
      "\u001b[36mHolds: unsat\u001b[0m \n",
      "\n"
     ]
    }
   ],
   "source": [
    "from z3 import Solver, IntSort\n",
    "from meyer.meyer import set_universe_state, conclude\n",
    "set_universe_state(IntSort())\n",
    "from meyer.program import prog, progs\n",
    "\n",
    "s = Solver()\n",
    "p1, p2 = progs(s, \"p1 p2\")\n",
    "\n",
    "s.add(p1.set() == p2.set(), p1.post() == p2.post())\n",
    "conclude(s, p1 < p1, \"\")\n"
   ]
  }
 ],
 "metadata": {
  "kernelspec": {
   "display_name": "Python 3",
   "language": "python",
   "name": "python3"
  },
  "language_info": {
   "codemirror_mode": {
    "name": "ipython",
    "version": 3
   },
   "file_extension": ".py",
   "mimetype": "text/x-python",
   "name": "python",
   "nbconvert_exporter": "python",
   "pygments_lexer": "ipython3",
   "version": "3.6.2"
  }
 },
 "nbformat": 4,
 "nbformat_minor": 2
}
