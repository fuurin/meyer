{
 "cells": [
  {
   "cell_type": "code",
   "execution_count": 56,
   "metadata": {
    "scrolled": true
   },
   "outputs": [],
   "source": [
    "from z3 import Solver, Not, And, Implies, Exists, ForAll\n",
    "from meyer.loop import fix_rep, wloop, LOOP_NUM\n",
    "from meyer.invariant import is_ivr_of\n",
    "from meyer.program import prog, progs, U, conclude\n",
    "from meyer.feasibility import feasible\n",
    "from meyer.refinement import is_ref_of\n",
    "from meyer.basic_constructs import Choi, Comp, Rest, RestPre, Corest\n",
    "from meyer.concurrency import Atom, NAtom\n",
    "from meyer.conditionals import Ite, GCond\n",
    "from meyer.equivalence import eq, eq_ran, eq_pre\n",
    "from meyer.util.z3py_set import set, sets, Cpl, Union, Inter\n",
    "from meyer.util.z3py_util import const, consts\n",
    "s = Solver()"
   ]
  },
  {
   "cell_type": "markdown",
   "metadata": {},
   "source": [
    "## P63\n",
    "CorestとCompの順番を変えても成り立つ<br>\n",
    "P63が成り立つには P11とP27が成り立つ必要があるはずなのに…<br>\n",
    "LOOP_NUMは20までは成り立つことを確認している<br>\n",
    "Z3で帰納法を表現する方法を調べよう"
   ]
  },
  {
   "cell_type": "code",
   "execution_count": 2,
   "metadata": {},
   "outputs": [
    {
     "name": "stdout",
     "output_type": "stream",
     "text": [
      "\u001b[33mP63 The loop l = from a until C loop b end can be writen ∪(i≧0)q_i where q_i is a;(C':b)^i＼C\n",
      "Universe = U, has 3 element(s)\u001b[0m\n",
      "\u001b[36mHolds: unsat\u001b[0m \n",
      "\n"
     ]
    }
   ],
   "source": [
    "title = \"P63 The loop l = from a until C loop b end can be writen ∪(i≧0)q_i where q_i is a;(C':b)^i＼C\"\n",
    "a,b = progs(s, 'a b')\n",
    "C = set('C', U)\n",
    "rhs = Choi(*[Corest(Comp(a,fix_rep(Rest(Cpl(C),b), i)), C) for i in range(LOOP_NUM)])\n",
    "conclude(s, eq(wloop(a, C, b), rhs), title)"
   ]
  },
  {
   "cell_type": "markdown",
   "metadata": {},
   "source": [
    "∪ran(q_i) = ran(∪q_i) (∵ ran(r)∪ran(s) = ran(r∪s))"
   ]
  },
  {
   "cell_type": "code",
   "execution_count": 3,
   "metadata": {},
   "outputs": [
    {
     "name": "stdout",
     "output_type": "stream",
     "text": [
      "\u001b[33mP63 As a consequence, ran(l) = ∪ran(q_i)\n",
      "Universe = U, has 3 element(s)\u001b[0m\n",
      "\u001b[36mHolds: unsat\u001b[0m \n",
      "\n"
     ]
    }
   ],
   "source": [
    "title = \"P63 As a consequence, ran(l) = ∪ran(q_i)\"\n",
    "a,b = progs(s, 'a b')\n",
    "C = set('C', U)\n",
    "rhs = Choi(*[Corest(Comp(a,fix_rep(Rest(Cpl(C),b), i)), C) for i in range(LOOP_NUM)])\n",
    "conclude(s, eq_ran(wloop(a, C, b), rhs), title)"
   ]
  },
  {
   "cell_type": "code",
   "execution_count": 4,
   "metadata": {},
   "outputs": [
    {
     "name": "stdout",
     "output_type": "stream",
     "text": [
      "\u001b[33mP64 Any I disjoint from p's domain is an invaliant of p\n",
      "Universe = U, has 3 element(s)\u001b[0m\n",
      "\u001b[36mHolds: unsat\u001b[0m \n",
      "\n"
     ]
    }
   ],
   "source": [
    "title = \"P64 Any I disjoint from p's domain is an invaliant of p\"\n",
    "x = const('x', U)\n",
    "I = set('I', U)\n",
    "p = prog(s, 'p')\n",
    "s.add(Not(Exists(x, And(I.has(x), p.pre(x)))))\n",
    "conclude(s, is_ivr_of(I, p), title)"
   ]
  },
  {
   "cell_type": "code",
   "execution_count": 5,
   "metadata": {},
   "outputs": [
    {
     "name": "stdout",
     "output_type": "stream",
     "text": [
      "\u001b[33mP65 If I and J are invariants of p, so are I∪J and I∩J\n",
      "Universe = U, has 3 element(s)\u001b[0m\n",
      "\u001b[36mHolds: unsat\u001b[0m \n",
      "\n"
     ]
    }
   ],
   "source": [
    "title = \"P65 If I and J are invariants of p, so are I∪J and I∩J\"\n",
    "I, J = sets('I J', U)\n",
    "x, y = consts('x y', U)\n",
    "p = prog(s, 'p')\n",
    "s.add(Exists(x, I.has(x)), Exists(x, J.has(x)))\n",
    "s.add(is_ivr_of(I, p), is_ivr_of(J, p))\n",
    "conclude(s, And(is_ivr_of(Union(I, J), p), is_ivr_of(Inter(I, J), p)), title)"
   ]
  },
  {
   "cell_type": "code",
   "execution_count": 6,
   "metadata": {},
   "outputs": [
    {
     "name": "stdout",
     "output_type": "stream",
     "text": [
      "\u001b[33mP66 If I is an invariant of p1 and p2 ⊆ p1, then I is an invariant of p2/Pre1\n",
      "Universe = U, has 3 element(s)\u001b[0m\n",
      "\u001b[36mHolds: unsat\u001b[0m \n",
      "\n"
     ]
    }
   ],
   "source": [
    "title = \"P66 If I is an invariant of p1 and p2 ⊆ p1, then I is an invariant of p2/Pre1\"\n",
    "p1, p2 = progs(s, \"p1 p2\")\n",
    "I = set('I', U)\n",
    "s.add(is_ivr_of(I, p1), is_ref_of(p2, p1))\n",
    "conclude(s, is_ivr_of(I, RestPre(p1, p2)), title)"
   ]
  },
  {
   "cell_type": "code",
   "execution_count": 40,
   "metadata": {},
   "outputs": [
    {
     "name": "stdout",
     "output_type": "stream",
     "text": [
      "\u001b[33mP67 All the program operators defined so far are invariant-preserving: Choice\n",
      "Universe = U, has 3 element(s)\u001b[0m\n",
      "\u001b[36mHolds: unsat\u001b[0m \n",
      "\n"
     ]
    }
   ],
   "source": [
    "title = \"P67 All the program operators defined so far are invariant-preserving: Choice\"\n",
    "I = set('I', U)\n",
    "p1, p2 = progs(s, 'p1 p2')\n",
    "s.add(eq_pre(p1, p2)) # This makes hold but too strong\n",
    "s.add(is_ivr_of(I, p1), is_ivr_of(I, p2))\n",
    "conclude(s, is_ivr_of(I, Choi(p1, p2)), title)"
   ]
  },
  {
   "cell_type": "code",
   "execution_count": 7,
   "metadata": {},
   "outputs": [
    {
     "name": "stdout",
     "output_type": "stream",
     "text": [
      "\u001b[33mP67 All the program operators defined so far are invariant-preserving: Composition\n",
      "Universe = U, has 3 element(s)\u001b[0m\n",
      "\u001b[36mHolds: unsat\u001b[0m \n",
      "\n"
     ]
    }
   ],
   "source": [
    "title = \"P67 All the program operators defined so far are invariant-preserving: Composition\"\n",
    "I = set('I', U)\n",
    "p1, p2 = progs(s, 'p1 p2')\n",
    "s.add(is_ivr_of(I, p1), is_ivr_of(I, p2))\n",
    "conclude(s, And(is_ivr_of(I, Comp(p1, p2)), is_ivr_of(I, Comp(p2, p1))), title)"
   ]
  },
  {
   "cell_type": "code",
   "execution_count": 10,
   "metadata": {},
   "outputs": [
    {
     "name": "stdout",
     "output_type": "stream",
     "text": [
      "\u001b[33mP67 All the program operators defined so far are invariant-preserving: Restriction\n",
      "Universe = U, has 3 element(s)\u001b[0m\n",
      "\u001b[36mHolds: unsat\u001b[0m \n",
      "\n"
     ]
    }
   ],
   "source": [
    "title = \"P67 All the program operators defined so far are invariant-preserving: Restriction\"\n",
    "C, I = sets('C I', U)\n",
    "p = prog(s, 'p')\n",
    "s.add(is_ivr_of(I, p))\n",
    "conclude(s, is_ivr_of(I, Rest(C, p)), title)"
   ]
  },
  {
   "cell_type": "code",
   "execution_count": 15,
   "metadata": {},
   "outputs": [
    {
     "name": "stdout",
     "output_type": "stream",
     "text": [
      "\u001b[33mP67 All the program operators defined so far are invariant-preserving: Corestriction\n",
      "Universe = U, has 3 element(s)\u001b[0m\n",
      "\u001b[36mHolds: unsat\u001b[0m \n",
      "\n"
     ]
    }
   ],
   "source": [
    "title = \"P67 All the program operators defined so far are invariant-preserving: Corestriction\"\n",
    "C, I = sets('C I', U)\n",
    "p = prog(s, 'p')\n",
    "s.add(is_ivr_of(I, p))\n",
    "conclude(s, is_ivr_of(I, Corest(p, C)), title)"
   ]
  },
  {
   "cell_type": "code",
   "execution_count": 39,
   "metadata": {},
   "outputs": [
    {
     "name": "stdout",
     "output_type": "stream",
     "text": [
      "\u001b[33mP67 All the program operators defined so far are invariant-preserving: Atomic Concurrency\n",
      "Universe = U, has 3 element(s)\u001b[0m\n",
      "\u001b[36mHolds: unsat\u001b[0m \n",
      "\n"
     ]
    }
   ],
   "source": [
    "title = \"P67 All the program operators defined so far are invariant-preserving: Atomic Concurrency\"\n",
    "I = set('I', U)\n",
    "p1, p2 = progs(s, 'p1 p2')\n",
    "s.add(eq_pre(p1, p2)) # This makes hold but too strong\n",
    "s.add(is_ivr_of(I, p1), is_ivr_of(I, p2))\n",
    "conclude(s, is_ivr_of(I, Atom(p1, p2)), title)"
   ]
  },
  {
   "cell_type": "code",
   "execution_count": 42,
   "metadata": {},
   "outputs": [
    {
     "name": "stdout",
     "output_type": "stream",
     "text": [
      "\u001b[33mP67 All the program operators defined so far are invariant-preserving: Atomic Concurrency\n",
      "Universe = U, has 3 element(s)\u001b[0m\n",
      "\u001b[36mHolds: unsat\u001b[0m \n",
      "\n"
     ]
    }
   ],
   "source": [
    "title = \"P67 All the program operators defined so far are invariant-preserving: Atomic Concurrency\"\n",
    "I = set('I', U)\n",
    "p1, p2, q = progs(s, 'p1 p2 q')\n",
    "s.add(eq_pre(p1, p2), eq_pre(p2, q)) # This makes hold but too strong\n",
    "s.add(is_ivr_of(I, p1), is_ivr_of(I, p2), is_ivr_of(I, q))\n",
    "conclude(s, is_ivr_of(I, NAtom(p1, p2, q)), title)"
   ]
  },
  {
   "cell_type": "code",
   "execution_count": 51,
   "metadata": {},
   "outputs": [
    {
     "name": "stdout",
     "output_type": "stream",
     "text": [
      "\u001b[33mP67 All the program operators defined so far are invariant-preserving: If then else\n",
      "Universe = U, has 3 element(s)\u001b[0m\n",
      "\u001b[36mHolds: unsat\u001b[0m \n",
      "\n"
     ]
    }
   ],
   "source": [
    "title = \"P67 All the program operators defined so far are invariant-preserving: If then else\"\n",
    "C, I = sets('C I', U)\n",
    "p1, p2 = progs(s, 'p1 p2')\n",
    "s.add(is_ivr_of(I, p1), is_ivr_of(I, p2))\n",
    "conclude(s, is_ivr_of(I, Ite(C, p1, p2)), title)"
   ]
  },
  {
   "cell_type": "code",
   "execution_count": 53,
   "metadata": {},
   "outputs": [
    {
     "name": "stdout",
     "output_type": "stream",
     "text": [
      "\u001b[33mP67 All the program operators defined so far are invariant-preserving: Guarded conditional\n",
      "Universe = U, has 3 element(s)\u001b[0m\n",
      "\u001b[36mHolds: unsat\u001b[0m \n",
      "\n"
     ]
    }
   ],
   "source": [
    "title = \"P67 All the program operators defined so far are invariant-preserving: Guarded conditional\"\n",
    "C1, C2, I = sets('C1 C2 I', U)\n",
    "p1, p2 = progs(s, 'p1 p2')\n",
    "s.add(eq_pre(p1, p2), eq_pre(p2, q)) # This makes hold but too strong\n",
    "s.add(is_ivr_of(I, p1), is_ivr_of(I, p2))\n",
    "conclude(s, is_ivr_of(I, GCond(C1, p1, C2, p2)), title)"
   ]
  },
  {
   "cell_type": "code",
   "execution_count": 57,
   "metadata": {},
   "outputs": [
    {
     "name": "stdout",
     "output_type": "stream",
     "text": [
      "\u001b[33mUniverse = U, has 3 element(s)\u001b[0m\n",
      "\u001b[36mHolds: unsat\u001b[0m \n",
      "\n"
     ]
    }
   ],
   "source": [
    "title = \"P68 If I is a loop invariant of the loop l = (from a until C loop b end), then range of l is subset of C ∩ I\"\n",
    "x, y = consts('x, y', U)\n",
    "C, I = sets('C I', U)\n",
    "a, b = progs(s, 'a b')\n",
    "l =  wloop(a, C, b)\n",
    "s.add(is_ivr_of(I, l))\n",
    "conclude(s, ForAll(y, Implies(Exists(x, And(l.pre(x), l.post(x, y))), Inter(C, I).has(y))))"
   ]
  },
  {
   "cell_type": "code",
   "execution_count": null,
   "metadata": {
    "collapsed": true
   },
   "outputs": [],
   "source": [
    "title = \"P69 For feasible a and b, the while loop is feasible if both 'domain of b ∪ C is a loop variant' and 'C':post_b is well-founded'\"\n",
    "C = set('C', U)\n",
    "a, b = progs(s, 'a b')\n",
    "s.add(feasible(a, b))\n",
    "s.add()"
   ]
  }
 ],
 "metadata": {
  "kernelspec": {
   "display_name": "Python 3",
   "language": "python",
   "name": "python3"
  },
  "language_info": {
   "codemirror_mode": {
    "name": "ipython",
    "version": 3
   },
   "file_extension": ".py",
   "mimetype": "text/x-python",
   "name": "python",
   "nbconvert_exporter": "python",
   "pygments_lexer": "ipython3",
   "version": "3.6.2"
  }
 },
 "nbformat": 4,
 "nbformat_minor": 2
}
