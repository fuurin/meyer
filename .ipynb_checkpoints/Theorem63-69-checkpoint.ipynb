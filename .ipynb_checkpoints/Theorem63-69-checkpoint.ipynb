{
 "cells": [
  {
   "cell_type": "code",
   "execution_count": 1,
   "metadata": {
    "collapsed": true,
    "scrolled": true
   },
   "outputs": [],
   "source": [
    "from z3 import Solver\n",
    "from meyer.loop import fix_rep, wloop, LOOP_NUM\n",
    "from meyer.program import prog, progs, U, conclude\n",
    "from meyer.basic_constructs import Choi, Comp, Rest, Corest\n",
    "from meyer.equivalence import eq\n",
    "from meyer.util.z3py_set import set, Cpl\n",
    "from meyer.util.z3py_util import const\n",
    "s = Solver()"
   ]
  },
  {
   "cell_type": "markdown",
   "metadata": {},
   "source": [
    "## P63\n",
    "CorestとCompの順番を変えても成り立つ"
   ]
  },
  {
   "cell_type": "code",
   "execution_count": 3,
   "metadata": {},
   "outputs": [
    {
     "name": "stdout",
     "output_type": "stream",
     "text": [
      "\u001b[33mP63 The loop l = from a until C loop b end can be writen ∪(i≧0)q_i where q_i is a;(C':b)^i＼C\n",
      "Universe = Int\u001b[0m\n",
      "\u001b[36mHolds: unsat\u001b[0m \n",
      "\n"
     ]
    }
   ],
   "source": [
    "title = \"P63 The loop l = from a until C loop b end can be writen ∪(i≧0)q_i where q_i is a;(C':b)^i＼C\"\n",
    "a,b = progs(s, 'a b')\n",
    "C = set('C', U)\n",
    "rhs = Choi(*[Corest(Comp(a,fix_rep(Rest(Cpl(C),b), i)), C) for i in range(LOOP_NUM)])\n",
    "conclude(s, eq(wloop(a, C, b), rhs), title)"
   ]
  },
  {
   "cell_type": "markdown",
   "metadata": {},
   "source": [
    "P63が成り立つには P11とP27が成り立つ必要があるはずなのに…<br>\n",
    "LOOP_NUMは20までは成り立つことを確認している<br>\n",
    "Z3で帰納法を表現する方法を調べよう"
   ]
  }
 ],
 "metadata": {
  "kernelspec": {
   "display_name": "Python 3",
   "language": "python",
   "name": "python3"
  },
  "language_info": {
   "codemirror_mode": {
    "name": "ipython",
    "version": 3
   },
   "file_extension": ".py",
   "mimetype": "text/x-python",
   "name": "python",
   "nbconvert_exporter": "python",
   "pygments_lexer": "ipython3",
   "version": "3.6.2"
  }
 },
 "nbformat": 4,
 "nbformat_minor": 2
}
