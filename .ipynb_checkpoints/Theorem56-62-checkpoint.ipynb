{
 "cells": [
  {
   "cell_type": "markdown",
   "metadata": {},
   "source": [
    "## 条件"
   ]
  },
  {
   "cell_type": "code",
   "execution_count": 9,
   "metadata": {
    "collapsed": true
   },
   "outputs": [],
   "source": [
    "from z3 import Solver\n",
    "from meyer.util.z3py_set import set, sets, Cpl, Inter\n",
    "from meyer.program import U, prog, progs, conclude\n",
    "from meyer.equivalence import eq\n",
    "from meyer.feasibility import feasible\n",
    "from meyer.basic_constructs import Rest, Corest\n",
    "from meyer.special_programs import Fail\n",
    "from meyer.conditionals import Ite\n",
    "from meyer.conditions import true, false, And, Or, Not, Implies\n",
    "\n",
    "s = Solver()"
   ]
  },
  {
   "cell_type": "code",
   "execution_count": 10,
   "metadata": {},
   "outputs": [
    {
     "name": "stdout",
     "output_type": "stream",
     "text": [
      "\u001b[33mP56 (True:p) = p\n",
      "Universe = U, has 3 element(s)\u001b[0m\n",
      "\u001b[36mHolds: unsat\u001b[0m \n",
      "\n"
     ]
    }
   ],
   "source": [
    "title = \"P56 (True:p) = p\"\n",
    "p = prog(s, 'p')\n",
    "conclude(s, eq(Rest(true(), p), p), title)"
   ]
  },
  {
   "cell_type": "code",
   "execution_count": 11,
   "metadata": {},
   "outputs": [
    {
     "name": "stdout",
     "output_type": "stream",
     "text": [
      "\u001b[33mP57 (False:p) = Fail\n",
      "Universe = U, has 3 element(s)\u001b[0m\n",
      "\u001b[36mHolds: unsat\u001b[0m \n",
      "\n"
     ]
    }
   ],
   "source": [
    "title = \"P57 (False:p) = Fail\"\n",
    "p = prog(s, 'p')\n",
    "conclude(s, eq(Rest(false(), p), Fail()), title)"
   ]
  },
  {
   "cell_type": "code",
   "execution_count": 17,
   "metadata": {},
   "outputs": [
    {
     "name": "stdout",
     "output_type": "stream",
     "text": [
      "\u001b[33mP58 p ＼ True = p\n",
      "Universe = U, has 3 element(s)\u001b[0m\n",
      "\u001b[36mHolds: unsat\u001b[0m \n",
      "\n"
     ]
    }
   ],
   "source": [
    "title = \"P58 p ＼ True = p\"\n",
    "p = prog(s, 'p')\n",
    "s.add(feasible(p)) # need\n",
    "conclude(s, eq(Corest(p, true()), p), title)"
   ]
  },
  {
   "cell_type": "code",
   "execution_count": 13,
   "metadata": {},
   "outputs": [
    {
     "name": "stdout",
     "output_type": "stream",
     "text": [
      "\u001b[33mP59 p ＼ False = Fail\n",
      "Universe = U, has 3 element(s)\u001b[0m\n",
      "\u001b[36mHolds: unsat\u001b[0m \n",
      "\n"
     ]
    }
   ],
   "source": [
    "title = \"P59 p ＼ False = Fail\"\n",
    "p = prog(s, 'p')\n",
    "conclude(s, eq(Corest(p, false()), Fail()), title)"
   ]
  },
  {
   "cell_type": "code",
   "execution_count": 14,
   "metadata": {},
   "outputs": [
    {
     "name": "stdout",
     "output_type": "stream",
     "text": [
      "\u001b[33mP60 (if True then p1 else p2 end) = p1\n",
      "Universe = U, has 3 element(s)\u001b[0m\n",
      "\u001b[36mHolds: unsat\u001b[0m \n",
      "\n"
     ]
    }
   ],
   "source": [
    "title = \"P60 (if True then p1 else p2 end) = p1\"\n",
    "p1, p2 = progs(s, 'p1 p2')\n",
    "conclude(s, eq(Ite(true(), p1, p2), p1), title)"
   ]
  },
  {
   "cell_type": "code",
   "execution_count": 15,
   "metadata": {},
   "outputs": [
    {
     "name": "stdout",
     "output_type": "stream",
     "text": [
      "\u001b[33mP61 (if False then p1 else p2 end) = p2\n",
      "Universe = U, has 3 element(s)\u001b[0m\n",
      "\u001b[36mHolds: unsat\u001b[0m \n",
      "\n"
     ]
    }
   ],
   "source": [
    "title = \"P61 (if False then p1 else p2 end) = p2\"\n",
    "p1, p2 = progs(s, 'p1 p2')\n",
    "conclude(s, eq(Ite(false(), p1, p2), p2), title)"
   ]
  },
  {
   "cell_type": "code",
   "execution_count": 16,
   "metadata": {
    "collapsed": true
   },
   "outputs": [],
   "source": [
    "title = \"P62 and or not implies distribute over choice, restriction, and conditionals\"\n",
    "# Under construction"
   ]
  }
 ],
 "metadata": {
  "kernelspec": {
   "display_name": "Python 3",
   "language": "python",
   "name": "python3"
  },
  "language_info": {
   "codemirror_mode": {
    "name": "ipython",
    "version": 3
   },
   "file_extension": ".py",
   "mimetype": "text/x-python",
   "name": "python",
   "nbconvert_exporter": "python",
   "pygments_lexer": "ipython3",
   "version": "3.6.2"
  }
 },
 "nbformat": 4,
 "nbformat_minor": 2
}
