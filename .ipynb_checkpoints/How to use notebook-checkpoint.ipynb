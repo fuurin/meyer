{
 "cells": [
  {
   "cell_type": "markdown",
   "metadata": {},
   "source": [
    "# モジュールのオートリロード\n",
    "http://ipython.readthedocs.io/en/stable/config/extensions/autoreload.html?highlight=autoreload"
   ]
  },
  {
   "cell_type": "code",
   "execution_count": 1,
   "metadata": {},
   "outputs": [
    {
     "name": "stdout",
     "output_type": "stream",
     "text": [
      "The autoreload extension is already loaded. To reload it, use:\n",
      "  %reload_ext autoreload\n"
     ]
    }
   ],
   "source": [
    "%load_ext autoreload\n",
    "%autoreload 2"
   ]
  },
  {
   "cell_type": "markdown",
   "metadata": {},
   "source": [
    "# Restart&RunAllのショートカットキー設定\n",
    "https://teratail.com/questions/73836"
   ]
  },
  {
   "cell_type": "markdown",
   "metadata": {},
   "source": [
    "~/.jupyter/custom/custom.js を作成し，以下のように記述し，jupyterを再起動<br>\n",
    "<code>\n",
    "Jupyter.keyboard_manager.command_shortcuts.add_shortcut('shift-x',\n",
    "    function(event) {\n",
    "        IPython.notebook.execute_all_cells();\n",
    "        return false;\n",
    "    }\n",
    ");\n",
    "\n",
    "Jupyter.keyboard_manager.command_shortcuts.add_shortcut('ctrl-x',\n",
    "    function(event) {\n",
    "        IPython.notebook.kernel.restart();\n",
    "        setTimeout(function(){ IPython.notebook.execute_all_cells(); }, 100);\n",
    "        return false;\n",
    "    }\n",
    ");\n",
    "</code>\n",
    "shift-xでRunAll, ctrl-xでRestart & RunAllできるようになる"
   ]
  }
 ],
 "metadata": {
  "kernelspec": {
   "display_name": "Python 3",
   "language": "python",
   "name": "python3"
  },
  "language_info": {
   "codemirror_mode": {
    "name": "ipython",
    "version": 3
   },
   "file_extension": ".py",
   "mimetype": "text/x-python",
   "name": "python",
   "nbconvert_exporter": "python",
   "pygments_lexer": "ipython3",
   "version": "3.6.2"
  }
 },
 "nbformat": 4,
 "nbformat_minor": 2
}
