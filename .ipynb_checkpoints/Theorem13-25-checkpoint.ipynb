{
 "cells": [
  {
   "cell_type": "code",
   "execution_count": 1,
   "metadata": {
    "collapsed": true
   },
   "outputs": [],
   "source": [
    "from z3 import Solver\n",
    "from meyer.meyer import conclude\n",
    "from meyer.program import prog, progs\n",
    "from meyer.equivalence import eq_set, eq_pre\n",
    "from meyer.special_programs import Fail, Havoc, Skip, total\n",
    "from meyer.util.z3py_set import set, sets\n",
    "\n",
    "s = Solver()"
   ]
  },
  {
   "cell_type": "markdown",
   "metadata": {},
   "source": [
    "H 両側 Skipと合成"
   ]
  },
  {
   "cell_type": "code",
   "execution_count": 2,
   "metadata": {},
   "outputs": [
    {
     "name": "stdout",
     "output_type": "stream",
     "text": [
      "\u001b[33mP13 (p ; Skip) = p\n",
      "Universe = U, has 3 element(s)\u001b[0m\n",
      "\u001b[36mHolds: unsat\u001b[0m \n",
      "\n"
     ]
    }
   ],
   "source": [
    "title1 = \"P13 (p ; Skip) = p\"\n",
    "p = prog(s, 'p')\n",
    "s.add(+p) # Additional assumption\n",
    "conclude(s, p ^ Skip() == p, title1)"
   ]
  },
  {
   "cell_type": "code",
   "execution_count": 3,
   "metadata": {},
   "outputs": [
    {
     "name": "stdout",
     "output_type": "stream",
     "text": [
      "\u001b[33mP13 (Skip ; p) = p\n",
      "Universe = U, has 3 element(s)\u001b[0m\n",
      "\u001b[36mHolds: unsat\u001b[0m \n",
      "\n"
     ]
    }
   ],
   "source": [
    "title2 = \"P13 (Skip ; p) = p\"\n",
    "p = prog(s, 'p')\n",
    "conclude(s, Skip() ^ p == p, title2)"
   ]
  },
  {
   "cell_type": "code",
   "execution_count": 4,
   "metadata": {},
   "outputs": [
    {
     "name": "stdout",
     "output_type": "stream",
     "text": [
      "\u001b[33mP14 (p ∪ Fail) = p\n",
      "Universe = U, has 3 element(s)\u001b[0m\n",
      "\u001b[36mHolds: unsat\u001b[0m \n",
      "\n"
     ]
    }
   ],
   "source": [
    "title1 = \"P14 (p ∪ Fail) = p\"\n",
    "p = prog(s, 'p')\n",
    "conclude(s, p | Fail() == p, title1)"
   ]
  },
  {
   "cell_type": "code",
   "execution_count": 5,
   "metadata": {},
   "outputs": [
    {
     "name": "stdout",
     "output_type": "stream",
     "text": [
      "\u001b[33mP14 (Fail ∪ p) = p\n",
      "Universe = U, has 3 element(s)\u001b[0m\n",
      "\u001b[36mHolds: unsat\u001b[0m \n",
      "\n"
     ]
    }
   ],
   "source": [
    "title2 = \"P14 (Fail ∪ p) = p\"\n",
    "p = prog(s, 'p')\n",
    "conclude(s, Fail() | p == p, title2)"
   ]
  },
  {
   "cell_type": "code",
   "execution_count": 6,
   "metadata": {},
   "outputs": [
    {
     "name": "stdout",
     "output_type": "stream",
     "text": [
      "\u001b[33mP15 (p ; Fail) = Fail\n",
      "Universe = U, has 3 element(s)\u001b[0m\n",
      "\u001b[36mHolds: unsat\u001b[0m \n",
      "\n"
     ]
    }
   ],
   "source": [
    "title1 = \"P15 (p ; Fail) = Fail\"\n",
    "p = prog(s, 'p')\n",
    "conclude(s, p ^ Fail() == Fail(), title1)"
   ]
  },
  {
   "cell_type": "code",
   "execution_count": 7,
   "metadata": {},
   "outputs": [
    {
     "name": "stdout",
     "output_type": "stream",
     "text": [
      "\u001b[33mP15 (Fail ; p) = Fail\n",
      "Universe = U, has 3 element(s)\u001b[0m\n",
      "\u001b[36mHolds: unsat\u001b[0m \n",
      "\n"
     ]
    }
   ],
   "source": [
    "title2 = \"P15 (Fail ; p) = Fail\"\n",
    "p = prog(s, 'p')\n",
    "conclude(s, Fail() ^ p == Fail(), title2)"
   ]
  },
  {
   "cell_type": "code",
   "execution_count": 8,
   "metadata": {},
   "outputs": [
    {
     "name": "stdout",
     "output_type": "stream",
     "text": [
      "\u001b[33mP16 (p ∪ Havoc) = Havoc\n",
      "Universe = U, has 3 element(s)\u001b[0m\n",
      "\u001b[36mHolds: unsat\u001b[0m \n",
      "\n"
     ]
    }
   ],
   "source": [
    "title1 = \"P16 (p ∪ Havoc) = Havoc\"\n",
    "p = prog(s, 'p')\n",
    "conclude(s, p | Havoc() == Havoc(), title1)"
   ]
  },
  {
   "cell_type": "code",
   "execution_count": 9,
   "metadata": {},
   "outputs": [
    {
     "name": "stdout",
     "output_type": "stream",
     "text": [
      "\u001b[33mP16 (Havoc ∪ p) = Havoc\n",
      "Universe = U, has 3 element(s)\u001b[0m\n",
      "\u001b[36mHolds: unsat\u001b[0m \n",
      "\n"
     ]
    }
   ],
   "source": [
    "title2 = \"P16 (Havoc ∪ p) = Havoc\"\n",
    "p = prog(s, 'p')\n",
    "conclude(s, Havoc() | p == Havoc(), title2)"
   ]
  },
  {
   "cell_type": "markdown",
   "metadata": {},
   "source": [
    "Ha Pre_pの表し方，feasibleが必要"
   ]
  },
  {
   "cell_type": "code",
   "execution_count": 10,
   "metadata": {},
   "outputs": [
    {
     "name": "stdout",
     "output_type": "stream",
     "text": [
      "\u001b[33mP17 (p ; Havoc) = (Pre_p: Havoc)\n",
      "Universe = U, has 3 element(s)\u001b[0m\n",
      "\u001b[36mHolds: unsat\u001b[0m \n",
      "\n"
     ]
    }
   ],
   "source": [
    "title = \"P17 (p ; Havoc) = (Pre_p: Havoc)\"\n",
    "p = prog(s, 'p')\n",
    "s.add(+p) # Additional assumption\n",
    "conclude(s, p ^ Havoc() == Havoc() / p.pre(), title)"
   ]
  },
  {
   "cell_type": "code",
   "execution_count": 11,
   "metadata": {},
   "outputs": [
    {
     "name": "stdout",
     "output_type": "stream",
     "text": [
      "\u001b[33mP18 p ⊆ (C: p)\n",
      "Universe = U, has 3 element(s)\u001b[0m\n",
      "\u001b[36mHolds: unsat\u001b[0m \n",
      "\n"
     ]
    }
   ],
   "source": [
    "title = \"P18 p ⊆ (C: p)\"\n",
    "p = prog(s, 'p')\n",
    "c = set('c')\n",
    "conclude(s, p <= p / c, title)"
   ]
  },
  {
   "cell_type": "code",
   "execution_count": 12,
   "metadata": {},
   "outputs": [
    {
     "name": "stdout",
     "output_type": "stream",
     "text": [
      "\u001b[33mP19 If D ⊆ C, then (C:p) ⊆ (D:p)\n",
      "Universe = U, has 3 element(s)\u001b[0m\n",
      "\u001b[36mHolds: unsat\u001b[0m \n",
      "\n"
     ]
    }
   ],
   "source": [
    "title = \"P19 If D ⊆ C, then (C:p) ⊆ (D:p)\"\n",
    "p = prog(s, 'p')\n",
    "c, d = sets('c d')\n",
    "s.add(d <= c)\n",
    "conclude(s, p / c <= p / d, title)"
   ]
  },
  {
   "cell_type": "code",
   "execution_count": 13,
   "metadata": {},
   "outputs": [
    {
     "name": "stdout",
     "output_type": "stream",
     "text": [
      "\u001b[33mP20 If q ⊆ p, then (C:q) ⊆ (C:p)\n",
      "Universe = U, has 3 element(s)\u001b[0m\n",
      "\u001b[36mHolds: unsat\u001b[0m \n",
      "\n"
     ]
    }
   ],
   "source": [
    "title = \"P20 If q ⊆ p, then (C:q) ⊆ (C:p)\"\n",
    "p, q = progs(s, 'p q')\n",
    "c = set('c')\n",
    "s.add(q <= p)\n",
    "conclude(s, q / c <= p / c, title)"
   ]
  },
  {
   "cell_type": "code",
   "execution_count": 14,
   "metadata": {},
   "outputs": [
    {
     "name": "stdout",
     "output_type": "stream",
     "text": [
      "\u001b[33mP21 If q1 ⊆ p1 and q2 ⊆ p2, then (q1 ∪ q2) ⊆ (p1 ∪ p2)\n",
      "Universe = U, has 3 element(s)\u001b[0m\n",
      "\u001b[36mHolds: unsat\u001b[0m \n",
      "\n"
     ]
    }
   ],
   "source": [
    "title = \"P21 If q1 ⊆ p1 and q2 ⊆ p2, then (q1 ∪ q2) ⊆ (p1 ∪ p2)\"\n",
    "p1, p2, q1, q2 = progs(s, 'p1 p2 q1 q2')\n",
    "s.add(eq_pre(p1, p2)) # Additional assumption makes hold but too strong\n",
    "s.add(+p1, +p2, +q1, +q2)\n",
    "s.add(q1 <= p1, q2 <= p2)\n",
    "conclude(s, q1 | q2 <= p1 | p2, title)"
   ]
  },
  {
   "cell_type": "markdown",
   "metadata": {},
   "source": [
    "U "
   ]
  },
  {
   "cell_type": "code",
   "execution_count": 15,
   "metadata": {},
   "outputs": [
    {
     "name": "stdout",
     "output_type": "stream",
     "text": [
      "\u001b[33mP21 If q1 ⊆ p1 and q2 ⊆ p2, then (q1 ; q2) ⊆ (p1 ; p2)\n",
      "Universe = U, has 3 element(s)\u001b[0m\n",
      "\u001b[31mUnholds: sat\u001b[0m\n",
      "set of p2_167\n",
      " else -> Not(And(Not(Var(0) == C), Not(Var(0) == A)))\n",
      "\n",
      "pre of p2_167\n",
      " else -> Var(0) == C\n",
      "\n",
      "post of p2_167\n",
      " A ->\n",
      "\t else -> Not(And(Not(Var(0) == C), Not(Var(0) == A)))\n",
      " B ->\n",
      "\t else -> False\n",
      " C ->\n",
      "\t B -> False\n",
      "\t else -> True\n",
      " else ->\n",
      "\t C -> True\n",
      "\t else -> False\n",
      "\n",
      "set of q2_175\n",
      " else -> True\n",
      "\n",
      "pre of q2_175\n",
      " else -> Not(And(Not(Var(0) == C), Not(Var(0) == A)))\n",
      "\n",
      "post of q2_175\n",
      " A ->\n",
      "\t else -> True\n",
      " B ->\n",
      "\t else -> True\n",
      " else ->\n",
      "\t C -> True\n",
      "\t else -> False\n",
      "\n",
      "set of q1_171\n",
      " else -> Not(And(Not(Var(0) == C), Not(Var(0) == A)))\n",
      "\n",
      "pre of q1_171\n",
      " else -> Not(And(Not(Var(0) == C), Not(Var(0) == A)))\n",
      "\n",
      "post of q1_171\n",
      " A ->\n",
      "\t else -> Not(And(Not(Var(0) == C), Not(Var(0) == A)))\n",
      " B ->\n",
      "\t else -> False\n",
      " C ->\n",
      "\t B -> False\n",
      "\t else -> True\n",
      " else ->\n",
      "\t C -> True\n",
      "\t else -> False\n",
      "\n",
      "set of p1_163\n",
      " else -> Not(And(Not(Var(0) == C), Not(Var(0) == A)))\n",
      "\n",
      "pre of p1_163\n",
      " else -> And(Not(Var(0) == C), Var(0) == A)\n",
      "\n",
      "post of p1_163\n",
      " A ->\n",
      "\t else -> Not(And(Not(Var(0) == C), Not(Var(0) == A)))\n",
      " B ->\n",
      "\t else -> False\n",
      " C ->\n",
      "\t B -> False\n",
      "\t else -> True\n",
      " else ->\n",
      "\t C -> True\n",
      "\t else -> False\n",
      "\n"
     ]
    }
   ],
   "source": [
    "title = \"P21 If q1 ⊆ p1 and q2 ⊆ p2, then (q1 ; q2) ⊆ (p1 ; p2)\"\n",
    "p1, p2, q1, q2 = progs(s, 'p1 p2 q1 q2')\n",
    "s.add(eq_pre(q1, q2)) # additional assumption still not makes hold\n",
    "s.add(+p1, +p2, +q1, +q2)\n",
    "s.add(q1 <= p1, q2 <= p2)\n",
    "conclude(s, q1 ^ q2 <= p1 ^ p2, title)"
   ]
  },
  {
   "cell_type": "code",
   "execution_count": null,
   "metadata": {
    "collapsed": true
   },
   "outputs": [],
   "source": [
    "Ha pとHavocのSetを合わせる"
   ]
  },
  {
   "cell_type": "code",
   "execution_count": 2,
   "metadata": {},
   "outputs": [
    {
     "name": "stdout",
     "output_type": "stream",
     "text": [
      "\u001b[33mP22 p ⊆ (Pre_p: Havoc) for any p\n",
      "Universe = U, has 3 element(s)\u001b[0m\n",
      "[And(ForAll(x_2, Implies(pre(p_1)[x_2], set(p_1)[x_2])),\n",
      "     ForAll([x_3, y_4],\n",
      "            Implies(post(p_1)[x_3][y_4],\n",
      "                    And(set(p_1)[x_3], set(p_1)[y_4])))),\n",
      " Not(And(ForAll(x_5, Implies(True, set(p_1)[x_5])),\n",
      "         ForAll(x_6,\n",
      "                Implies(And(True, pre(p_1)[x_6]),\n",
      "                        pre(p_1)[x_6])),\n",
      "         ForAll([x_7, y_8],\n",
      "                Implies(And(post(p_1)[x_7][y_8],\n",
      "                            And(True, pre(p_1)[x_7])),\n",
      "                        And(True, pre(p_1)[x_7])))))]\n",
      "\u001b[31mUnholds: unknown\u001b[0m\n",
      "\u001b[31msmt tactic failed to show goal to be sat/unsat (incomplete quantifiers)\u001b[0m \n",
      "\n"
     ]
    }
   ],
   "source": [
    "title = \"P22 p ⊆ (Pre_p: Havoc) for any p\"\n",
    "p = prog(s, 'p')\n",
    "conclude(s, p <= Havoc() / p.pre(), title)\n",
    "# s.add(eq_set(p, Havoc())) # Additional assumption, unknown without this even continuous execution"
   ]
  },
  {
   "cell_type": "code",
   "execution_count": 17,
   "metadata": {},
   "outputs": [
    {
     "name": "stdout",
     "output_type": "stream",
     "text": [
      "\u001b[33mP23 p ⊆ Havoc for any total p\n",
      "Universe = U, has 3 element(s)\u001b[0m\n",
      "\u001b[36mHolds: unsat\u001b[0m \n",
      "\n"
     ]
    }
   ],
   "source": [
    "title = \"P23 p ⊆ Havoc for any total p\"\n",
    "p = total(s)\n",
    "conclude(s, p <= Havoc(), title)"
   ]
  },
  {
   "cell_type": "markdown",
   "metadata": {},
   "source": [
    "Ha?U? 片側だけなのでは"
   ]
  },
  {
   "cell_type": "code",
   "execution_count": 18,
   "metadata": {},
   "outputs": [
    {
     "name": "stdout",
     "output_type": "stream",
     "text": [
      "\u001b[33mP24 If p ⊆ Fail then p = Fail\n",
      "Universe = U, has 3 element(s)\u001b[0m\n",
      "\u001b[31mUnholds: sat\u001b[0m\n",
      "set of p_227\n",
      " else -> True\n",
      "\n",
      "pre of p_227\n",
      " else -> Not(Var(0) == A)\n",
      "\n",
      "post of p_227\n",
      " else ->\n",
      "\t else -> True\n",
      "\n"
     ]
    }
   ],
   "source": [
    "# if and only if => if, so title1 is ignored.\n",
    "title1 = \"P24 If p ⊆ Fail then p = Fail\"\n",
    "p = prog(s, 'p')\n",
    "s.add(p <= Fail())\n",
    "conclude(s, p == Fail(), title1)"
   ]
  },
  {
   "cell_type": "code",
   "execution_count": 19,
   "metadata": {},
   "outputs": [
    {
     "name": "stdout",
     "output_type": "stream",
     "text": [
      "\u001b[33mP24 If p = Fail then p ⊆ Fail\n",
      "Universe = U, has 3 element(s)\u001b[0m\n",
      "\u001b[36mHolds: unsat\u001b[0m \n",
      "\n"
     ]
    }
   ],
   "source": [
    "title2 = \"P24 If p = Fail then p ⊆ Fail\"\n",
    "p = prog(s, 'p')\n",
    "s.add(p == Fail())\n",
    "conclude(s, p <= Fail(), title2)"
   ]
  },
  {
   "cell_type": "code",
   "execution_count": 20,
   "metadata": {},
   "outputs": [
    {
     "name": "stdout",
     "output_type": "stream",
     "text": [
      "\u001b[33mP25 If Fail ⊆ p then p = Fail\n",
      "Universe = U, has 3 element(s)\u001b[0m\n",
      "\u001b[36mHolds: unsat\u001b[0m \n",
      "\n"
     ]
    }
   ],
   "source": [
    "title1 = \"P25 If Fail ⊆ p then p = Fail\"\n",
    "p = prog(s, 'p')\n",
    "s.add(Fail() <= p)\n",
    "conclude(s, p == Fail(), title1)"
   ]
  },
  {
   "cell_type": "code",
   "execution_count": 21,
   "metadata": {},
   "outputs": [
    {
     "name": "stdout",
     "output_type": "stream",
     "text": [
      "\u001b[33mP25 If p = Fail then Fail ⊆ p\n",
      "Universe = U, has 3 element(s)\u001b[0m\n",
      "\u001b[36mHolds: unsat\u001b[0m \n",
      "\n"
     ]
    }
   ],
   "source": [
    "title2 = \"P25 If p = Fail then Fail ⊆ p\"\n",
    "p = prog(s, 'p')\n",
    "s.add(p == Fail())\n",
    "s.add(eq_set(p, Fail())) # Additional assumption\n",
    "conclude(s, Fail() <= p, title2)"
   ]
  }
 ],
 "metadata": {
  "kernelspec": {
   "display_name": "Python 3",
   "language": "python",
   "name": "python3"
  },
  "language_info": {
   "codemirror_mode": {
    "name": "ipython",
    "version": 3
   },
   "file_extension": ".py",
   "mimetype": "text/x-python",
   "name": "python",
   "nbconvert_exporter": "python",
   "pygments_lexer": "ipython3",
   "version": "3.6.2"
  }
 },
 "nbformat": 4,
 "nbformat_minor": 2
}
