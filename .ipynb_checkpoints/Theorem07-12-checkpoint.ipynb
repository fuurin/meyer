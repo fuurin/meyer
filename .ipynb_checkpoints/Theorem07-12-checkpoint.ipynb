{
 "cells": [
  {
   "cell_type": "code",
   "execution_count": 1,
   "metadata": {
    "collapsed": true
   },
   "outputs": [],
   "source": [
    "from z3 import Solver\n",
    "from meyer.meyer import conclude\n",
    "from meyer.program import prog, progs\n",
    "from meyer.util.z3py_set import set, sets\n",
    "\n",
    "s = Solver()"
   ]
  },
  {
   "cell_type": "code",
   "execution_count": 2,
   "metadata": {},
   "outputs": [
    {
     "name": "stdout",
     "output_type": "stream",
     "text": [
      "\u001b[33mP7 c1:(c2:p) = c2:(c1:p)\n",
      "Universe = U, has 3 element(s)\u001b[0m\n",
      "\u001b[36mHolds: unsat\u001b[0m \n",
      "\n"
     ]
    }
   ],
   "source": [
    "title = \"P7 c1:(c2:p) = c2:(c1:p)\"\n",
    "c1, c2 = sets('c1 c2')\n",
    "p = prog(s, 'p')\n",
    "conclude(s, p / c1 / c2 == p / c2 / c1, title)"
   ]
  },
  {
   "cell_type": "code",
   "execution_count": 3,
   "metadata": {
    "scrolled": true
   },
   "outputs": [
    {
     "name": "stdout",
     "output_type": "stream",
     "text": [
      "\u001b[33mP8 c1:(c2:p) = (c1∩c2):p\n",
      "Universe = U, has 3 element(s)\u001b[0m\n",
      "\u001b[36mHolds: unsat\u001b[0m \n",
      "\n"
     ]
    }
   ],
   "source": [
    "title = \"P8 c1:(c2:p) = (c1∩c2):p\"\n",
    "c1, c2 = sets('c1 c2')\n",
    "p = prog(s, 'p')\n",
    "conclude(s, p / c2 / c1 == p / (c1 & c2), title)"
   ]
  },
  {
   "cell_type": "code",
   "execution_count": 4,
   "metadata": {},
   "outputs": [
    {
     "name": "stdout",
     "output_type": "stream",
     "text": [
      "\u001b[33mP9 c:(p1∪p2) = (c:p1)∪(c:p2)\n",
      "Universe = U, has 3 element(s)\u001b[0m\n",
      "\u001b[36mHolds: unsat\u001b[0m \n",
      "\n"
     ]
    }
   ],
   "source": [
    "title = \"P9 c:(p1∪p2) = (c:p1)∪(c:p2)\"\n",
    "c = set('c')\n",
    "p1, p2 = progs(s, 'p1 p2')\n",
    "conclude(s, (p1 | p2) / c == p1 / c | p2 / c, title)"
   ]
  },
  {
   "cell_type": "code",
   "execution_count": 5,
   "metadata": {},
   "outputs": [
    {
     "name": "stdout",
     "output_type": "stream",
     "text": [
      "\u001b[33mP10 c:(p1;p2) = (c:p1);p2\n",
      "Universe = U, has 3 element(s)\u001b[0m\n",
      "\u001b[36mHolds: unsat\u001b[0m \n",
      "\n"
     ]
    }
   ],
   "source": [
    "title = \"P10 c:(p1;p2) = (c:p1);p2\"\n",
    "c = set('c')\n",
    "p1, p2 = progs(s, 'p1 p2')\n",
    "conclude(s, (p1 ^ p2) / c == p1 / c ^ p2, title)"
   ]
  },
  {
   "cell_type": "markdown",
   "metadata": {},
   "source": [
    "P11, 12 他に成り立たせる方法はないのか？でないとP63の証明に使えない"
   ]
  },
  {
   "cell_type": "markdown",
   "metadata": {},
   "source": [
    "Ha 11と同じパターン"
   ]
  },
  {
   "cell_type": "code",
   "execution_count": 6,
   "metadata": {},
   "outputs": [
    {
     "name": "stdout",
     "output_type": "stream",
     "text": [
      "\u001b[33mP11 q;(p1∪p2) = (q;p1)∪(q;p2)\n",
      "Universe = U, has 3 element(s)\u001b[0m\n",
      "\u001b[36mHolds: unsat\u001b[0m \n",
      "\n"
     ]
    }
   ],
   "source": [
    "title = \"P11 q;(p1∪p2) = (q;p1)∪(q;p2)\"\n",
    "q, p1, p2 = progs(s, 'q p1 p2')\n",
    "s.add(~p1, ~p2) # Additional assumption but too strong\n",
    "conclude(s, q ^ (p1 | p2) == (q ^ p1) | (q ^ p2), title)"
   ]
  },
  {
   "cell_type": "code",
   "execution_count": 7,
   "metadata": {},
   "outputs": [
    {
     "name": "stdout",
     "output_type": "stream",
     "text": [
      "\u001b[33mP11 q;(p1∪p2) = (q;p1)∪(q;p2)\n",
      "Universe = U, has 3 element(s)\u001b[0m\n",
      "\u001b[31mUnholds: sat\u001b[0m\n",
      "set of p2_87\n",
      " else -> And(Not(Var(0) == A), Not(Var(0) == C))\n",
      "\n",
      "pre of p2_87\n",
      " else -> And(Not(Var(0) == A), Not(Var(0) == C))\n",
      "\n",
      "post of p2_87\n",
      " else ->\n",
      "\t if -> And(Not(Var(0) == A), Not(Var(0) == C))\n",
      "\t then ->\n",
      "\t\t else -> False\n",
      "\t else ->\n",
      "\t\t else -> False\n",
      "\n",
      "set of p1_83\n",
      " else -> Not(And(Not(Var(0) == A), Var(0) == C))\n",
      "\n",
      "pre of p1_83\n",
      " else -> Var(0) == A\n",
      "\n",
      "post of p1_83\n",
      " else ->\n",
      "\t if -> And(Not(Var(0) == A), Not(Var(0) == C))\n",
      "\t then ->\n",
      "\t\t else -> Not(And(Not(Var(0) == A), Var(0) == C))\n",
      "\t else ->\n",
      "\t\t else -> False\n",
      "\n",
      "set of q_79\n",
      " else -> True\n",
      "\n",
      "pre of q_79\n",
      " else -> And(Not(Var(0) == A), Var(0) == C)\n",
      "\n",
      "post of q_79\n",
      " else ->\n",
      "\t if -> And(Not(Var(0) == A), Var(0) == C)\n",
      "\t then ->\n",
      "\t\t else -> Not(And(Not(Var(0) == A), Var(0) == C))\n",
      "\t else ->\n",
      "\t\t if -> And(Not(Var(0) == A), Not(Var(0) == C))\n",
      "\t\t then ->\n",
      "\t\t\t else -> True\n",
      "\t\t else ->\n",
      "\t\t\t else -> True\n",
      "\n"
     ]
    }
   ],
   "source": [
    "title = \"P11 q;(p1∪p2) = (q;p1)∪(q;p2)\"\n",
    "q, p1, p2 = progs(s, 'q p1 p2')\n",
    "# s.add(~p1, ~p2) # Additional assumption but too strong\n",
    "lhs = q ^ (p1 | p2)\n",
    "rhs = (q ^ p1) | (q ^ p2)\n",
    "conclude(s, lhs == rhs, title)"
   ]
  },
  {
   "cell_type": "code",
   "execution_count": 8,
   "metadata": {},
   "outputs": [
    {
     "name": "stdout",
     "output_type": "stream",
     "text": [
      "\u001b[33mP12 (p1∪p2);q = (p1;q)∪(p2;q)\n",
      "Universe = U, has 3 element(s)\u001b[0m\n",
      "\u001b[36mHolds: unsat\u001b[0m \n",
      "\n"
     ]
    }
   ],
   "source": [
    "title = \"P12 (p1∪p2);q = (p1;q)∪(p2;q)\"\n",
    "q, p1, p2 = progs(s, 'q p1 p2')\n",
    "s.add(~p1, ~p2) # Additional assumption but too strong\n",
    "conclude(s, (p1 | p2) ^ q == (p1 ^ q) | (p2 ^ q), title)"
   ]
  }
 ],
 "metadata": {
  "kernelspec": {
   "display_name": "Python 3",
   "language": "python",
   "name": "python3"
  },
  "language_info": {
   "codemirror_mode": {
    "name": "ipython",
    "version": 3
   },
   "file_extension": ".py",
   "mimetype": "text/x-python",
   "name": "python",
   "nbconvert_exporter": "python",
   "pygments_lexer": "ipython3",
   "version": "3.6.2"
  }
 },
 "nbformat": 4,
 "nbformat_minor": 2
}
