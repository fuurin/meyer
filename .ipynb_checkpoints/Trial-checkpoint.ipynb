{
 "cells": [
  {
   "cell_type": "code",
   "execution_count": 9,
   "metadata": {},
   "outputs": [
    {
     "name": "stdout",
     "output_type": "stream",
     "text": [
      "this is method 2 and calls method 1\n",
      "this is method 1\n",
      "this is method 3 and overrided from method 3\n",
      "True\n",
      "True\n"
     ]
    }
   ],
   "source": [
    "class A():\n",
    "    def method1(self):\n",
    "        print(\"this is method 1\")\n",
    "    \n",
    "    def method3(self):\n",
    "        print(\"this is method 3\")\n",
    "\n",
    "class B(A):\n",
    "    def method2(self):\n",
    "        print(\"this is method 2 and calls method 1\")\n",
    "        self.method1()\n",
    "    \n",
    "    def method3(self):\n",
    "        print(\"this is method 3 and overrided from method 3\")\n",
    "\n",
    "b = B()\n",
    "b.method2()\n",
    "b.method3()\n",
    "print(isinstance(b, B))\n",
    "print(isinstance(b, A))"
   ]
  }
 ],
 "metadata": {
  "kernelspec": {
   "display_name": "Python 3",
   "language": "python",
   "name": "python3"
  },
  "language_info": {
   "codemirror_mode": {
    "name": "ipython",
    "version": 3
   },
   "file_extension": ".py",
   "mimetype": "text/x-python",
   "name": "python",
   "nbconvert_exporter": "python",
   "pygments_lexer": "ipython3",
   "version": "3.6.0"
  }
 },
 "nbformat": 4,
 "nbformat_minor": 2
}
