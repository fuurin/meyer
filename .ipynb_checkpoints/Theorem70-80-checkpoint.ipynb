{
 "cells": [
  {
   "cell_type": "code",
   "execution_count": 1,
   "metadata": {
    "collapsed": true
   },
   "outputs": [],
   "source": [
    "from z3 import Solver, And, ForAll, Implies, Or\n",
    "from meyer.meyer import conclude, U\n",
    "from meyer.program import prog, progs\n",
    "from meyer.special_programs import Fail\n",
    "from meyer.equivalence import eq_set, equal\n",
    "from meyer.contracted_program import contracts, require, CProg\n",
    "from meyer.conditions import false, fail\n",
    "from meyer.state import trivial, relevant\n",
    "from meyer.util.z3py_set import set, sets\n",
    "from meyer.util.z3py_rel import rel, rels\n",
    "from meyer.util.z3py_util import const\n",
    "\n",
    "s = Solver()"
   ]
  },
  {
   "cell_type": "markdown",
   "metadata": {},
   "source": [
    "Ha contracted program"
   ]
  },
  {
   "cell_type": "code",
   "execution_count": 2,
   "metadata": {
    "scrolled": true
   },
   "outputs": [
    {
     "name": "stdout",
     "output_type": "stream",
     "text": [
      "\u001b[33mP70 If post <= post', Pre' <= Pre and CProg(Pre,b,post) is a cotracted program, so is CProg(Pre',b,post')\u001b[0m\n",
      "\u001b[33mUniverse = U, has 3 element(s)\u001b[0m\n",
      "\u001b[36mHolds: unsat\u001b[0m \n",
      "\n"
     ]
    }
   ],
   "source": [
    "# pre, post should be declared as set and relation. See next cell\n",
    "title = \"P70 If post <= post', Pre' <= Pre and CProg(Pre,b,post) is a cotracted program, so is CProg(Pre',b,post')\"\n",
    "b, p, q = progs(s, 'b p q')\n",
    "s.add(eq_set(b, q)) # Additional assumption\n",
    "s.add(p.post() <= q.post(), q.pre() <= p.pre(), contracts(b, p))\n",
    "conclude(s, contracts(b, q), title)"
   ]
  },
  {
   "cell_type": "code",
   "execution_count": 3,
   "metadata": {},
   "outputs": [
    {
     "name": "stdout",
     "output_type": "stream",
     "text": [
      "\u001b[33mP70 If post <= post', Pre' <= Pre and require Pre do b ensure post end is a cotracted program, so is require Pre' do b ensure post' end\u001b[0m\n",
      "\u001b[33mUniverse = U, has 3 element(s)\u001b[0m\n",
      "\u001b[36mHolds: unsat\u001b[0m \n",
      "\n"
     ]
    }
   ],
   "source": [
    "title = \"P70 If post <= post', Pre' <= Pre and require Pre do b ensure post end is a cotracted program, so is require Pre' do b ensure post' end\"\n",
    "b = prog(s, 'b')\n",
    "pre, pre_ = sets('pre pre_')\n",
    "post, post_ = rels('post post_')\n",
    "s.add(post <= post_, pre_ <= pre, require(pre, b, post))\n",
    "conclude(s, require(pre_, b, post_), title)"
   ]
  },
  {
   "cell_type": "code",
   "execution_count": 4,
   "metadata": {},
   "outputs": [
    {
     "name": "stdout",
     "output_type": "stream",
     "text": [
      "\u001b[33mP71 If CProg(Pre,b,post) is a correct program, then (b sp Pre) <= post and Pre <= (b wp post)\u001b[0m\n",
      "\u001b[33mUniverse = U, has 3 element(s)\u001b[0m\n",
      "\u001b[36mHolds: unsat\u001b[0m \n",
      "\n"
     ]
    }
   ],
   "source": [
    "title = \"P71 If CProg(Pre,b,post) is a correct program, then (b sp Pre) <= post and Pre <= (b wp post)\"\n",
    "p = CProg(s)\n",
    "conclude(s, And(p.sp() <= p.post(), p.pre() <= p.wp()), title)"
   ]
  },
  {
   "cell_type": "code",
   "execution_count": 15,
   "metadata": {},
   "outputs": [
    {
     "name": "stdout",
     "output_type": "stream",
     "text": [
      "\u001b[33mP72 CProg(Pre, b, post) is correct if and only if Pre <= dom(b) - dom(post_b - post)\u001b[0m\n",
      "\u001b[33mUniverse = U, has 3 element(s)\u001b[0m\n",
      "\u001b[36mHolds: unsat\u001b[0m \n",
      "\n"
     ]
    }
   ],
   "source": [
    "title = \"P72 CProg(Pre, b, post) is correct if and only if Pre <= dom(b) - dom(post_b - post)\"\n",
    "p, b = progs(s, \"p b\")\n",
    "s.add(eq_set(p, b), +p, +b) # Additional assumption\n",
    "conclude(s, contracts(b, p) == (p.pre() <= b.dom() - (b.post() - p.post).dom()), title)"
   ]
  },
  {
   "cell_type": "code",
   "execution_count": 6,
   "metadata": {},
   "outputs": [
    {
     "name": "stdout",
     "output_type": "stream",
     "text": [
      "\u001b[33mP73 b sp False = fail\u001b[0m\n",
      "\u001b[33mUniverse = U, has 3 element(s)\u001b[0m\n",
      "\u001b[36mHolds: unsat\u001b[0m \n",
      "\n"
     ]
    }
   ],
   "source": [
    "title = \"P73 b sp False = fail\"\n",
    "p = CProg(s)\n",
    "conclude(s, p.sp(false()) == fail(), title)"
   ]
  },
  {
   "cell_type": "code",
   "execution_count": 7,
   "metadata": {},
   "outputs": [
    {
     "name": "stdout",
     "output_type": "stream",
     "text": [
      "\u001b[33mP74 b wp Fail = False\u001b[0m\n",
      "\u001b[33mUniverse = U, has 3 element(s)\u001b[0m\n",
      "\u001b[36mHolds: unsat\u001b[0m \n",
      "\n"
     ]
    }
   ],
   "source": [
    "title = \"P74 b wp Fail = False\"\n",
    "p = CProg(s)\n",
    "conclude(s, p.wp(fail()) == false(), title)"
   ]
  },
  {
   "cell_type": "code",
   "execution_count": 8,
   "metadata": {},
   "outputs": [
    {
     "name": "stdout",
     "output_type": "stream",
     "text": [
      "\u001b[33mP75 Fail sp C = Fail\u001b[0m\n",
      "\u001b[33mUniverse = U, has 3 element(s)\u001b[0m\n",
      "\u001b[36mHolds: unsat\u001b[0m \n",
      "\n"
     ]
    }
   ],
   "source": [
    "title = \"P75 Fail sp C = Fail\"\n",
    "C = set('C')\n",
    "b, p = progs(s, 'b p')\n",
    "s.add(equal(b, Fail())) # Failをそのままつっこめるようにしたい\n",
    "cp = CProg(s, b, p)\n",
    "conclude(s, cp.sp(C) == fail(), title)"
   ]
  },
  {
   "cell_type": "code",
   "execution_count": 9,
   "metadata": {},
   "outputs": [
    {
     "name": "stdout",
     "output_type": "stream",
     "text": [
      "\u001b[33mP76 Fail wp post (not p) = False\u001b[0m\n",
      "\u001b[33mUniverse = U, has 3 element(s)\u001b[0m\n",
      "\u001b[36mHolds: unsat\u001b[0m \n",
      "\n"
     ]
    }
   ],
   "source": [
    "title = \"P76 Fail wp post (not p) = False\"\n",
    "b, p = progs(s, 'b p')\n",
    "s.add(equal(b, Fail()))\n",
    "cp = CProg(s, b, p)\n",
    "conclude(s, cp.wp() == false(), title)"
   ]
  },
  {
   "cell_type": "code",
   "execution_count": 10,
   "metadata": {},
   "outputs": [
    {
     "name": "stdout",
     "output_type": "stream",
     "text": [
      "\u001b[33mP77 b sp (p ∪ q) = (b sp p) ∪ (b sp q)\u001b[0m\n",
      "\u001b[33mUniverse = U, has 3 element(s)\u001b[0m\n",
      "\u001b[36mHolds: unsat\u001b[0m \n",
      "\n"
     ]
    }
   ],
   "source": [
    "title = \"P77 b sp (p ∪ q) = (b sp p) ∪ (b sp q)\"\n",
    "b, p, q = progs(s, 'b p q')\n",
    "conclude(s, CProg(s, b, p|q).sp() == CProg(s, b, p).sp() | CProg(s, b, q).sp(), title) # only one way\n",
    "# conclude(s, CProg(s, b, p|q).sp() >= CProg(s, b, p).sp() | CProg(s, b, q).sp(), title)"
   ]
  },
  {
   "cell_type": "markdown",
   "metadata": {},
   "source": [
    "新Choice使ったら逆になった"
   ]
  },
  {
   "cell_type": "code",
   "execution_count": 11,
   "metadata": {},
   "outputs": [
    {
     "name": "stdout",
     "output_type": "stream",
     "text": [
      "\u001b[33mP78 b wp (p ∪ q) >= (b wp p) ∪ (b wp q)\u001b[0m\n",
      "\u001b[33mUniverse = U, has 3 element(s)\u001b[0m\n",
      "\u001b[36mHolds: unsat\u001b[0m \n",
      "\n"
     ]
    }
   ],
   "source": [
    "title = \"P78 b wp (p ∪ q) >= (b wp p) ∪ (b wp q)\"\n",
    "b, p, q = progs(s, 'b p q')\n",
    "conclude(s, CProg(s, b, p|q).wp() <= CProg(s, b, p).wp() | CProg(s, b, q).wp(), title)"
   ]
  },
  {
   "cell_type": "code",
   "execution_count": 12,
   "metadata": {},
   "outputs": [
    {
     "name": "stdout",
     "output_type": "stream",
     "text": [
      "\u001b[33mP79 For feasible p, CProg(dom(p), p, post_p), the most abstract implementation of p, is a correct program\u001b[0m\n",
      "\u001b[33mUniverse = U, has 3 element(s)\u001b[0m\n",
      "\u001b[36mHolds: unsat\u001b[0m \n",
      "\n"
     ]
    }
   ],
   "source": [
    "title = \"P79 For feasible p, CProg(dom(p), p, post_p), the most abstract implementation of p, is a correct program\"\n",
    "p = prog(s, \"p\")\n",
    "s.add(+p)\n",
    "conclude(s, contracts(p, p), title)"
   ]
  },
  {
   "cell_type": "code",
   "execution_count": 13,
   "metadata": {},
   "outputs": [
    {
     "name": "stdout",
     "output_type": "stream",
     "text": [
      "\u001b[33mP80 A specification <post, Pre> is feasible if and only if every state in Pre is either trivial or relevant\u001b[0m\n",
      "\u001b[33mUniverse = U, has 3 element(s)\u001b[0m\n",
      "\u001b[36mHolds: unsat\u001b[0m \n",
      "\n"
     ]
    }
   ],
   "source": [
    "title = \"P80 A specification <post, Pre> is feasible if and only if every state in Pre is either trivial or relevant\"\n",
    "p = prog(s, 'p')\n",
    "x = const('x', U)\n",
    "conclude(s, +p == ForAll(x, Implies(p.pre(x), Or(trivial(x, p.post), relevant(x, p.post)))), title)"
   ]
  }
 ],
 "metadata": {
  "kernelspec": {
   "display_name": "Python 3",
   "language": "python",
   "name": "python3"
  },
  "language_info": {
   "codemirror_mode": {
    "name": "ipython",
    "version": 3
   },
   "file_extension": ".py",
   "mimetype": "text/x-python",
   "name": "python",
   "nbconvert_exporter": "python",
   "pygments_lexer": "ipython3",
   "version": "3.6.2"
  }
 },
 "nbformat": 4,
 "nbformat_minor": 2
}
