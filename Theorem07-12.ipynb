{
 "cells": [
  {
   "cell_type": "code",
   "execution_count": 1,
   "metadata": {
    "collapsed": true
   },
   "outputs": [],
   "source": [
    "from z3 import Solver\n",
    "from meyer.meyer import conclude\n",
    "from meyer.program import prog, progs\n",
    "from meyer.util.z3py_set import set, sets\n",
    "\n",
    "s = Solver()"
   ]
  },
  {
   "cell_type": "code",
   "execution_count": 2,
   "metadata": {},
   "outputs": [
    {
     "name": "stdout",
     "output_type": "stream",
     "text": [
      "\u001b[33mP7 c1:(c2:p) = c2:(c1:p)\n",
      "Universe = U, has 3 element(s)\u001b[0m\n",
      "\u001b[36mHolds: unsat\u001b[0m \n",
      "\n"
     ]
    }
   ],
   "source": [
    "title = \"P7 c1:(c2:p) = c2:(c1:p)\"\n",
    "c1, c2 = sets('c1 c2')\n",
    "p = prog(s, 'p')\n",
    "conclude(s, p / c1 / c2 == p / c2 / c1, title)"
   ]
  },
  {
   "cell_type": "code",
   "execution_count": 2,
   "metadata": {},
   "outputs": [
    {
     "name": "stdout",
     "output_type": "stream",
     "text": [
      "[And(ForAll(x_4, Implies(pre(p_3)[x_4], set(p_3)[x_4])),\n",
      "     ForAll([x_5, y_6],\n",
      "            Implies(post(p_3)[x_5][y_6],\n",
      "                    And(set(p_3)[x_5], set(p_3)[y_6])))),\n",
      " Not(And(ForAll(x_7,\n",
      "                And(And(pre(p_3)[x_7], c2_2[x_7]),\n",
      "                    c1_1[x_7]) ==\n",
      "                And(pre(p_3)[x_7],\n",
      "                    And(c1_1[x_7], c2_2[x_7]))),\n",
      "         ForAll([x_8, y_9],\n",
      "                And(And(And(post(p_3)[x_8][y_9], c2_2[x_8]),\n",
      "                        c1_1[x_8]),\n",
      "                    And(And(pre(p_3)[x_8], c2_2[x_8]),\n",
      "                        c1_1[x_8])) ==\n",
      "                And(And(post(p_3)[x_8][y_9],\n",
      "                        And(c1_1[x_8], c2_2[x_8])),\n",
      "                    And(pre(p_3)[x_8],\n",
      "                        And(c1_1[x_8], c2_2[x_8]))))))]\n",
      "\u001b[33mP8 c1:(c2:p) = (c1∩c2):p\n",
      "Universe = U, has 3 element(s)\u001b[0m\n",
      "\u001b[36mHolds: unsat\u001b[0m \n",
      "\n"
     ]
    }
   ],
   "source": [
    "title = \"P8 c1:(c2:p) = (c1∩c2):p\"\n",
    "c1, c2 = sets('c1 c2')\n",
    "p = prog(s, 'p')\n",
    "conclude(s, p / c2 / c1 == p / (c1 & c2), title)"
   ]
  },
  {
   "cell_type": "code",
   "execution_count": 4,
   "metadata": {},
   "outputs": [
    {
     "name": "stdout",
     "output_type": "stream",
     "text": [
      "\u001b[33mP9 c:(p1∪p2) = (c:p1)∪(c:p2)\n",
      "Universe = U, has 3 element(s)\u001b[0m\n",
      "\u001b[36mHolds: unsat\u001b[0m \n",
      "\n"
     ]
    }
   ],
   "source": [
    "title = \"P9 c:(p1∪p2) = (c:p1)∪(c:p2)\"\n",
    "c = set('c')\n",
    "p1, p2 = progs(s, 'p1 p2')\n",
    "conclude(s, (p1 | p2) / c == p1 / c | p2 / c, title)"
   ]
  },
  {
   "cell_type": "code",
   "execution_count": 5,
   "metadata": {},
   "outputs": [
    {
     "name": "stdout",
     "output_type": "stream",
     "text": [
      "\u001b[33mP10 c:(p1;p2) = (c:p1);p2\n",
      "Universe = U, has 3 element(s)\u001b[0m\n",
      "\u001b[36mHolds: unsat\u001b[0m \n",
      "\n"
     ]
    }
   ],
   "source": [
    "title = \"P10 c:(p1;p2) = (c:p1);p2\"\n",
    "c = set('c')\n",
    "p1, p2 = progs(s, 'p1 p2')\n",
    "conclude(s, (p1 ^ p2) / c == p1 / c ^ p2, title)"
   ]
  },
  {
   "cell_type": "markdown",
   "metadata": {},
   "source": [
    "P11, 12 他に成り立たせる方法はないのか？でないとP63の証明に使えない"
   ]
  },
  {
   "cell_type": "code",
   "execution_count": 9,
   "metadata": {},
   "outputs": [
    {
     "name": "stdout",
     "output_type": "stream",
     "text": [
      "\u001b[33mP11 q;(p1∪p2) = (q;p1)∪(q;p2)\n",
      "Universe = U, has 3 element(s)\u001b[0m\n",
      "\u001b[36mHolds: unsat\u001b[0m \n",
      "\n"
     ]
    }
   ],
   "source": [
    "title = \"P11 q;(p1∪p2) = (q;p1)∪(q;p2)\"\n",
    "q, p1, p2 = progs(s, 'q p1 p2')\n",
    "s.add(~q, ~p1, ~p2) # Additional assumption but too strong\n",
    "conclude(s, q ^ (p1 | p2) == (q ^ p1) | (q ^ p2), title)"
   ]
  },
  {
   "cell_type": "code",
   "execution_count": 10,
   "metadata": {},
   "outputs": [
    {
     "name": "stdout",
     "output_type": "stream",
     "text": [
      "\u001b[33mP12 (p1∪p2);q = (p1;q)∪(p2;q)\n",
      "Universe = U, has 3 element(s)\u001b[0m\n",
      "\u001b[36mHolds: unsat\u001b[0m \n",
      "\n"
     ]
    }
   ],
   "source": [
    "title = \"P12 (p1∪p2);q = (p1;q)∪(p2;q)\"\n",
    "q, p1, p2 = progs(s, 'q p1 p2')\n",
    "s.add(~q, ~p1, ~p2) # Additional assumption but too strong\n",
    "conclude(s, (p1 | p2) ^ q == (p1 ^ q) | (p2 ^ q), title)"
   ]
  }
 ],
 "metadata": {
  "kernelspec": {
   "display_name": "Python 3",
   "language": "python",
   "name": "python3"
  },
  "language_info": {
   "codemirror_mode": {
    "name": "ipython",
    "version": 3
   },
   "file_extension": ".py",
   "mimetype": "text/x-python",
   "name": "python",
   "nbconvert_exporter": "python",
   "pygments_lexer": "ipython3",
   "version": "3.6.2"
  }
 },
 "nbformat": 4,
 "nbformat_minor": 2
}
