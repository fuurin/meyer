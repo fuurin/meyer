{
 "cells": [
  {
   "cell_type": "code",
   "execution_count": 1,
   "metadata": {
    "collapsed": true
   },
   "outputs": [],
   "source": [
    "from z3 import Solver, ForAll, Exists, Not, And, Or, Implies\n",
    "from meyer.util.z3py_util import const, consts\n",
    "from meyer.util.z3py_set import set, sets\n",
    "from meyer.program import U, conclude, prog, progs\n",
    "from meyer.equivalence import eq\n",
    "from meyer.feasibility import feasible\n",
    "from meyer.refinement import is_ref_of\n",
    "from meyer.basic_constructs import Choi, Comp, Rest, Corest\n",
    "from meyer.concurrency import Atom\n",
    "from meyer.commute import commute\n",
    "\n",
    "s = Solver()"
   ]
  },
  {
   "cell_type": "markdown",
   "metadata": {},
   "source": [
    "一部のUnknownが出る定理は，連打すれば結構ちゃんと反例出してくれる"
   ]
  },
  {
   "cell_type": "code",
   "execution_count": 2,
   "metadata": {},
   "outputs": [
    {
     "name": "stdout",
     "output_type": "stream",
     "text": [
      "\u001b[33mP32 Atomic concurrency “||” is commutative. -> (p1 || p2) = (p2 || p1)\n",
      "Universe = U, has 3 element(s)\u001b[0m\n",
      "\u001b[36mHolds: unsat\u001b[0m \n",
      "\n"
     ]
    }
   ],
   "source": [
    "title = \"P32 Atomic concurrency “||” is commutative. -> (p1 || p2) = (p2 || p1)\"\n",
    "p1, p2 = progs(s, 'p1 p2')\n",
    "conclude(s, eq(Atom(p1, p2), Atom(p2, p1)), title)"
   ]
  },
  {
   "cell_type": "code",
   "execution_count": 3,
   "metadata": {},
   "outputs": [
    {
     "name": "stdout",
     "output_type": "stream",
     "text": [
      "\u001b[33mP32 Atomic concurrency “||” is associative. (p1 || p2) || p3 = p1 || (p2 || p3)\n",
      "Universe = U, has 3 element(s)\u001b[0m\n",
      "\u001b[31mUnholds: sat\u001b[0m\n",
      "set of p1_24\n",
      " else -> Not(And(Not(Var(0) == C), Not(Var(0) == A)))\n",
      "\n",
      "pre of p1_24\n",
      " else -> And(Not(Var(0) == C), Var(0) == A)\n",
      "\n",
      "post of p1_24\n",
      " else ->\n",
      "\t if -> And(Not(Var(0) == C), Not(Var(0) == A))\n",
      "\t then ->\n",
      "\t\t else -> False\n",
      "\t else ->\n",
      "\t\t else -> Not(And(Not(Var(0) == C), Not(Var(0) == A)))\n",
      "\n",
      "set of p3_32\n",
      " else -> True\n",
      "\n",
      "pre of p3_32\n",
      " else -> And(Not(Var(0) == C), Not(Var(0) == A))\n",
      "\n",
      "post of p3_32\n",
      " A ->\n",
      "\t else -> True\n",
      " B ->\n",
      "\t else -> Not(And(Not(Var(0) == C), Not(Var(0) == A)))\n",
      " else ->\n",
      "\t else -> And(Not(Var(0) == C), Var(0) == A)\n",
      "\n",
      "set of p2_28\n",
      " else -> Var(0) == C\n",
      "\n",
      "pre of p2_28\n",
      " else -> Var(0) == C\n",
      "\n",
      "post of p2_28\n",
      " else ->\n",
      "\t if -> Var(0) == C\n",
      "\t then ->\n",
      "\t\t else -> Var(0) == C\n",
      "\t else ->\n",
      "\t\t if -> And(Not(Var(0) == C), Not(Var(0) == A))\n",
      "\t\t then ->\n",
      "\t\t\t else -> False\n",
      "\t\t else ->\n",
      "\t\t\t else -> False\n",
      "\n"
     ]
    }
   ],
   "source": [
    "title = \"P32 Atomic concurrency “||” is associative. (p1 || p2) || p3 = p1 || (p2 || p3)\"\n",
    "p1, p2, p3 = progs(s, 'p1 p2 p3')\n",
    "s.add(feasible(p1,p2,p3))\n",
    "lhs = Atom(Atom(p1, p2), p3)\n",
    "rhs = Atom(p1, Atom(p2, p3))\n",
    "conclude(s, eq(lhs, rhs), title)"
   ]
  },
  {
   "cell_type": "markdown",
   "metadata": {},
   "source": [
    "U=Intのとき反例を生成"
   ]
  },
  {
   "cell_type": "code",
   "execution_count": 4,
   "metadata": {},
   "outputs": [
    {
     "name": "stdout",
     "output_type": "stream",
     "text": [
      "\u001b[33mP32 Atomic concurrency “||” is refinement-safe. -> if q1 ⊆ p1 and q2 ⊆ p2, then (q1 || q2) ⊆ (p1 || p2)\n",
      "Universe = U, has 3 element(s)\u001b[0m\n",
      "\u001b[31mUnholds: sat\u001b[0m\n",
      "set of q1_93\n",
      " else -> True\n",
      "\n",
      "pre of q1_93\n",
      " else -> Not(Var(0) == C)\n",
      "\n",
      "post of q1_93\n",
      " A ->\n",
      "\t else -> And(Not(Var(0) == C), Var(0) == A)\n",
      " B ->\n",
      "\t else -> True\n",
      " C ->\n",
      "\t C -> True\n",
      "\t else -> False\n",
      " else ->\n",
      "\t else -> False\n",
      "\n",
      "set of p2_105\n",
      " else -> Not(And(Not(Var(0) == C), Var(0) == A))\n",
      "\n",
      "pre of p2_105\n",
      " else -> Var(0) == C\n",
      "\n",
      "post of p2_105\n",
      " A ->\n",
      "\t else -> False\n",
      " B ->\n",
      "\t else -> False\n",
      " C ->\n",
      "\t B -> True\n",
      "\t else -> False\n",
      " else ->\n",
      "\t else -> False\n",
      "\n",
      "set of q2_97\n",
      " else -> True\n",
      "\n",
      "pre of q2_97\n",
      " else -> Var(0) == C\n",
      "\n",
      "post of q2_97\n",
      " else ->\n",
      "\t if -> Var(0) == C\n",
      "\t then ->\n",
      "\t\t B -> True\n",
      "\t\t else -> False\n",
      "\t else ->\n",
      "\t\t if -> And(Not(Var(0) == C), Not(Var(0) == A))\n",
      "\t\t then ->\n",
      "\t\t\t else -> False\n",
      "\t\t else ->\n",
      "\t\t\t else -> Not(Var(0) == C)\n",
      "\n",
      "set of p1_101\n",
      " else -> Not(And(Not(Var(0) == C), Not(Var(0) == A)))\n",
      "\n",
      "pre of p1_101\n",
      " else -> And(Not(Var(0) == C), Var(0) == A)\n",
      "\n",
      "post of p1_101\n",
      " else ->\n",
      "\t if -> Var(0) == C\n",
      "\t then ->\n",
      "\t\t else -> False\n",
      "\t else ->\n",
      "\t\t if -> And(Not(Var(0) == C), Not(Var(0) == A))\n",
      "\t\t then ->\n",
      "\t\t\t else -> False\n",
      "\t\t else ->\n",
      "\t\t\t else -> Not(And(Not(Var(0) == C), Not(Var(0) == A)))\n",
      "\n"
     ]
    }
   ],
   "source": [
    "title = \"P32 Atomic concurrency “||” is refinement-safe. -> if q1 ⊆ p1 and q2 ⊆ p2, then (q1 || q2) ⊆ (p1 || p2)\"\n",
    "q1, q2, p1, p2 = progs(s, 'q1 q2 p1 p2')\n",
    "s.add(feasible(q1,q2,p1,p2))\n",
    "s.add(is_ref_of(q1, p1), is_ref_of(q2, p2))\n",
    "conclude(s, is_ref_of(Atom(q1, q2), Atom(p1, p2)), title)"
   ]
  },
  {
   "cell_type": "code",
   "execution_count": 5,
   "metadata": {},
   "outputs": [
    {
     "name": "stdout",
     "output_type": "stream",
     "text": [
      "\u001b[33mP33 p1 || (p2 ∪ p3) = (p1 || p2) ∪ (p1 || p3)\n",
      "Universe = U, has 3 element(s)\u001b[0m\n",
      "\u001b[31mUnholds: sat\u001b[0m\n",
      "set of p3_147\n",
      " else -> True\n",
      "\n",
      "pre of p3_147\n",
      " else -> And(Not(Var(0) == A), Var(0) == B)\n",
      "\n",
      "post of p3_147\n",
      " else ->\n",
      "\t if -> And(Not(Var(0) == A), Not(Var(0) == B))\n",
      "\t then ->\n",
      "\t\t else -> True\n",
      "\t else ->\n",
      "\t\t if -> And(Not(Var(0) == A), Var(0) == B)\n",
      "\t\t then ->\n",
      "\t\t\t else -> And(Not(Var(0) == A), Not(Var(0) == B))\n",
      "\t\t else ->\n",
      "\t\t\t else -> False\n",
      "\n",
      "set of p2_143\n",
      " else -> True\n",
      "\n",
      "pre of p2_143\n",
      " else -> And(Not(Var(0) == A), Not(Var(0) == B))\n",
      "\n",
      "post of p2_143\n",
      " else ->\n",
      "\t if -> And(Not(Var(0) == A), Not(Var(0) == B))\n",
      "\t then ->\n",
      "\t\t else -> True\n",
      "\t else ->\n",
      "\t\t else -> True\n",
      "\n",
      "set of p1_139\n",
      " else -> False\n",
      "\n",
      "pre of p1_139\n",
      " else -> False\n",
      "\n",
      "post of p1_139\n",
      " else ->\n",
      "\t if -> And(Not(Var(0) == A), Not(Var(0) == B))\n",
      "\t then ->\n",
      "\t\t else -> False\n",
      "\t else ->\n",
      "\t\t else -> False\n",
      "\n"
     ]
    }
   ],
   "source": [
    "title = \"P33 p1 || (p2 ∪ p3) = (p1 || p2) ∪ (p1 || p3)\"\n",
    "p1, p2, p3 = progs(s, 'p1 p2 p3')\n",
    "s.add(feasible(p1,p2,p3))\n",
    "lhs = Atom(p1, Choi(p2, p3))\n",
    "rhs = Choi(Atom(p1, p2), Atom(p2, p3))\n",
    "conclude(s, eq(lhs, rhs), title)"
   ]
  },
  {
   "cell_type": "code",
   "execution_count": 6,
   "metadata": {},
   "outputs": [
    {
     "name": "stdout",
     "output_type": "stream",
     "text": [
      "\u001b[33mP34 (p1 ∪ p2) || p3 = (p1 || p3) ∪ (p2 || p3)\n",
      "Universe = U, has 3 element(s)\u001b[0m\n",
      "\u001b[31mUnholds: sat\u001b[0m\n",
      "set of p1_178\n",
      " else -> True\n",
      "\n",
      "pre of p1_178\n",
      " else -> False\n",
      "\n",
      "post of p1_178\n",
      " else ->\n",
      "\t if -> Var(0) == C\n",
      "\t then ->\n",
      "\t\t else -> True\n",
      "\t else ->\n",
      "\t\t else -> True\n",
      "\n",
      "set of p2_182\n",
      " else -> Not(Var(0) == C)\n",
      "\n",
      "pre of p2_182\n",
      " else -> Not(Var(0) == C)\n",
      "\n",
      "post of p2_182\n",
      " else ->\n",
      "\t if -> Var(0) == C\n",
      "\t then ->\n",
      "\t\t else -> False\n",
      "\t else ->\n",
      "\t\t else -> False\n",
      "\n",
      "set of p3_186\n",
      " else -> Var(0) == C\n",
      "\n",
      "pre of p3_186\n",
      " else -> Var(0) == C\n",
      "\n",
      "post of p3_186\n",
      " else ->\n",
      "\t if -> Var(0) == C\n",
      "\t then ->\n",
      "\t\t else -> False\n",
      "\t else ->\n",
      "\t\t else -> False\n",
      "\n"
     ]
    }
   ],
   "source": [
    "title = \"P34 (p1 ∪ p2) || p3 = (p1 || p3) ∪ (p2 || p3)\"\n",
    "p1, p2, p3 = progs(s, 'p1 p2 p3')\n",
    "lhs = Atom(Choi(p1, p2), p3)\n",
    "rhs = Choi(Atom(p1, p3), Atom(p2, p3))\n",
    "conclude(s, eq(lhs, rhs), title)"
   ]
  },
  {
   "cell_type": "code",
   "execution_count": 7,
   "metadata": {},
   "outputs": [
    {
     "name": "stdout",
     "output_type": "stream",
     "text": [
      "\u001b[33mP35 C: (p1 || p2) = (C: p1) || (C: p2)\n",
      "Universe = U, has 3 element(s)\u001b[0m\n",
      "\u001b[31mUnholds: sat\u001b[0m\n",
      "content of C_219\n",
      " = And(Not(Var(0) == A), Not(Var(0) == C))\n",
      "\n",
      "set of p2_215\n",
      " else -> Not(And(Not(Var(0) == A), Not(Var(0) == C)))\n",
      "\n",
      "pre of p2_215\n",
      " else -> Not(And(Not(Var(0) == A), Not(Var(0) == C)))\n",
      "\n",
      "post of p2_215\n",
      " else ->\n",
      "\t if -> And(Not(Var(0) == A), Var(0) == C)\n",
      "\t then ->\n",
      "\t\t else -> False\n",
      "\t else ->\n",
      "\t\t if -> And(Not(Var(0) == A), Not(Var(0) == C))\n",
      "\t\t then ->\n",
      "\t\t\t else -> False\n",
      "\t\t else ->\n",
      "\t\t\t else -> False\n",
      "\n",
      "set of p1_211\n",
      " else -> True\n",
      "\n",
      "pre of p1_211\n",
      " else -> And(Not(Var(0) == A), Not(Var(0) == C))\n",
      "\n",
      "post of p1_211\n",
      " else ->\n",
      "\t if -> And(Not(Var(0) == A), Var(0) == C)\n",
      "\t then ->\n",
      "\t\t else -> True\n",
      "\t else ->\n",
      "\t\t else -> True\n",
      "\n"
     ]
    }
   ],
   "source": [
    "title = \"P35 C: (p1 || p2) = (C: p1) || (C: p2)\"\n",
    "p1, p2 = progs(s, 'p1 p2')\n",
    "C = set('C', U)\n",
    "lhs = Rest(C, Atom(p1, p2))\n",
    "rhs = Atom(Rest(C, p1), Rest(C, p2))\n",
    "conclude(s, eq(lhs, rhs), title)"
   ]
  },
  {
   "cell_type": "code",
   "execution_count": 8,
   "metadata": {},
   "outputs": [
    {
     "name": "stdout",
     "output_type": "stream",
     "text": [
      "\u001b[33mP36 (p1 || p2) \\ C = (p1 \\ C) || (p2 \\ C)\n",
      "Universe = U, has 3 element(s)\u001b[0m\n",
      "\u001b[31mUnholds: sat\u001b[0m\n",
      "content of C_243\n",
      " = And(Not(Var(0) == A), Var(0) == B)\n",
      "\n",
      "set of p1_235\n",
      " else -> True\n",
      "\n",
      "pre of p1_235\n",
      " else -> Not(And(Not(Var(0) == A), Var(0) == B))\n",
      "\n",
      "post of p1_235\n",
      " A ->\n",
      "\t else -> True\n",
      " B ->\n",
      "\t else -> False\n",
      " C ->\n",
      "\t else -> True\n",
      " else ->\n",
      "\t else -> Not(Var(0) == A)\n",
      "\n",
      "set of p2_239\n",
      " else -> Not(Var(0) == A)\n",
      "\n",
      "pre of p2_239\n",
      " else -> And(Not(Var(0) == A), Var(0) == B)\n",
      "\n",
      "post of p2_239\n",
      " A ->\n",
      "\t else -> False\n",
      " B ->\n",
      "\t else -> And(Not(Var(0) == A), Not(Var(0) == B))\n",
      " else ->\n",
      "\t else -> Not(Var(0) == A)\n",
      "\n"
     ]
    }
   ],
   "source": [
    "title = \"P36 (p1 || p2) \\ C = (p1 \\ C) || (p2 \\ C)\"\n",
    "p1, p2 = progs(s, 'p1 p2')\n",
    "C = set('C', U)\n",
    "lhs = Corest(Atom(p1, p2), C)\n",
    "rhs = Atom(Corest(p1, C), Corest(p2, C))\n",
    "conclude(s, eq(lhs, rhs), title)"
   ]
  },
  {
   "cell_type": "code",
   "execution_count": 9,
   "metadata": {},
   "outputs": [
    {
     "name": "stdout",
     "output_type": "stream",
     "text": [
      "\u001b[33mP37 (p1 ; p2) ⊆ (p1 || p2)\n",
      "Universe = U, has 3 element(s)\u001b[0m\n",
      "\u001b[31mUnholds: sat\u001b[0m\n",
      "set of p1_275\n",
      " else -> Not(Var(0) == A)\n",
      "\n",
      "pre of p1_275\n",
      " else -> Not(Var(0) == A)\n",
      "\n",
      "post of p1_275\n",
      " else ->\n",
      "\t else -> False\n",
      "\n",
      "set of p2_279\n",
      " else -> True\n",
      "\n",
      "pre of p2_279\n",
      " else -> Not(Var(0) == A)\n",
      "\n",
      "post of p2_279\n",
      " else ->\n",
      "\t else -> True\n",
      "\n"
     ]
    }
   ],
   "source": [
    "title = \"P37 (p1 ; p2) ⊆ (p1 || p2)\"\n",
    "p1, p2 = progs(s, 'p1 p2')\n",
    "conclude(s, is_ref_of(Comp(p1, p2), Atom(p1, p2)), title)"
   ]
  },
  {
   "cell_type": "code",
   "execution_count": 10,
   "metadata": {},
   "outputs": [
    {
     "name": "stdout",
     "output_type": "stream",
     "text": [
      "\u001b[33mP38 (p2 ; p1) ⊆ (p1 || p2)\n",
      "Universe = U, has 3 element(s)\u001b[0m\n",
      "\u001b[31mUnholds: sat\u001b[0m\n",
      "set of p1_295\n",
      " else -> Var(0) == B\n",
      "\n",
      "pre of p1_295\n",
      " else -> Var(0) == B\n",
      "\n",
      "post of p1_295\n",
      " else ->\n",
      "\t if -> Var(0) == B\n",
      "\t then ->\n",
      "\t\t else -> False\n",
      "\t else ->\n",
      "\t\t else -> False\n",
      "\n",
      "set of p2_299\n",
      " else -> True\n",
      "\n",
      "pre of p2_299\n",
      " else -> Var(0) == B\n",
      "\n",
      "post of p2_299\n",
      " B ->\n",
      "\t else -> True\n",
      " else ->\n",
      "\t else -> False\n",
      "\n"
     ]
    }
   ],
   "source": [
    "title = \"P38 (p2 ; p1) ⊆ (p1 || p2)\"\n",
    "p1, p2 = progs(s, 'p1 p2')\n",
    "conclude(s, is_ref_of(Comp(p1, p2), Atom(p1, p2)), title)"
   ]
  },
  {
   "cell_type": "code",
   "execution_count": 11,
   "metadata": {},
   "outputs": [
    {
     "name": "stdout",
     "output_type": "stream",
     "text": [
      "\u001b[33mP39 If p1 and p2 commute, then (p1 || p2) = (p1 ; p2).\n",
      "Universe = U, has 3 element(s)\u001b[0m\n",
      "\u001b[36mHolds: unsat\u001b[0m \n",
      "\n"
     ]
    }
   ],
   "source": [
    "title = \"P39 If p1 and p2 commute, then (p1 || p2) = (p1 ; p2).\"\n",
    "p1, p2 = progs(s, 'p1 p2')\n",
    "s.add(commute(p1, p2))\n",
    "conclude(s, eq(Atom(p1, p2), Comp(p1, p2)), title)"
   ]
  }
 ],
 "metadata": {
  "kernelspec": {
   "display_name": "Python 3",
   "language": "python",
   "name": "python3"
  },
  "language_info": {
   "codemirror_mode": {
    "name": "ipython",
    "version": 3
   },
   "file_extension": ".py",
   "mimetype": "text/x-python",
   "name": "python",
   "nbconvert_exporter": "python",
   "pygments_lexer": "ipython3",
   "version": "3.6.0"
  }
 },
 "nbformat": 4,
 "nbformat_minor": 2
}
