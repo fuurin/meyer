{
 "cells": [
  {
   "cell_type": "code",
   "execution_count": 1,
   "metadata": {
    "collapsed": true
   },
   "outputs": [],
   "source": [
    "from z3 import Solver\n",
    "from meyer.meyer import conclude\n",
    "from meyer.util.z3py_set import set, sets\n",
    "from meyer.program import prog, progs\n",
    "from meyer.concurrency import Atom, commute\n",
    "\n",
    "s = Solver()"
   ]
  },
  {
   "cell_type": "code",
   "execution_count": 2,
   "metadata": {
    "scrolled": true
   },
   "outputs": [
    {
     "name": "stdout",
     "output_type": "stream",
     "text": [
      "\u001b[33mP32 Atomic concurrency “||” is commutative. -> (p1 || p2) = (p2 || p1)\u001b[0m\n",
      "\u001b[33mUniverse = U, has 3 element(s)\u001b[0m\n",
      "\u001b[36mHolds: unsat\u001b[0m \n",
      "\n"
     ]
    }
   ],
   "source": [
    "title = \"P32 Atomic concurrency “||” is commutative. -> (p1 || p2) = (p2 || p1)\"\n",
    "p1, p2 = progs(s, 'p1 p2')\n",
    "conclude(s, p1&p2 == p2&p1, title)"
   ]
  },
  {
   "cell_type": "code",
   "execution_count": 3,
   "metadata": {
    "scrolled": true
   },
   "outputs": [
    {
     "name": "stdout",
     "output_type": "stream",
     "text": [
      "\u001b[33mP32 Atomic concurrency “||” is associative. (p1 || p2) || p3 = p1 || (p2 || p3)\u001b[0m\n",
      "\u001b[33mUniverse = U, has 3 element(s)\u001b[0m\n",
      "\u001b[31mUnholds: sat\u001b[0m\n",
      "set of p1_26\n",
      " else -> True\n",
      "\n",
      "pre of p1_26\n",
      " else -> And(Not(Var(0) == C), Var(0) == B)\n",
      "\n",
      "post of p1_26\n",
      " A ->\n",
      "\t else -> False\n",
      " B ->\n",
      "\t else -> True\n",
      " else ->\n",
      "\t else -> Not(Var(0) == C)\n",
      "\n",
      "set of p2_29\n",
      " else -> Not(And(Not(Var(0) == C), Not(Var(0) == B)))\n",
      "\n",
      "pre of p2_29\n",
      " else -> And(Not(Var(0) == C), Var(0) == B)\n",
      "\n",
      "post of p2_29\n",
      " else ->\n",
      "\t if -> Var(0) == C\n",
      "\t then ->\n",
      "\t\t else -> False\n",
      "\t else ->\n",
      "\t\t if -> And(Not(Var(0) == C), Var(0) == B)\n",
      "\t\t then ->\n",
      "\t\t\t else -> Not(And(Not(Var(0) == C), Not(Var(0) == B)))\n",
      "\t\t else ->\n",
      "\t\t\t else -> False\n",
      "\n",
      "set of p3_32\n",
      " else -> True\n",
      "\n",
      "pre of p3_32\n",
      " else -> Not(And(Not(Var(0) == C), Var(0) == B))\n",
      "\n",
      "post of p3_32\n",
      " else ->\n",
      "\t if -> And(Not(Var(0) == C), Var(0) == B)\n",
      "\t then ->\n",
      "\t\t else -> False\n",
      "\t else ->\n",
      "\t\t else -> Not(Var(0) == C)\n",
      "\n"
     ]
    }
   ],
   "source": [
    "title = \"P32 Atomic concurrency “||” is associative. (p1 || p2) || p3 = p1 || (p2 || p3)\"\n",
    "p1, p2, p3 = progs(s, 'p1 p2 p3')\n",
    "# s.add(+p1,+p2,+p3)\n",
    "conclude(s, (p1 & p2) & p3 == p1 & (p2 & p3), title)"
   ]
  },
  {
   "cell_type": "code",
   "execution_count": 4,
   "metadata": {},
   "outputs": [
    {
     "name": "stdout",
     "output_type": "stream",
     "text": [
      "\u001b[33mP32 Atomic concurrency “||” is refinement-safe. -> if q1 ⊆ p1 and q2 ⊆ p2, then (q1 || q2) ⊆ (p1 || p2)\u001b[0m\n",
      "\u001b[33mUniverse = U, has 3 element(s)\u001b[0m\n",
      "\u001b[31mUnholds: sat\u001b[0m\n",
      "set of p1_128\n",
      " else -> True\n",
      "\n",
      "pre of p1_128\n",
      " else -> And(Not(Var(0) == C), Var(0) == A)\n",
      "\n",
      "post of p1_128\n",
      " else ->\n",
      "\t if -> Var(0) == C\n",
      "\t then ->\n",
      "\t\t else -> False\n",
      "\t else ->\n",
      "\t\t if -> And(Not(Var(0) == C), Not(Var(0) == A))\n",
      "\t\t then ->\n",
      "\t\t\t else -> Not(And(Not(Var(0) == C), Not(Var(0) == A)))\n",
      "\t\t else ->\n",
      "\t\t\t else -> True\n",
      "\n",
      "set of q1_122\n",
      " else -> True\n",
      "\n",
      "pre of q1_122\n",
      " else -> And(Not(Var(0) == C), Var(0) == A)\n",
      "\n",
      "post of q1_122\n",
      " else ->\n",
      "\t if -> And(Not(Var(0) == C), Not(Var(0) == A))\n",
      "\t then ->\n",
      "\t\t else -> False\n",
      "\t else ->\n",
      "\t\t C -> False\n",
      "\t\t else -> True\n",
      "\n",
      "set of q2_125\n",
      " else -> True\n",
      "\n",
      "pre of q2_125\n",
      " else -> Not(Var(0) == C)\n",
      "\n",
      "post of q2_125\n",
      " else ->\n",
      "\t if -> Var(0) == C\n",
      "\t then ->\n",
      "\t\t else -> False\n",
      "\t else ->\n",
      "\t\t if -> And(Not(Var(0) == C), Not(Var(0) == A))\n",
      "\t\t then ->\n",
      "\t\t\t else -> Var(0) == C\n",
      "\t\t else ->\n",
      "\t\t\t C -> True\n",
      "\t\t\t else -> False\n",
      "\n",
      "set of p2_131\n",
      " else -> True\n",
      "\n",
      "pre of p2_131\n",
      " else -> And(Not(Var(0) == C), Not(Var(0) == A))\n",
      "\n",
      "post of p2_131\n",
      " else ->\n",
      "\t if -> Var(0) == C\n",
      "\t then ->\n",
      "\t\t else -> False\n",
      "\t else ->\n",
      "\t\t if -> And(Not(Var(0) == C), Not(Var(0) == A))\n",
      "\t\t then ->\n",
      "\t\t\t else -> Not(And(Not(Var(0) == C), Not(Var(0) == A)))\n",
      "\t\t else ->\n",
      "\t\t\t else -> True\n",
      "\n"
     ]
    }
   ],
   "source": [
    "title = \"P32 Atomic concurrency “||” is refinement-safe. -> if q1 ⊆ p1 and q2 ⊆ p2, then (q1 || q2) ⊆ (p1 || p2)\"\n",
    "q1, q2, p1, p2 = progs(s, 'q1 q2 p1 p2')\n",
    "s.add(+q1, +q2, +p1, +p2)\n",
    "s.add(q1 <= p1, q2 <= p2)\n",
    "conclude(s, q1 & q2 <= p1 & p2, title)"
   ]
  },
  {
   "cell_type": "code",
   "execution_count": 5,
   "metadata": {},
   "outputs": [
    {
     "name": "stdout",
     "output_type": "stream",
     "text": [
      "\u001b[33mP33 p1 || (p2 ∪ p3) = (p1 || p2) ∪ (p1 || p3)\u001b[0m\n",
      "\u001b[33mUniverse = U, has 3 element(s)\u001b[0m\n",
      "\u001b[31mUnholds: sat\u001b[0m\n",
      "set of p1_172\n",
      " else -> True\n",
      "\n",
      "pre of p1_172\n",
      " else -> Var(0) == C\n",
      "\n",
      "post of p1_172\n",
      " else ->\n",
      "\t if -> Var(0) == C\n",
      "\t then ->\n",
      "\t\t else -> True\n",
      "\t else ->\n",
      "\t\t else -> False\n",
      "\n",
      "set of p3_178\n",
      " else -> True\n",
      "\n",
      "pre of p3_178\n",
      " else -> True\n",
      "\n",
      "post of p3_178\n",
      " else ->\n",
      "\t if -> Var(0) == C\n",
      "\t then ->\n",
      "\t\t else -> True\n",
      "\t else ->\n",
      "\t\t else -> True\n",
      "\n",
      "set of p2_175\n",
      " else -> Not(And(Not(Var(0) == C), Not(Var(0) == A)))\n",
      "\n",
      "pre of p2_175\n",
      " else -> False\n",
      "\n",
      "post of p2_175\n",
      " A ->\n",
      "\t else -> False\n",
      " B ->\n",
      "\t else -> False\n",
      " C ->\n",
      "\t else -> False\n",
      " else ->\n",
      "\t else -> True\n",
      "\n"
     ]
    }
   ],
   "source": [
    "title = \"P33 p1 || (p2 ∪ p3) = (p1 || p2) ∪ (p1 || p3)\"\n",
    "p1, p2, p3 = progs(s, 'p1 p2 p3')\n",
    "s.add(+p1, +p2, +p3)\n",
    "conclude(s, p1 & (p2 | p3) == (p1 & p2) | (p2 & p3), title)"
   ]
  },
  {
   "cell_type": "markdown",
   "metadata": {},
   "source": [
    "Ha strong feasible"
   ]
  },
  {
   "cell_type": "code",
   "execution_count": 13,
   "metadata": {},
   "outputs": [
    {
     "name": "stdout",
     "output_type": "stream",
     "text": [
      "\u001b[33mP34 (p1 ∪ p2) || p3 = (p1 || p3) ∪ (p2 || p3)\u001b[0m\n",
      "\u001b[33mUniverse = U, has 3 element(s)\u001b[0m\n",
      "\u001b[36mHolds: unsat\u001b[0m \n",
      "\n"
     ]
    }
   ],
   "source": [
    "title = \"P34 (p1 ∪ p2) || p3 = (p1 || p3) ∪ (p2 || p3)\"\n",
    "p1, p2, p3 = progs(s, 'p1 p2 p3')\n",
    "conclude(s, (p1 | p2) & p3 == (p1 & p3) | (p2 & p3), title)"
   ]
  },
  {
   "cell_type": "code",
   "execution_count": 7,
   "metadata": {},
   "outputs": [
    {
     "name": "stdout",
     "output_type": "stream",
     "text": [
      "\u001b[33mP35 C: (p1 || p2) = (C: p1) || (C: p2)\u001b[0m\n",
      "\u001b[33mUniverse = U, has 3 element(s)\u001b[0m\n",
      "\u001b[31mUnholds: sat\u001b[0m\n",
      "content of C_276\n",
      " = Not(Var(0) == C)\n",
      "\n",
      "set of p1_270\n",
      " else -> Not(And(Not(Var(0) == C), Not(Var(0) == A)))\n",
      "\n",
      "pre of p1_270\n",
      " else -> Var(0) == C\n",
      "\n",
      "post of p1_270\n",
      " else ->\n",
      "\t if -> Var(0) == C\n",
      "\t then ->\n",
      "\t\t else -> Not(And(Not(Var(0) == C), Not(Var(0) == A)))\n",
      "\t else ->\n",
      "\t\t if -> And(Not(Var(0) == C), Not(Var(0) == A))\n",
      "\t\t then ->\n",
      "\t\t\t else -> False\n",
      "\t\t else ->\n",
      "\t\t\t else -> False\n",
      "\n",
      "set of p2_273\n",
      " else -> True\n",
      "\n",
      "pre of p2_273\n",
      " else -> And(Not(Var(0) == C), Not(Var(0) == A))\n",
      "\n",
      "post of p2_273\n",
      " else ->\n",
      "\t if -> And(Not(Var(0) == C), Not(Var(0) == A))\n",
      "\t then ->\n",
      "\t\t else -> True\n",
      "\t else ->\n",
      "\t\t else -> True\n",
      "\n"
     ]
    }
   ],
   "source": [
    "title = \"P35 C: (p1 || p2) = (C: p1) || (C: p2)\"\n",
    "p1, p2 = progs(s, 'p1 p2')\n",
    "C = set('C')\n",
    "conclude(s, (p1 & p2) / C == p1 / C & p2 / C, title)"
   ]
  },
  {
   "cell_type": "code",
   "execution_count": 8,
   "metadata": {},
   "outputs": [
    {
     "name": "stdout",
     "output_type": "stream",
     "text": [
      "\u001b[33mP36 (p1 || p2) \\ C = (p1 \\ C) || (p2 \\ C)\u001b[0m\n",
      "\u001b[33mUniverse = U, has 3 element(s)\u001b[0m\n",
      "\u001b[31mUnholds: sat\u001b[0m\n",
      "content of C_302\n",
      " = Var(0) == A\n",
      "\n",
      "set of p2_299\n",
      " else -> True\n",
      "\n",
      "pre of p2_299\n",
      " else -> Not(Var(0) == A)\n",
      "\n",
      "post of p2_299\n",
      " A ->\n",
      "\t else -> True\n",
      " B ->\n",
      "\t else -> True\n",
      " else ->\n",
      "\t else -> Var(0) == A\n",
      "\n",
      "set of p1_296\n",
      " else -> True\n",
      "\n",
      "pre of p1_296\n",
      " else -> Var(0) == A\n",
      "\n",
      "post of p1_296\n",
      " A ->\n",
      "\t else -> Not(Var(0) == A)\n",
      " else ->\n",
      "\t else -> Var(0) == A\n",
      "\n"
     ]
    }
   ],
   "source": [
    "title = \"P36 (p1 || p2) \\ C = (p1 \\ C) || (p2 \\ C)\"\n",
    "p1, p2 = progs(s, 'p1 p2')\n",
    "C = set('C')\n",
    "conclude(s, (p1 & p2) // C == (p1 // C & p2 // C), title)"
   ]
  },
  {
   "cell_type": "code",
   "execution_count": 9,
   "metadata": {},
   "outputs": [
    {
     "name": "stdout",
     "output_type": "stream",
     "text": [
      "\u001b[33mP37 (p1 ; p2) ⊆ (p1 || p2)\u001b[0m\n",
      "\u001b[33mUniverse = U, has 3 element(s)\u001b[0m\n",
      "\u001b[31mUnholds: sat\u001b[0m\n",
      "set of p1_346\n",
      " else -> True\n",
      "\n",
      "pre of p1_346\n",
      " else -> And(Not(Var(0) == C), Var(0) == A)\n",
      "\n",
      "post of p1_346\n",
      " else ->\n",
      "\t if -> Var(0) == C\n",
      "\t then ->\n",
      "\t\t else -> True\n",
      "\t else ->\n",
      "\t\t if -> And(Not(Var(0) == C), Not(Var(0) == A))\n",
      "\t\t then ->\n",
      "\t\t\t else -> False\n",
      "\t\t else ->\n",
      "\t\t\t C -> False\n",
      "\t\t\t else -> True\n",
      "\n",
      "set of p2_349\n",
      " else -> True\n",
      "\n",
      "pre of p2_349\n",
      " else -> Var(0) == C\n",
      "\n",
      "post of p2_349\n",
      " else ->\n",
      "\t if -> Var(0) == C\n",
      "\t then ->\n",
      "\t\t else -> True\n",
      "\t else ->\n",
      "\t\t if -> And(Not(Var(0) == C), Not(Var(0) == A))\n",
      "\t\t then ->\n",
      "\t\t\t else -> False\n",
      "\t\t else ->\n",
      "\t\t\t C -> False\n",
      "\t\t\t else -> True\n",
      "\n"
     ]
    }
   ],
   "source": [
    "title = \"P37 (p1 ; p2) ⊆ (p1 || p2)\"\n",
    "p1, p2 = progs(s, 'p1 p2')\n",
    "s.add(+p1, +p2)\n",
    "conclude(s, p1 ^ p2 <= p1 & p2, title)"
   ]
  },
  {
   "cell_type": "code",
   "execution_count": 10,
   "metadata": {},
   "outputs": [
    {
     "name": "stdout",
     "output_type": "stream",
     "text": [
      "\u001b[33mP38 (p2 ; p1) ⊆ (p1 || p2)\u001b[0m\n",
      "\u001b[33mUniverse = U, has 3 element(s)\u001b[0m\n",
      "\u001b[31mUnholds: sat\u001b[0m\n",
      "set of p1_372\n",
      " else -> Not(And(Not(Var(0) == C), Not(Var(0) == A)))\n",
      "\n",
      "pre of p1_372\n",
      " else -> Var(0) == C\n",
      "\n",
      "post of p1_372\n",
      " else ->\n",
      "\t if -> Var(0) == C\n",
      "\t then ->\n",
      "\t\t B -> False\n",
      "\t\t else -> True\n",
      "\t else ->\n",
      "\t\t else -> False\n",
      "\n",
      "set of p2_375\n",
      " else -> True\n",
      "\n",
      "pre of p2_375\n",
      " else -> Not(And(Not(Var(0) == A), Var(0) == C))\n",
      "\n",
      "post of p2_375\n",
      " else ->\n",
      "\t else -> True\n",
      "\n"
     ]
    }
   ],
   "source": [
    "title = \"P38 (p2 ; p1) ⊆ (p1 || p2)\"\n",
    "p1, p2 = progs(s, 'p1 p2')\n",
    "s.add(+p1, +p2)\n",
    "conclude(s, p1 ^ p2 <= p1 & p2, title)"
   ]
  },
  {
   "cell_type": "code",
   "execution_count": 11,
   "metadata": {},
   "outputs": [
    {
     "name": "stdout",
     "output_type": "stream",
     "text": [
      "\u001b[33mP39 If p1 and p2 commute, then (p1 || p2) = (p1 ; p2).\u001b[0m\n",
      "\u001b[33mUniverse = U, has 3 element(s)\u001b[0m\n",
      "\u001b[36mHolds: unsat\u001b[0m \n",
      "\n"
     ]
    }
   ],
   "source": [
    "title = \"P39 If p1 and p2 commute, then (p1 || p2) = (p1 ; p2).\"\n",
    "p1, p2 = progs(s, 'p1 p2')\n",
    "s.add(commute(p1, p2))\n",
    "conclude(s, p1 & p2 == p1 ^ p2, title)"
   ]
  }
 ],
 "metadata": {
  "kernelspec": {
   "display_name": "Python 3",
   "language": "python",
   "name": "python3"
  },
  "language_info": {
   "codemirror_mode": {
    "name": "ipython",
    "version": 3
   },
   "file_extension": ".py",
   "mimetype": "text/x-python",
   "name": "python",
   "nbconvert_exporter": "python",
   "pygments_lexer": "ipython3",
   "version": "3.6.2"
  }
 },
 "nbformat": 4,
 "nbformat_minor": 2
}
