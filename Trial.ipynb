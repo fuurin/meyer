{
 "cells": [
  {
   "cell_type": "code",
   "execution_count": 9,
   "metadata": {},
   "outputs": [
    {
     "name": "stdout",
     "output_type": "stream",
     "text": [
      "this is method 2 and calls method 1\n",
      "this is method 1\n",
      "this is method 3 and overrided from method 3\n",
      "True\n",
      "True\n"
     ]
    }
   ],
   "source": [
    "class A():\n",
    "    def method1(self):\n",
    "        print(\"this is method 1\")\n",
    "    \n",
    "    def method3(self):\n",
    "        print(\"this is method 3\")\n",
    "\n",
    "class B(A):\n",
    "    def method2(self):\n",
    "        print(\"this is method 2 and calls method 1\")\n",
    "        self.method1()\n",
    "    \n",
    "    def method3(self):\n",
    "        print(\"this is method 3 and overrided from method 3\")\n",
    "\n",
    "b = B()\n",
    "b.method2()\n",
    "b.method3()\n",
    "print(isinstance(b, B))\n",
    "print(isinstance(b, A))"
   ]
  },
  {
   "cell_type": "code",
   "execution_count": 3,
   "metadata": {},
   "outputs": [
    {
     "name": "stdout",
     "output_type": "stream",
     "text": [
      "this is method1\n"
     ]
    }
   ],
   "source": [
    "class C():\n",
    "    def method1(self):\n",
    "        print(\"this is method1\")\n",
    "        \n",
    "    def __call__(self):\n",
    "        self.method1()\n",
    "\n",
    "c = C()\n",
    "c()"
   ]
  },
  {
   "cell_type": "code",
   "execution_count": 1,
   "metadata": {},
   "outputs": [
    {
     "name": "stdout",
     "output_type": "stream",
     "text": [
      "this is global\n"
     ]
    }
   ],
   "source": [
    "def global_method():\n",
    "    print(\"this is global\")\n",
    "\n",
    "class D():\n",
    "    def call_global_method(self):\n",
    "        global_method()\n",
    "\n",
    "d = D()\n",
    "d.call_global_method()"
   ]
  },
  {
   "cell_type": "code",
   "execution_count": 6,
   "metadata": {},
   "outputs": [
    {
     "name": "stdout",
     "output_type": "stream",
     "text": [
      "__add__\n"
     ]
    }
   ],
   "source": [
    "class Foo():\n",
    "    def __add__(self, other):\n",
    "        print(\"__add__\")\n",
    "        \n",
    "class Bar():\n",
    "    def __radd__(self, other):\n",
    "        print(\"__radd__\")\n",
    "\n",
    "x = Foo()\n",
    "y = Bar()\n",
    "x + y"
   ]
  }
 ],
 "metadata": {
  "kernelspec": {
   "display_name": "Python 3",
   "language": "python",
   "name": "python3"
  },
  "language_info": {
   "codemirror_mode": {
    "name": "ipython",
    "version": 3
   },
   "file_extension": ".py",
   "mimetype": "text/x-python",
   "name": "python",
   "nbconvert_exporter": "python",
   "pygments_lexer": "ipython3",
   "version": "3.6.2"
  }
 },
 "nbformat": 4,
 "nbformat_minor": 2
}
