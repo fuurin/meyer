{
 "cells": [
  {
   "cell_type": "code",
   "execution_count": 9,
   "metadata": {},
   "outputs": [
    {
     "name": "stdout",
     "output_type": "stream",
     "text": [
      "this is method 2 and calls method 1\n",
      "this is method 1\n",
      "this is method 3 and overrided from method 3\n",
      "True\n",
      "True\n"
     ]
    }
   ],
   "source": [
    "class A():\n",
    "    def method1(self):\n",
    "        print(\"this is method 1\")\n",
    "    \n",
    "    def method3(self):\n",
    "        print(\"this is method 3\")\n",
    "\n",
    "class B(A):\n",
    "    def method2(self):\n",
    "        print(\"this is method 2 and calls method 1\")\n",
    "        self.method1()\n",
    "    \n",
    "    def method3(self):\n",
    "        print(\"this is method 3 and overrided from method 3\")\n",
    "\n",
    "b = B()\n",
    "b.method2()\n",
    "b.method3()\n",
    "print(isinstance(b, B))\n",
    "print(isinstance(b, A))"
   ]
  },
  {
   "cell_type": "code",
   "execution_count": 3,
   "metadata": {},
   "outputs": [
    {
     "name": "stdout",
     "output_type": "stream",
     "text": [
      "this is method1\n"
     ]
    }
   ],
   "source": [
    "class C():\n",
    "    def method1(self):\n",
    "        print(\"this is method1\")\n",
    "        \n",
    "    def __call__(self):\n",
    "        self.method1()\n",
    "\n",
    "c = C()\n",
    "c()"
   ]
  },
  {
   "cell_type": "code",
   "execution_count": 6,
   "metadata": {},
   "outputs": [
    {
     "ename": "Z3Exception",
     "evalue": "Z3 sort expected",
     "output_type": "error",
     "traceback": [
      "\u001b[1;31m---------------------------------------------------------------------------\u001b[0m",
      "\u001b[1;31mZ3Exception\u001b[0m                               Traceback (most recent call last)",
      "\u001b[1;32m<ipython-input-6-3487a305358e>\u001b[0m in \u001b[0;36m<module>\u001b[1;34m()\u001b[0m\n\u001b[0;32m      1\u001b[0m \u001b[1;32mfrom\u001b[0m \u001b[0mz3\u001b[0m \u001b[1;32mimport\u001b[0m \u001b[1;33m*\u001b[0m\u001b[1;33m\u001b[0m\u001b[0m\n\u001b[1;32m----> 2\u001b[1;33m \u001b[0mx\u001b[0m \u001b[1;33m=\u001b[0m \u001b[0mConst\u001b[0m\u001b[1;33m(\u001b[0m\u001b[1;34m'x'\u001b[0m\u001b[1;33m,\u001b[0m \u001b[1;32mNone\u001b[0m\u001b[1;33m)\u001b[0m\u001b[1;33m\u001b[0m\u001b[0m\n\u001b[0m",
      "\u001b[1;32mc:\\users\\komatsu\\miniconda3\\lib\\site-packages\\z3\\z3.py\u001b[0m in \u001b[0;36mConst\u001b[1;34m(name, sort)\u001b[0m\n\u001b[0;32m   1198\u001b[0m     \"\"\"\n\u001b[0;32m   1199\u001b[0m     \u001b[1;32mif\u001b[0m \u001b[0m__debug__\u001b[0m\u001b[1;33m:\u001b[0m\u001b[1;33m\u001b[0m\u001b[0m\n\u001b[1;32m-> 1200\u001b[1;33m         \u001b[0m_z3_assert\u001b[0m\u001b[1;33m(\u001b[0m\u001b[0misinstance\u001b[0m\u001b[1;33m(\u001b[0m\u001b[0msort\u001b[0m\u001b[1;33m,\u001b[0m \u001b[0mSortRef\u001b[0m\u001b[1;33m)\u001b[0m\u001b[1;33m,\u001b[0m \u001b[1;34m\"Z3 sort expected\"\u001b[0m\u001b[1;33m)\u001b[0m\u001b[1;33m\u001b[0m\u001b[0m\n\u001b[0m\u001b[0;32m   1201\u001b[0m     \u001b[0mctx\u001b[0m \u001b[1;33m=\u001b[0m \u001b[0msort\u001b[0m\u001b[1;33m.\u001b[0m\u001b[0mctx\u001b[0m\u001b[1;33m\u001b[0m\u001b[0m\n\u001b[0;32m   1202\u001b[0m     \u001b[1;32mreturn\u001b[0m \u001b[0m_to_expr_ref\u001b[0m\u001b[1;33m(\u001b[0m\u001b[0mZ3_mk_const\u001b[0m\u001b[1;33m(\u001b[0m\u001b[0mctx\u001b[0m\u001b[1;33m.\u001b[0m\u001b[0mref\u001b[0m\u001b[1;33m(\u001b[0m\u001b[1;33m)\u001b[0m\u001b[1;33m,\u001b[0m \u001b[0mto_symbol\u001b[0m\u001b[1;33m(\u001b[0m\u001b[0mname\u001b[0m\u001b[1;33m,\u001b[0m \u001b[0mctx\u001b[0m\u001b[1;33m)\u001b[0m\u001b[1;33m,\u001b[0m \u001b[0msort\u001b[0m\u001b[1;33m.\u001b[0m\u001b[0mast\u001b[0m\u001b[1;33m)\u001b[0m\u001b[1;33m,\u001b[0m \u001b[0mctx\u001b[0m\u001b[1;33m)\u001b[0m\u001b[1;33m\u001b[0m\u001b[0m\n",
      "\u001b[1;32mc:\\users\\komatsu\\miniconda3\\lib\\site-packages\\z3\\z3.py\u001b[0m in \u001b[0;36m_z3_assert\u001b[1;34m(cond, msg)\u001b[0m\n\u001b[0;32m     88\u001b[0m \u001b[1;32mdef\u001b[0m \u001b[0m_z3_assert\u001b[0m\u001b[1;33m(\u001b[0m\u001b[0mcond\u001b[0m\u001b[1;33m,\u001b[0m \u001b[0mmsg\u001b[0m\u001b[1;33m)\u001b[0m\u001b[1;33m:\u001b[0m\u001b[1;33m\u001b[0m\u001b[0m\n\u001b[0;32m     89\u001b[0m     \u001b[1;32mif\u001b[0m \u001b[1;32mnot\u001b[0m \u001b[0mcond\u001b[0m\u001b[1;33m:\u001b[0m\u001b[1;33m\u001b[0m\u001b[0m\n\u001b[1;32m---> 90\u001b[1;33m         \u001b[1;32mraise\u001b[0m \u001b[0mZ3Exception\u001b[0m\u001b[1;33m(\u001b[0m\u001b[0mmsg\u001b[0m\u001b[1;33m)\u001b[0m\u001b[1;33m\u001b[0m\u001b[0m\n\u001b[0m\u001b[0;32m     91\u001b[0m \u001b[1;33m\u001b[0m\u001b[0m\n\u001b[0;32m     92\u001b[0m \u001b[1;32mdef\u001b[0m \u001b[0mopen_log\u001b[0m\u001b[1;33m(\u001b[0m\u001b[0mfname\u001b[0m\u001b[1;33m)\u001b[0m\u001b[1;33m:\u001b[0m\u001b[1;33m\u001b[0m\u001b[0m\n",
      "\u001b[1;31mZ3Exception\u001b[0m: Z3 sort expected"
     ]
    }
   ],
   "source": [
    "from z3 import *\n",
    "x = Const('x', None)"
   ]
  },
  {
   "cell_type": "code",
   "execution_count": 2,
   "metadata": {},
   "outputs": [
    {
     "name": "stdout",
     "output_type": "stream",
     "text": [
      "sat\n",
      "[x = 11, y = 13]\n"
     ]
    }
   ],
   "source": [
    "from z3 import Ints, Solver\t# z3モジュールから必要な関数、クラスをインポート\n",
    "x, y = Ints('x y')\t\t\t# 整数型変数x, yを宣言\n",
    "s = Solver()\t\t\t# SMTソルバのインスタンス\n",
    "s.add(x > 10, y == x + 2)\t\t# 制約条件「x > 10 かつ y = x + 2」を追加 \n",
    "print(s.check())\t\t\t# 充足可能性を判定し、その結果を出力\n",
    "print(s.model())\t\t\t# 充足可能であった場合、モデルを出力"
   ]
  },
  {
   "cell_type": "code",
   "execution_count": 7,
   "metadata": {},
   "outputs": [
    {
     "name": "stdout",
     "output_type": "stream",
     "text": [
      "\u001b[33m\u001b[0m\n",
      "\u001b[36mHolds: unsat\u001b[0m \n",
      "\n"
     ]
    },
    {
     "data": {
      "text/plain": [
       "unsat"
      ]
     },
     "execution_count": 7,
     "metadata": {},
     "output_type": "execute_result"
    }
   ],
   "source": [
    "from z3 import *\n",
    "from meyer.util.z3py_util import proof\n",
    "from meyer.util.z3py_set import set, set_sort as set_set_sort\n",
    "from meyer.util.z3py_rel import rels, set_sort as rel_set_sort\n",
    "\n",
    "set_set_sort(IntSort())\n",
    "rel_set_sort(IntSort(), IntSort())\n",
    "solver = Solver()\n",
    "\n",
    "c = set('c')\n",
    "r, s = rels(\"r s\")\n",
    "\n",
    "solver.add(r/c <= s)\n",
    "solver.add(Not(r/c <= s/c))\n",
    "proof(solver, \"\")"
   ]
  },
  {
   "cell_type": "code",
   "execution_count": 1,
   "metadata": {
    "scrolled": true
   },
   "outputs": [
    {
     "name": "stdout",
     "output_type": "stream",
     "text": [
      "\u001b[33mUniverse = U, has 3 element(s)\u001b[0m\n",
      "\u001b[36mHolds: unsat\u001b[0m \n",
      "\n"
     ]
    }
   ],
   "source": [
    "from meyer.util.z3py_proof_kit import *\n",
    "\n",
    "r, s1, s2 = rels(\"r s1 s2\")\n",
    "c1, c2 = sets(\"c1 c2\")\n",
    "\n",
    "lhs = (r // ((c1 | c2)|(s1 | s2).dom())) ^ (s1 | s2)\n",
    "rhs = ((r // (c1|s1.dom())) ^ s1) | ((r // (c2|s2.dom())) ^ s2)\n",
    "# rhs = ((r // (c1 | c2)) ^ s1) | ((r // (c1 | c2)) ^ s2)\n",
    "conclude(solver, lhs == rhs)"
   ]
  },
  {
   "cell_type": "code",
   "execution_count": 33,
   "metadata": {},
   "outputs": [
    {
     "name": "stdout",
     "output_type": "stream",
     "text": [
      "\u001b[33mUniverse = U, has 3 element(s)\u001b[0m\n",
      "\u001b[31mUnholds: sat\u001b[0m\n",
      "content of c1_250\n",
      " = True\n",
      "\n",
      "content of c2_251\n",
      " = False\n",
      "\n",
      "content of r_247\n",
      " else ->\n",
      "\t else -> True\n",
      "\n",
      "content of s1_248\n",
      " else ->\n",
      "\t else -> True\n",
      "\n",
      "content of s2_249\n",
      " else ->\n",
      "\t else -> True\n",
      "\n"
     ]
    }
   ],
   "source": [
    "from meyer.util.z3py_proof_kit import *\n",
    "\n",
    "r, s1, s2 = rels(\"r s1 s2\")\n",
    "c1, c2 = sets(\"c1 c2\")\n",
    "\n",
    "lhs = (r // (c1 & c2)) ^ ((s1 | s2))\n",
    "rhs = ((r // c1) ^ s1) | ((r // c2) ^ s2)\n",
    "# rhs = ((r // (c1 | c2)) ^ s1) | ((r // (c1 | c2)) ^ s2)\n",
    "conclude(solver, lhs == rhs)"
   ]
  },
  {
   "cell_type": "code",
   "execution_count": 8,
   "metadata": {},
   "outputs": [
    {
     "name": "stdout",
     "output_type": "stream",
     "text": [
      "\u001b[33mUniverse = Int\u001b[0m\n",
      "\u001b[36mHolds: unsat\u001b[0m \n",
      "\n"
     ]
    }
   ],
   "source": [
    "from meyer.util.z3py_proof_kit import *\n",
    "\n",
    "r, s1, s2 = rels(\"r s1 s2\")\n",
    "d = set(\"d\")\n",
    "\n",
    "lhs = ((s1 | s2) // d) ^ r\n",
    "rhs = ((s1 // d) ^ r) | ((s2 // d) ^ r)\n",
    "conclude(solver, lhs == rhs)"
   ]
  },
  {
   "cell_type": "code",
   "execution_count": 9,
   "metadata": {},
   "outputs": [
    {
     "name": "stdout",
     "output_type": "stream",
     "text": [
      "\u001b[33mUniverse = U, has 3 element(s)\u001b[0m\n",
      "\u001b[31mUnholds: sat\u001b[0m\n",
      "content of c2_6\n",
      " = False\n",
      "\n",
      "content of c1_5\n",
      " = True\n",
      "\n",
      "content of d_4\n",
      " = True\n",
      "\n",
      "content of s2_3\n",
      " else ->\n",
      "\t else -> True\n",
      "\n",
      "content of s1_2\n",
      " else ->\n",
      "\t else -> False\n",
      "\n"
     ]
    }
   ],
   "source": [
    "from meyer.util.z3py_proof_kit import *\n",
    "\n",
    "r, s1, s2 = rels(\"r s1 s2\")\n",
    "d, c1, c2 = sets(\"d c1 c2\")\n",
    "\n",
    "lhs = (c1 | c2) & ((s1 | s2) << d)\n",
    "rhs = (c1 & (s1 << d)) | (c2 & (s2 << d))\n",
    "conclude(solver, lhs == rhs)"
   ]
  },
  {
   "cell_type": "code",
   "execution_count": 12,
   "metadata": {},
   "outputs": [
    {
     "name": "stdout",
     "output_type": "stream",
     "text": [
      "\u001b[33mUniverse = U, has 3 element(s)\u001b[0m\n",
      "\u001b[36mHolds: unsat\u001b[0m \n",
      "\n"
     ]
    }
   ],
   "source": [
    "from meyer.util.z3py_proof_kit import *\n",
    "\n",
    "r, s1, s2 = rels(\"r s1 s2\")\n",
    "d, c1, c2 = sets(\"d c1 c2\")\n",
    "\n",
    "lhs = ((c1 | c2)|(s1 | s2).dom()) & ((s1 | s2) << d)\n",
    "rhs = ((c1|s1.dom()) & (s1 << d)) | ((c2|s2.dom()) & (s2 << d))\n",
    "conclude(solver, lhs == rhs)"
   ]
  },
  {
   "cell_type": "code",
   "execution_count": 13,
   "metadata": {},
   "outputs": [
    {
     "name": "stdout",
     "output_type": "stream",
     "text": [
      "\u001b[33mUniverse = U, has 3 element(s)\u001b[0m\n",
      "\u001b[36mHolds: unsat\u001b[0m \n",
      "\n"
     ]
    }
   ],
   "source": [
    "from meyer.util.z3py_proof_kit import *\n",
    "\n",
    "r, s1, s2 = rels(\"r s1 s2\")\n",
    "d, c1, c2 = sets(\"d c1 c2\")\n",
    "\n",
    "lhs = (s1 | s2) << d\n",
    "rhs = (s1 << d) | (s2 << d)\n",
    "conclude(solver, lhs == rhs)"
   ]
  },
  {
   "cell_type": "code",
   "execution_count": 15,
   "metadata": {},
   "outputs": [
    {
     "name": "stdout",
     "output_type": "stream",
     "text": [
      "\u001b[33mUniverse = U, has 3 element(s)\u001b[0m\n",
      "\u001b[36mHolds: unsat\u001b[0m \n",
      "\n"
     ]
    }
   ],
   "source": [
    "from meyer.util.z3py_proof_kit import *\n",
    "\n",
    "r, s1, s2 = rels(\"r s1 s2\")\n",
    "c1, c2 = sets(\"c1 c2\")\n",
    "\n",
    "lhs = r ^ (s1 | s2)\n",
    "rhs = (r ^ s1) | (r ^ s2)\n",
    "conclude(solver, lhs == rhs)"
   ]
  }
 ],
 "metadata": {
  "kernelspec": {
   "display_name": "Python 3",
   "language": "python",
   "name": "python3"
  },
  "language_info": {
   "codemirror_mode": {
    "name": "ipython",
    "version": 3
   },
   "file_extension": ".py",
   "mimetype": "text/x-python",
   "name": "python",
   "nbconvert_exporter": "python",
   "pygments_lexer": "ipython3",
   "version": "3.6.2"
  }
 },
 "nbformat": 4,
 "nbformat_minor": 2
}
