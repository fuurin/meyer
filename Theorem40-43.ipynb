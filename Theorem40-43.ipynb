{
 "cells": [
  {
   "cell_type": "markdown",
   "metadata": {},
   "source": [
    "## 非原子並列に関する定理"
   ]
  },
  {
   "cell_type": "code",
   "execution_count": 1,
   "metadata": {
    "collapsed": true,
    "scrolled": true
   },
   "outputs": [],
   "source": [
    "from z3 import Solver\n",
    "from meyer.meyer import conclude\n",
    "from meyer.program import progs\n",
    "from meyer.concurrency import NAtom\n",
    "\n",
    "s = Solver()"
   ]
  },
  {
   "cell_type": "code",
   "execution_count": 2,
   "metadata": {},
   "outputs": [
    {
     "name": "stdout",
     "output_type": "stream",
     "text": [
      "\u001b[33mLemma for P40 composition is associative\u001b[0m\n",
      "\u001b[33mUniverse = U, has 3 element(s)\u001b[0m\n",
      "\u001b[36mHolds: unsat\u001b[0m \n",
      "\n"
     ]
    }
   ],
   "source": [
    "title = \"Lemma for P40 composition is associative\"\n",
    "p1, p2, p3 = progs(s, \"p1 p2 p3\")\n",
    "conclude(s, (p1 ^ p2) ^ p3 == p1 ^ (p2 ^ p3), title)"
   ]
  },
  {
   "cell_type": "markdown",
   "metadata": {},
   "source": [
    "Ha NAtom"
   ]
  },
  {
   "cell_type": "code",
   "execution_count": 3,
   "metadata": {},
   "outputs": [
    {
     "name": "stdout",
     "output_type": "stream",
     "text": [
      "\u001b[33mP40 (p1, p2) || q = (q;p1;p2)∪(p1;q;p2)∪(p1;p2;q)\u001b[0m\n",
      "\u001b[33mUniverse = U, has 3 element(s)\u001b[0m\n",
      "\u001b[36mHolds: unsat\u001b[0m \n",
      "\n"
     ]
    }
   ],
   "source": [
    "title = \"P40 (p1, p2) || q = (q;p1;p2)∪(p1;q;p2)∪(p1;p2;q)\"\n",
    "p1, p2, q = progs(s, 'p1, p2, q')\n",
    "s.add(+p1, +p2, +q)\n",
    "conclude(s, NAtom(p1, p2, q) == (q^p1^p2)|(p1^q^p2)|(p1^p2^q), title)"
   ]
  },
  {
   "cell_type": "markdown",
   "metadata": {},
   "source": [
    "P41, 42, 43 strong_feasibleも効かない"
   ]
  },
  {
   "cell_type": "code",
   "execution_count": 7,
   "metadata": {},
   "outputs": [
    {
     "name": "stdout",
     "output_type": "stream",
     "text": [
      "\u001b[33mP41 (p1;p2)||q ⊆ (p1, p2)||q\u001b[0m\n",
      "\u001b[33mUniverse = U, has 3 element(s)\u001b[0m\n",
      "\u001b[31mUnholds: sat\u001b[0m\n",
      "set of p3_7\n",
      " else -> True\n",
      "\n",
      "pre of p3_7\n",
      " else -> Not(Var(0) == C)\n",
      "\n",
      "post of p3_7\n",
      " else ->\n",
      "\t if -> Var(0) == C\n",
      "\t then ->\n",
      "\t\t else -> False\n",
      "\t else ->\n",
      "\t\t if -> And(Not(Var(0) == C), Not(Var(0) == A))\n",
      "\t\t then ->\n",
      "\t\t\t else -> True\n",
      "\t\t else ->\n",
      "\t\t\t else -> True\n",
      "\n",
      "set of p2_334\n",
      " else -> Not(And(Not(Var(0) == C), Not(Var(0) == A)))\n",
      "\n",
      "pre of p2_334\n",
      " else -> Var(0) == C\n",
      "\n",
      "post of p2_334\n",
      " A ->\n",
      "\t else -> False\n",
      " B ->\n",
      "\t else -> False\n",
      " C ->\n",
      "\t else -> And(Not(Var(0) == C), Var(0) == A)\n",
      " else ->\n",
      "\t else -> Var(0) == C\n",
      "\n",
      "set of p1_331\n",
      " else -> Not(And(Not(Var(0) == C), Not(Var(0) == A)))\n",
      "\n",
      "pre of p1_331\n",
      " else -> Var(0) == C\n",
      "\n",
      "post of p1_331\n",
      " A ->\n",
      "\t else -> False\n",
      " B ->\n",
      "\t else -> False\n",
      " C ->\n",
      "\t else -> And(Not(Var(0) == C), Var(0) == A)\n",
      " else ->\n",
      "\t else -> Var(0) == C\n",
      "\n",
      "set of q_337\n",
      " else -> True\n",
      "\n",
      "pre of q_337\n",
      " else -> Not(Var(0) == C)\n",
      "\n",
      "post of q_337\n",
      " else ->\n",
      "\t if -> Var(0) == C\n",
      "\t then ->\n",
      "\t\t else -> False\n",
      "\t else ->\n",
      "\t\t if -> And(Not(Var(0) == C), Not(Var(0) == A))\n",
      "\t\t then ->\n",
      "\t\t\t else -> True\n",
      "\t\t else ->\n",
      "\t\t\t else -> True\n",
      "\n"
     ]
    }
   ],
   "source": [
    "title = \"P41 (p1;p2)||q ⊆ (p1, p2)||q\"\n",
    "p1, p2, q = progs(s, 'p1 p2 q')\n",
    "s.add(+p1, +p2, +p3)\n",
    "conclude(s, (p1 ^ p2) | q <= NAtom(p1, p2, q), title)"
   ]
  },
  {
   "cell_type": "code",
   "execution_count": 8,
   "metadata": {},
   "outputs": [
    {
     "name": "stdout",
     "output_type": "stream",
     "text": [
      "\u001b[33mP42 p1;(p2||q) ⊆ (p1, p2)||q\u001b[0m\n",
      "\u001b[33mUniverse = U, has 3 element(s)\u001b[0m\n",
      "\u001b[31mUnholds: sat\u001b[0m\n",
      "set of p3_7\n",
      " else -> And(Not(Var(0) == A), Not(Var(0) == B))\n",
      "\n",
      "pre of p3_7\n",
      " else -> And(Not(Var(0) == A), Not(Var(0) == B))\n",
      "\n",
      "post of p3_7\n",
      " A ->\n",
      "\t else -> False\n",
      " C ->\n",
      "\t else -> And(Not(Var(0) == A), Not(Var(0) == B))\n",
      " else ->\n",
      "\t else -> False\n",
      "\n",
      "set of q_404\n",
      " else -> True\n",
      "\n",
      "pre of q_404\n",
      " else -> Not(And(Not(Var(0) == A), Not(Var(0) == B)))\n",
      "\n",
      "post of q_404\n",
      " A ->\n",
      "\t else -> Not(And(Not(Var(0) == A), Var(0) == B))\n",
      " else ->\n",
      "\t else -> False\n",
      "\n",
      "set of p1_398\n",
      " else -> And(Not(Var(0) == A), Not(Var(0) == B))\n",
      "\n",
      "pre of p1_398\n",
      " else -> And(Not(Var(0) == A), Not(Var(0) == B))\n",
      "\n",
      "post of p1_398\n",
      " A ->\n",
      "\t else -> False\n",
      " C ->\n",
      "\t else -> And(Not(Var(0) == A), Not(Var(0) == B))\n",
      " else ->\n",
      "\t else -> False\n",
      "\n",
      "set of p2_401\n",
      " else -> And(Not(Var(0) == A), Not(Var(0) == B))\n",
      "\n",
      "pre of p2_401\n",
      " else -> And(Not(Var(0) == A), Not(Var(0) == B))\n",
      "\n",
      "post of p2_401\n",
      " A ->\n",
      "\t else -> False\n",
      " C ->\n",
      "\t else -> And(Not(Var(0) == A), Not(Var(0) == B))\n",
      " else ->\n",
      "\t else -> False\n",
      "\n"
     ]
    }
   ],
   "source": [
    "title = \"P42 p1;(p2||q) ⊆ (p1, p2)||q\"\n",
    "p1, p2, q = progs(s, 'p1 p2 q')\n",
    "s.add(+p1, +p2, +p3)\n",
    "conclude(s, p1 ^ (p2 & q) <= NAtom(p1, p2, q), title)"
   ]
  },
  {
   "cell_type": "code",
   "execution_count": 9,
   "metadata": {},
   "outputs": [
    {
     "name": "stdout",
     "output_type": "stream",
     "text": [
      "\u001b[33mP43 = (p||q1);q2 ⊆ p||(q1,q2)\u001b[0m\n",
      "\u001b[33mUniverse = U, has 3 element(s)\u001b[0m\n",
      "\u001b[31mUnholds: sat\u001b[0m\n",
      "set of q1_475\n",
      " else -> True\n",
      "\n",
      "pre of q1_475\n",
      " else -> And(Not(Var(0) == C), Var(0) == A)\n",
      "\n",
      "post of q1_475\n",
      " A ->\n",
      "\t else -> Not(And(Not(Var(0) == C), Not(Var(0) == A)))\n",
      " B ->\n",
      "\t else -> False\n",
      " C ->\n",
      "\t else -> False\n",
      " else ->\n",
      "\t else -> And(Not(Var(0) == C), Not(Var(0) == A))\n",
      "\n",
      "set of p_472\n",
      " else -> And(Not(Var(0) == C), Not(Var(0) == A))\n",
      "\n",
      "pre of p_472\n",
      " else -> And(Not(Var(0) == C), Not(Var(0) == A))\n",
      "\n",
      "post of p_472\n",
      " A ->\n",
      "\t else -> False\n",
      " C ->\n",
      "\t else -> False\n",
      " else ->\n",
      "\t else -> And(Not(Var(0) == C), Not(Var(0) == A))\n",
      "\n",
      "set of q2_478\n",
      " else -> Not(Var(0) == C)\n",
      "\n",
      "pre of q2_478\n",
      " else -> Not(Var(0) == C)\n",
      "\n",
      "post of q2_478\n",
      " A ->\n",
      "\t else -> And(Not(Var(0) == C), Not(Var(0) == A))\n",
      " B ->\n",
      "\t else -> And(Not(Var(0) == C), Not(Var(0) == A))\n",
      " C ->\n",
      "\t else -> False\n",
      " else ->\n",
      "\t else -> And(Not(Var(0) == C), Not(Var(0) == A))\n",
      "\n"
     ]
    }
   ],
   "source": [
    "title = \"P43 = (p||q1);q2 ⊆ p||(q1,q2)\"\n",
    "p, q1, q2 = progs(s, 'p q1 q2')\n",
    "s.add(+p, +q1, +q2)\n",
    "conclude(s, (p & q1) ^ q2 <= NAtom(q1, q2, p), title)"
   ]
  }
 ],
 "metadata": {
  "kernelspec": {
   "display_name": "Python 3",
   "language": "python",
   "name": "python3"
  },
  "language_info": {
   "codemirror_mode": {
    "name": "ipython",
    "version": 3
   },
   "file_extension": ".py",
   "mimetype": "text/x-python",
   "name": "python",
   "nbconvert_exporter": "python",
   "pygments_lexer": "ipython3",
   "version": "3.6.2"
  }
 },
 "nbformat": 4,
 "nbformat_minor": 2
}
