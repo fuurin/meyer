{
 "cells": [
  {
   "cell_type": "markdown",
   "metadata": {},
   "source": [
    "## 非原子並列に関する定理"
   ]
  },
  {
   "cell_type": "code",
   "execution_count": 1,
   "metadata": {
    "collapsed": true,
    "scrolled": true
   },
   "outputs": [],
   "source": [
    "from z3 import Solver, ForAll, Exists, Not, And, Or, Implies\n",
    "from meyer.program import conclude, progs\n",
    "from meyer.equivalence import eq\n",
    "from meyer.feasibility import feasible\n",
    "from meyer.refinement import is_ref_of\n",
    "from meyer.basic_constructs import Choi, Comp\n",
    "from meyer.concurrency import Atom, NAtom\n",
    "s = Solver()"
   ]
  },
  {
   "cell_type": "code",
   "execution_count": 2,
   "metadata": {},
   "outputs": [
    {
     "name": "stdout",
     "output_type": "stream",
     "text": [
      "\u001b[33mP40 (p1, p2) || q = (q;p1;p2)∪(p1;q;p2)∪(p1;p2;q)\n",
      "Universe = U, has 3 element(s)\u001b[0m\n",
      "\u001b[31mUnholds: sat\u001b[0m\n",
      "set of p2,_4\n",
      " else -> Var(0) == A\n",
      "\n",
      "pre of p2,_4\n",
      " else -> Var(0) == A\n",
      "\n",
      "post of p2,_4\n",
      " else ->\n",
      "\t if -> And(Not(Var(0) == A), Var(0) == C)\n",
      "\t then ->\n",
      "\t\t else -> False\n",
      "\t else ->\n",
      "\t\t else -> False\n",
      "\n",
      "set of q_7\n",
      " else -> True\n",
      "\n",
      "pre of q_7\n",
      " else -> Not(Var(0) == A)\n",
      "\n",
      "post of q_7\n",
      " else ->\n",
      "\t if -> And(Not(Var(0) == A), Var(0) == C)\n",
      "\t then ->\n",
      "\t\t else -> Not(And(Not(Var(0) == A), Var(0) == C))\n",
      "\t else ->\n",
      "\t\t if -> And(Not(Var(0) == A), Not(Var(0) == C))\n",
      "\t\t then ->\n",
      "\t\t\t else -> False\n",
      "\t\t else ->\n",
      "\t\t\t else -> False\n",
      "\n",
      "set of p1,_1\n",
      " else -> Not(And(Not(Var(0) == A), Not(Var(0) == C)))\n",
      "\n",
      "pre of p1,_1\n",
      " else -> Var(0) == A\n",
      "\n",
      "post of p1,_1\n",
      " else ->\n",
      "\t if -> And(Not(Var(0) == A), Var(0) == C)\n",
      "\t then ->\n",
      "\t\t else -> And(Not(Var(0) == A), Var(0) == C)\n",
      "\t else ->\n",
      "\t\t if -> And(Not(Var(0) == A), Not(Var(0) == C))\n",
      "\t\t then ->\n",
      "\t\t\t else -> False\n",
      "\t\t else ->\n",
      "\t\t\t else -> False\n",
      "\n"
     ]
    }
   ],
   "source": [
    "title = \"P40 (p1, p2) || q = (q;p1;p2)∪(p1;q;p2)∪(p1;p2;q)\"\n",
    "p1, p2, q = progs(s, 'p1, p2, q')\n",
    "lhs = NAtom(p1, p2, q)\n",
    "# s.add(feasible([p1,p2,q], True)) # This makes hold\n",
    "# rhs = Choi(Choi(Comp(q, Comp(p1,p2)), Comp(p1, Comp(q,p2))), Comp(p1, Comp(p2,q))) # unknown\n",
    "rhs = Choi(Choi(Comp(Comp(q, p1), p2), Comp(Comp(p1, q), p2)), Comp(Comp(p1, p2), q)) # counter example\n",
    "conclude(s, eq(lhs, rhs), title)"
   ]
  },
  {
   "cell_type": "code",
   "execution_count": 8,
   "metadata": {},
   "outputs": [
    {
     "name": "stdout",
     "output_type": "stream",
     "text": [
      "\u001b[33mP41 (p1;p2)||p ⊆ (p1, p2)||q\n",
      "Universe = U, has 3 element(s)\u001b[0m\n",
      "\u001b[31mUnholds: unknown\u001b[0m\n",
      "smt tactic failed to show goal to be sat/unsat (incomplete quantifiers) \n",
      "\n"
     ]
    }
   ],
   "source": [
    "title = \"P41 (p1;p2)||q ⊆ (p1, p2)||q\"\n",
    "p1, p2, q = progs(s, 'p1 p2 q')\n",
    "# s.add(feasible([p1,p2,q], True)) # Still unknown\n",
    "lhs = Atom(Comp(p1, p2), q)\n",
    "rhs = NAtom(p1, p2, q)\n",
    "conclude(s, is_ref_of(lhs, rhs), title)"
   ]
  },
  {
   "cell_type": "code",
   "execution_count": 13,
   "metadata": {},
   "outputs": [
    {
     "name": "stdout",
     "output_type": "stream",
     "text": [
      "\u001b[33mP42 p1;(p2||q) ⊆ (p1, p2)||q\n",
      "Universe = U, has 3 element(s)\u001b[0m\n",
      "\u001b[31mUnholds: sat\u001b[0m\n",
      "set of p1_571\n",
      " else -> True\n",
      "\n",
      "pre of p1_571\n",
      " else -> And(Not(Var(0) == A), Not(Var(0) == C))\n",
      "\n",
      "post of p1_571\n",
      " A ->\n",
      "\t else -> False\n",
      " B ->\n",
      "\t else -> True\n",
      " C ->\n",
      "\t else -> True\n",
      " else ->\n",
      "\t C -> False\n",
      "\t else -> True\n",
      "\n",
      "set of p2_574\n",
      " else -> True\n",
      "\n",
      "pre of p2_574\n",
      " else -> True\n",
      "\n",
      "post of p2_574\n",
      " B ->\n",
      "\t else -> True\n",
      " else ->\n",
      "\t C -> False\n",
      "\t else -> True\n",
      "\n",
      "set of q_577\n",
      " else -> True\n",
      "\n",
      "pre of q_577\n",
      " else -> And(Not(Var(0) == A), Var(0) == C)\n",
      "\n",
      "post of q_577\n",
      " B ->\n",
      "\t else -> False\n",
      " C ->\n",
      "\t else -> True\n",
      " else ->\n",
      "\t C -> False\n",
      "\t else -> True\n",
      "\n"
     ]
    }
   ],
   "source": [
    "title = \"P42 p1;(p2||q) ⊆ (p1, p2)||q\"\n",
    "p1, p2, q = progs(s, 'p1 p2 q')\n",
    "s.add(feasible([p1,p2,q])) # counter example\n",
    "lhs = Comp(p1, Atom(p2, q))\n",
    "rhs = NAtom(p1, p2, q)\n",
    "conclude(s, is_ref_of(lhs, rhs), title)"
   ]
  },
  {
   "cell_type": "code",
   "execution_count": null,
   "metadata": {},
   "outputs": [
    {
     "name": "stdout",
     "output_type": "stream",
     "text": [
      "\u001b[33mP43 = (p||q1);q2 ⊆ p||(q1,q2) Non Atomic Concurrency?\n",
      "Universe = U, has 3 element(s)\u001b[0m\n",
      "\u001b[31mUnholds: sat\u001b[0m\n",
      "set of p_667\n",
      " else -> And(Not(Var(0) == C), Not(Var(0) == B))\n",
      "\n",
      "pre of p_667\n",
      " else -> And(Not(Var(0) == C), Not(Var(0) == B))\n",
      "\n",
      "post of p_667\n",
      " else ->\n",
      "\t if -> Var(0) == C\n",
      "\t then ->\n",
      "\t\t else -> False\n",
      "\t else ->\n",
      "\t\t if -> And(Not(Var(0) == C), Var(0) == B)\n",
      "\t\t then ->\n",
      "\t\t\t else -> False\n",
      "\t\t else ->\n",
      "\t\t\t A -> True\n",
      "\t\t\t else -> False\n",
      "\n",
      "set of q2_673\n",
      " else -> True\n",
      "\n",
      "pre of q2_673\n",
      " else -> Not(And(Not(Var(0) == C), Var(0) == B))\n",
      "\n",
      "post of q2_673\n",
      " A ->\n",
      "\t else -> True\n",
      " B ->\n",
      "\t else -> True\n",
      " C ->\n",
      "\t else -> True\n",
      " else ->\n",
      "\t else -> False\n",
      "\n",
      "set of q1_670\n",
      " else -> "
     ]
    }
   ],
   "source": [
    "title = \"P43 = (p||q1);q2 ⊆ p||(q1,q2) Non Atomic Concurrency?\"\n",
    "p, q1, q2 = progs(s, 'p q1 q2')\n",
    "s.add(feasible([p,q1,q2])) # counter example\n",
    "lhs = Comp(Atom(p, q1), q2)\n",
    "rhs = NAtom(q1, q2, p) # Is this correct?\n",
    "conclude(s, is_ref_of(lhs, rhs), title)"
   ]
  }
 ],
 "metadata": {
  "kernelspec": {
   "display_name": "Python 3",
   "language": "python",
   "name": "python3"
  },
  "language_info": {
   "codemirror_mode": {
    "name": "ipython",
    "version": 3
   },
   "file_extension": ".py",
   "mimetype": "text/x-python",
   "name": "python",
   "nbconvert_exporter": "python",
   "pygments_lexer": "ipython3",
   "version": "3.6.2"
  }
 },
 "nbformat": 4,
 "nbformat_minor": 2
}
