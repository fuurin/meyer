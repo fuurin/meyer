{
 "cells": [
  {
   "cell_type": "markdown",
   "metadata": {},
   "source": [
    "## 非原子並列に関する定理"
   ]
  },
  {
   "cell_type": "code",
   "execution_count": 1,
   "metadata": {
    "collapsed": true,
    "scrolled": true
   },
   "outputs": [],
   "source": [
    "from z3 import Solver, ForAll, Exists, Not, And, Or, Implies\n",
    "from meyer.program import conclude, progs\n",
    "from meyer.equivalence import eq\n",
    "from meyer.feasibility import feasible\n",
    "from meyer.refinement import is_ref_of\n",
    "from meyer.basic_constructs import Choi, Comp\n",
    "from meyer.concurrency import Atom, NAtom\n",
    "s = Solver()"
   ]
  },
  {
   "cell_type": "markdown",
   "metadata": {},
   "source": [
    "連打すればUnknown直ったりする"
   ]
  },
  {
   "cell_type": "code",
   "execution_count": 2,
   "metadata": {},
   "outputs": [
    {
     "name": "stdout",
     "output_type": "stream",
     "text": [
      "\u001b[33mP40 (p1, p2) || q = (q;p1;p2)∪(p1;q;p2)∪(p1;p2;q)\n",
      "Universe = U, has 3 element(s)\u001b[0m\n",
      "\u001b[36mHolds: unsat\u001b[0m \n",
      "\n"
     ]
    }
   ],
   "source": [
    "title = \"P40 (p1, p2) || q = (q;p1;p2)∪(p1;q;p2)∪(p1;p2;q)\"\n",
    "p1, p2, q = progs(s, 'p1, p2, q')\n",
    "lhs = NAtom(p1, p2, q)\n",
    "s.add(feasible(p1,p2,q, strong=True)) # This makes hold\n",
    "# rhs = Choi(Choi(Comp(q, Comp(p1,p2)), Comp(p1, Comp(q,p2))), Comp(p1, Comp(p2,q))) # unknown\n",
    "rhs = Choi(Choi(Comp(Comp(q, p1), p2), Comp(Comp(p1, q), p2)), Comp(Comp(p1, p2), q)) # counter example\n",
    "conclude(s, eq(lhs, rhs), title)"
   ]
  },
  {
   "cell_type": "markdown",
   "metadata": {},
   "source": [
    "P41 42 43 strong feasible も効かない"
   ]
  },
  {
   "cell_type": "code",
   "execution_count": 3,
   "metadata": {},
   "outputs": [
    {
     "name": "stdout",
     "output_type": "stream",
     "text": [
      "\u001b[33mP41 (p1;p2)||q ⊆ (p1, p2)||q\n",
      "Universe = U, has 3 element(s)\u001b[0m\n",
      "\u001b[31mUnholds: sat\u001b[0m\n",
      "set of p2_74\n",
      " else -> And(Not(Var(0) == A), Var(0) == C)\n",
      "\n",
      "pre of p2_74\n",
      " else -> And(Not(Var(0) == A), Var(0) == C)\n",
      "\n",
      "post of p2_74\n",
      " else ->\n",
      "\t if -> And(Not(Var(0) == A), Var(0) == C)\n",
      "\t then ->\n",
      "\t\t else -> False\n",
      "\t else ->\n",
      "\t\t else -> False\n",
      "\n",
      "set of p1_70\n",
      " else -> Not(And(Not(Var(0) == A), Var(0) == C))\n",
      "\n",
      "pre of p1_70\n",
      " else -> Not(And(Not(Var(0) == A), Var(0) == C))\n",
      "\n",
      "post of p1_70\n",
      " else ->\n",
      "\t if -> And(Not(Var(0) == A), Not(Var(0) == C))\n",
      "\t then ->\n",
      "\t\t else -> Not(And(Not(Var(0) == A), Var(0) == C))\n",
      "\t else ->\n",
      "\t\t else -> False\n",
      "\n",
      "set of q_78\n",
      " else -> True\n",
      "\n",
      "pre of q_78\n",
      " else -> Not(And(Not(Var(0) == A), Var(0) == C))\n",
      "\n",
      "post of q_78\n",
      " else ->\n",
      "\t else -> And(Not(Var(0) == A), Var(0) == C)\n",
      "\n"
     ]
    }
   ],
   "source": [
    "title = \"P41 (p1;p2)||q ⊆ (p1, p2)||q\"\n",
    "p1, p2, q = progs(s, 'p1 p2 q')\n",
    "lhs = Atom(Comp(p1, p2), q)\n",
    "rhs = NAtom(p1, p2, q)\n",
    "conclude(s, is_ref_of(lhs, rhs), title)"
   ]
  },
  {
   "cell_type": "code",
   "execution_count": 17,
   "metadata": {},
   "outputs": [
    {
     "name": "stdout",
     "output_type": "stream",
     "text": [
      "\u001b[33mP42 p1;(p2||q) ⊆ (p1, p2)||q\n",
      "Universe = U, has 3 element(s)\u001b[0m\n",
      "\u001b[31mUnholds: sat\u001b[0m\n",
      "set of p1_792\n",
      " else -> True\n",
      "\n",
      "pre of p1_792\n",
      " else -> Not(And(Not(Var(0) == C), Var(0) == A))\n",
      "\n",
      "post of p1_792\n",
      " A ->\n",
      "\t else -> True\n",
      " B ->\n",
      "\t else -> True\n",
      " else ->\n",
      "\t else -> And(Not(Var(0) == C), Not(Var(0) == A))\n",
      "\n",
      "set of p2_796\n",
      " else -> Not(Var(0) == C)\n",
      "\n",
      "pre of p2_796\n",
      " else -> And(Not(Var(0) == C), Not(Var(0) == A))\n",
      "\n",
      "post of p2_796\n",
      " else ->\n",
      "\t if -> Var(0) == C\n",
      "\t then ->\n",
      "\t\t else -> False\n",
      "\t else ->\n",
      "\t\t else -> False\n",
      "\n",
      "set of q_800\n",
      " else -> True\n",
      "\n",
      "pre of q_800\n",
      " else -> And(Not(Var(0) == C), Var(0) == A)\n",
      "\n",
      "post of q_800\n",
      " A ->\n",
      "\t else -> True\n",
      " B ->\n",
      "\t else -> Var(0) == C\n",
      " C ->\n",
      "\t else -> False\n",
      " else ->\n",
      "\t else -> And(Not(Var(0) == C), Not(Var(0) == A))\n",
      "\n"
     ]
    }
   ],
   "source": [
    "title = \"P42 p1;(p2||q) ⊆ (p1, p2)||q\"\n",
    "p1, p2, q = progs(s, 'p1 p2 q')\n",
    "lhs = Comp(p1, Atom(p2, q))\n",
    "rhs = NAtom(p1, p2, q)\n",
    "conclude(s, is_ref_of(lhs, rhs), title)"
   ]
  },
  {
   "cell_type": "code",
   "execution_count": 14,
   "metadata": {},
   "outputs": [
    {
     "name": "stdout",
     "output_type": "stream",
     "text": [
      "\u001b[33mP43 = (p||q1);q2 ⊆ p||(q1,q2) Non Atomic Concurrency?\n",
      "Universe = U, has 3 element(s)\u001b[0m\n",
      "\u001b[31mUnholds: sat\u001b[0m\n",
      "set of q1_652\n",
      " else -> Not(And(Not(Var(0) == C), Var(0) == A))\n",
      "\n",
      "pre of q1_652\n",
      " else -> Not(And(Not(Var(0) == C), Var(0) == A))\n",
      "\n",
      "post of q1_652\n",
      " else ->\n",
      "\t if -> Var(0) == C\n",
      "\t then ->\n",
      "\t\t else -> False\n",
      "\t else ->\n",
      "\t\t if -> And(Not(Var(0) == C), Not(Var(0) == A))\n",
      "\t\t then ->\n",
      "\t\t\t else -> And(Not(Var(0) == C), Not(Var(0) == A))\n",
      "\t\t else ->\n",
      "\t\t\t else -> False\n",
      "\n",
      "set of q2_656\n",
      " else -> Not(Var(0) == C)\n",
      "\n",
      "pre of q2_656\n",
      " else -> Not(Var(0) == C)\n",
      "\n",
      "post of q2_656\n",
      " A ->\n",
      "\t else -> False\n",
      " B ->\n",
      "\t else -> And(Not(Var(0) == C), Var(0) == A)\n",
      " C ->\n",
      "\t else -> False\n",
      " else ->\n",
      "\t else -> Not(Var(0) == C)\n",
      "\n",
      "set of p_648\n",
      " else -> Not(And(Not(Var(0) == C), Not(Var(0) == A)))\n",
      "\n",
      "pre of p_648\n",
      " else -> And(Not(Var(0) == C), Var(0) == A)\n",
      "\n",
      "post of p_648\n",
      " A ->\n",
      "\t else -> False\n",
      " B ->\n",
      "\t else -> False\n",
      " C ->\n",
      "\t else -> False\n",
      " else ->\n",
      "\t else -> Not(Var(0) == C)\n",
      "\n"
     ]
    }
   ],
   "source": [
    "title = \"P43 = (p||q1);q2 ⊆ p||(q1,q2) Non Atomic Concurrency?\"\n",
    "p, q1, q2 = progs(s, 'p q1 q2')\n",
    "lhs = Comp(Atom(p, q1), q2)\n",
    "rhs = NAtom(q1, q2, p) # Is this correct?\n",
    "conclude(s, is_ref_of(lhs, rhs), title)"
   ]
  }
 ],
 "metadata": {
  "kernelspec": {
   "display_name": "Python 3",
   "language": "python",
   "name": "python3"
  },
  "language_info": {
   "codemirror_mode": {
    "name": "ipython",
    "version": 3
   },
   "file_extension": ".py",
   "mimetype": "text/x-python",
   "name": "python",
   "nbconvert_exporter": "python",
   "pygments_lexer": "ipython3",
   "version": "3.6.2"
  }
 },
 "nbformat": 4,
 "nbformat_minor": 2
}
